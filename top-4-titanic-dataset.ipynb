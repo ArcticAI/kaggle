{
 "cells": [
  {
   "cell_type": "markdown",
   "metadata": {
    "papermill": {
     "duration": 0.13624,
     "end_time": "2021-08-11T21:38:51.094675",
     "exception": false,
     "start_time": "2021-08-11T21:38:50.958435",
     "status": "completed"
    },
    "tags": []
   },
   "source": [
    "# **Titanic prediction**\n",
    "In this notebook we will try to predict if someone survived to the Titanic. This is my second notebook so any suggestions are welcome. If anyone has any recommendations or tips let me know them in the comments. Enjoy it!"
   ]
  },
  {
   "cell_type": "markdown",
   "metadata": {
    "papermill": {
     "duration": 0.141243,
     "end_time": "2021-08-11T21:38:51.371552",
     "exception": false,
     "start_time": "2021-08-11T21:38:51.230309",
     "status": "completed"
    },
    "tags": []
   },
   "source": [
    "<br>\n",
    "<br>"
   ]
  },
  {
   "cell_type": "markdown",
   "metadata": {
    "papermill": {
     "duration": 0.140181,
     "end_time": "2021-08-11T21:38:51.643990",
     "exception": false,
     "start_time": "2021-08-11T21:38:51.503809",
     "status": "completed"
    },
    "tags": []
   },
   "source": [
    "![](https://i.imgur.com/HEmI1A5.png)"
   ]
  },
  {
   "cell_type": "code",
   "execution_count": 1,
   "metadata": {
    "_kg_hide-input": true,
    "_kg_hide-output": true,
    "execution": {
     "iopub.execute_input": "2021-08-11T21:38:51.935636Z",
     "iopub.status.busy": "2021-08-11T21:38:51.933939Z",
     "iopub.status.idle": "2021-08-11T21:39:06.951053Z",
     "shell.execute_reply": "2021-08-11T21:39:06.951484Z",
     "shell.execute_reply.started": "2021-08-11T18:40:22.639687Z"
    },
    "papermill": {
     "duration": 15.166279,
     "end_time": "2021-08-11T21:39:06.951808",
     "exception": false,
     "start_time": "2021-08-11T21:38:51.785529",
     "status": "completed"
    },
    "tags": []
   },
   "outputs": [
    {
     "name": "stdout",
     "output_type": "stream",
     "text": [
      "Collecting feature-engine\n",
      "  Downloading feature_engine-1.1.1-py2.py3-none-any.whl (179 kB)\n",
      "\u001b[K     |████████████████████████████████| 179 kB 594 kB/s \n",
      "\u001b[?25hRequirement already satisfied: statsmodels>=0.11.1 in /opt/conda/lib/python3.7/site-packages (from feature-engine) (0.12.1)\n",
      "Requirement already satisfied: pandas>=1.0.3 in /opt/conda/lib/python3.7/site-packages (from feature-engine) (1.1.5)\n",
      "Requirement already satisfied: scikit-learn>=0.22.2 in /opt/conda/lib/python3.7/site-packages (from feature-engine) (0.23.2)\n",
      "Requirement already satisfied: scipy>=1.4.1 in /opt/conda/lib/python3.7/site-packages (from feature-engine) (1.4.1)\n",
      "Requirement already satisfied: numpy>=1.18.2 in /opt/conda/lib/python3.7/site-packages (from feature-engine) (1.19.5)\n",
      "Requirement already satisfied: python-dateutil>=2.7.3 in /opt/conda/lib/python3.7/site-packages (from pandas>=1.0.3->feature-engine) (2.8.1)\n",
      "Requirement already satisfied: pytz>=2017.2 in /opt/conda/lib/python3.7/site-packages (from pandas>=1.0.3->feature-engine) (2019.3)\n",
      "Requirement already satisfied: six>=1.5 in /opt/conda/lib/python3.7/site-packages (from python-dateutil>=2.7.3->pandas>=1.0.3->feature-engine) (1.15.0)\n",
      "Requirement already satisfied: threadpoolctl>=2.0.0 in /opt/conda/lib/python3.7/site-packages (from scikit-learn>=0.22.2->feature-engine) (2.1.0)\n",
      "Requirement already satisfied: joblib>=0.11 in /opt/conda/lib/python3.7/site-packages (from scikit-learn>=0.22.2->feature-engine) (1.0.0)\n",
      "Requirement already satisfied: patsy>=0.5 in /opt/conda/lib/python3.7/site-packages (from statsmodels>=0.11.1->feature-engine) (0.5.1)\n",
      "Installing collected packages: feature-engine\n",
      "Successfully installed feature-engine-1.1.1\n",
      "\u001b[33mWARNING: You are using pip version 21.0; however, version 21.2.3 is available.\n",
      "You should consider upgrading via the '/opt/conda/bin/python3.7 -m pip install --upgrade pip' command.\u001b[0m\n",
      "Collecting arcticdata==1.4\n",
      "  Downloading arcticdata-1.4-py3-none-any.whl (7.4 kB)\n",
      "Installing collected packages: arcticdata\n",
      "Successfully installed arcticdata-1.4\n",
      "\u001b[33mWARNING: You are using pip version 21.0; however, version 21.2.3 is available.\n",
      "You should consider upgrading via the '/opt/conda/bin/python3.7 -m pip install --upgrade pip' command.\u001b[0m\n"
     ]
    }
   ],
   "source": [
    "!pip install feature-engine\n",
    "!pip install arcticdata=='1.4'"
   ]
  },
  {
   "cell_type": "code",
   "execution_count": 2,
   "metadata": {
    "_cell_guid": "b1076dfc-b9ad-4769-8c92-a6c4dae69d19",
    "_uuid": "8f2839f25d086af736a60e9eeb907d3b93b6e0e5",
    "execution": {
     "iopub.execute_input": "2021-08-11T21:39:07.142388Z",
     "iopub.status.busy": "2021-08-11T21:39:07.141653Z",
     "iopub.status.idle": "2021-08-11T21:39:08.347146Z",
     "shell.execute_reply": "2021-08-11T21:39:08.346530Z",
     "shell.execute_reply.started": "2021-08-11T20:09:25.049845Z"
    },
    "papermill": {
     "duration": 1.302928,
     "end_time": "2021-08-11T21:39:08.347325",
     "exception": false,
     "start_time": "2021-08-11T21:39:07.044397",
     "status": "completed"
    },
    "tags": []
   },
   "outputs": [
    {
     "name": "stdout",
     "output_type": "stream",
     "text": [
      "/kaggle/input/titanic/train.csv\n",
      "/kaggle/input/titanic/test.csv\n",
      "/kaggle/input/titanic/gender_submission.csv\n"
     ]
    }
   ],
   "source": [
    "import numpy as np\n",
    "import pandas as pd\n",
    "import seaborn as sns\n",
    "import matplotlib.pyplot as plt\n",
    "\n",
    "import arcticdata.ExploratoryDataAnalysis as eda\n",
    "import arcticdata.FeatureEngineering as fe\n",
    "import arcticdata.FeatureSelection as fs\n",
    "\n",
    "import os\n",
    "for dirname, _, filenames in os.walk('/kaggle/input'):\n",
    "    for filename in filenames:\n",
    "        print(os.path.join(dirname, filename))"
   ]
  },
  {
   "cell_type": "markdown",
   "metadata": {
    "papermill": {
     "duration": 0.088651,
     "end_time": "2021-08-11T21:39:08.528435",
     "exception": false,
     "start_time": "2021-08-11T21:39:08.439784",
     "status": "completed"
    },
    "tags": []
   },
   "source": [
    "<br>\n",
    "<br>"
   ]
  },
  {
   "cell_type": "markdown",
   "metadata": {
    "papermill": {
     "duration": 0.091486,
     "end_time": "2021-08-11T21:39:08.708062",
     "exception": false,
     "start_time": "2021-08-11T21:39:08.616576",
     "status": "completed"
    },
    "tags": []
   },
   "source": [
    "![](https://i.imgur.com/N16UsDR.png)\n",
    "Numeric features:\n",
    "   *     PassengerID: Identifier for each passenger. This feature won´t have value for our model  (Continuous)\n",
    "   *     Survived: Survival status of the passenger. 1=Survived 0=Deceased. This is the feature that we need to predict in the test set (Discrete)\n",
    "   *     Pclass: Ticket class. 1=First Class  2=Second Class  3=Third Class  (Discrete)\n",
    "   *     Age: Age of the passenger  (Continuous)\n",
    "   *     SibSp: Number of siblings and spouses aboard  (Discrete)\n",
    "   *     Parch: Number of parents and children aboard  (Discrete)\n",
    "   *     Fare: Ticket Fare  (Continuous)\n",
    "        \n",
    "Categorical features:\n",
    "   * Cabin: Cabin number. (Alphanumeric)\n",
    "   * Embarked: Embarkation port. C=Cherbourg  Q=Queenstown  S=Southampton\n",
    "   * Name: Title and name of the passenger\n",
    "   * Sex: Male or Female\n",
    "   * Ticket: Ticket number (Alphanumeric)"
   ]
  },
  {
   "cell_type": "code",
   "execution_count": 3,
   "metadata": {
    "execution": {
     "iopub.execute_input": "2021-08-11T21:39:08.897950Z",
     "iopub.status.busy": "2021-08-11T21:39:08.897332Z",
     "iopub.status.idle": "2021-08-11T21:39:08.942220Z",
     "shell.execute_reply": "2021-08-11T21:39:08.941746Z",
     "shell.execute_reply.started": "2021-08-11T20:09:25.538128Z"
    },
    "papermill": {
     "duration": 0.142419,
     "end_time": "2021-08-11T21:39:08.942363",
     "exception": false,
     "start_time": "2021-08-11T21:39:08.799944",
     "status": "completed"
    },
    "tags": []
   },
   "outputs": [
    {
     "data": {
      "text/html": [
       "<div>\n",
       "<style scoped>\n",
       "    .dataframe tbody tr th:only-of-type {\n",
       "        vertical-align: middle;\n",
       "    }\n",
       "\n",
       "    .dataframe tbody tr th {\n",
       "        vertical-align: top;\n",
       "    }\n",
       "\n",
       "    .dataframe thead th {\n",
       "        text-align: right;\n",
       "    }\n",
       "</style>\n",
       "<table border=\"1\" class=\"dataframe\">\n",
       "  <thead>\n",
       "    <tr style=\"text-align: right;\">\n",
       "      <th></th>\n",
       "      <th>PassengerId</th>\n",
       "      <th>Survived</th>\n",
       "      <th>Pclass</th>\n",
       "      <th>Name</th>\n",
       "      <th>Sex</th>\n",
       "      <th>Age</th>\n",
       "      <th>SibSp</th>\n",
       "      <th>Parch</th>\n",
       "      <th>Ticket</th>\n",
       "      <th>Fare</th>\n",
       "      <th>Cabin</th>\n",
       "      <th>Embarked</th>\n",
       "    </tr>\n",
       "  </thead>\n",
       "  <tbody>\n",
       "    <tr>\n",
       "      <th>0</th>\n",
       "      <td>1</td>\n",
       "      <td>0</td>\n",
       "      <td>3</td>\n",
       "      <td>Braund, Mr. Owen Harris</td>\n",
       "      <td>male</td>\n",
       "      <td>22.0</td>\n",
       "      <td>1</td>\n",
       "      <td>0</td>\n",
       "      <td>A/5 21171</td>\n",
       "      <td>7.2500</td>\n",
       "      <td>NaN</td>\n",
       "      <td>S</td>\n",
       "    </tr>\n",
       "    <tr>\n",
       "      <th>1</th>\n",
       "      <td>2</td>\n",
       "      <td>1</td>\n",
       "      <td>1</td>\n",
       "      <td>Cumings, Mrs. John Bradley (Florence Briggs Th...</td>\n",
       "      <td>female</td>\n",
       "      <td>38.0</td>\n",
       "      <td>1</td>\n",
       "      <td>0</td>\n",
       "      <td>PC 17599</td>\n",
       "      <td>71.2833</td>\n",
       "      <td>C85</td>\n",
       "      <td>C</td>\n",
       "    </tr>\n",
       "    <tr>\n",
       "      <th>2</th>\n",
       "      <td>3</td>\n",
       "      <td>1</td>\n",
       "      <td>3</td>\n",
       "      <td>Heikkinen, Miss. Laina</td>\n",
       "      <td>female</td>\n",
       "      <td>26.0</td>\n",
       "      <td>0</td>\n",
       "      <td>0</td>\n",
       "      <td>STON/O2. 3101282</td>\n",
       "      <td>7.9250</td>\n",
       "      <td>NaN</td>\n",
       "      <td>S</td>\n",
       "    </tr>\n",
       "  </tbody>\n",
       "</table>\n",
       "</div>"
      ],
      "text/plain": [
       "   PassengerId  Survived  Pclass  \\\n",
       "0            1         0       3   \n",
       "1            2         1       1   \n",
       "2            3         1       3   \n",
       "\n",
       "                                                Name     Sex   Age  SibSp  \\\n",
       "0                            Braund, Mr. Owen Harris    male  22.0      1   \n",
       "1  Cumings, Mrs. John Bradley (Florence Briggs Th...  female  38.0      1   \n",
       "2                             Heikkinen, Miss. Laina  female  26.0      0   \n",
       "\n",
       "   Parch            Ticket     Fare Cabin Embarked  \n",
       "0      0         A/5 21171   7.2500   NaN        S  \n",
       "1      0          PC 17599  71.2833   C85        C  \n",
       "2      0  STON/O2. 3101282   7.9250   NaN        S  "
      ]
     },
     "execution_count": 3,
     "metadata": {},
     "output_type": "execute_result"
    }
   ],
   "source": [
    "train_raw = pd.read_csv('/kaggle/input/titanic/train.csv')\n",
    "test_raw = pd.read_csv('/kaggle/input/titanic/test.csv')\n",
    "train = train_raw.copy()\n",
    "test = test_raw.copy()\n",
    "train.head(3)"
   ]
  },
  {
   "cell_type": "markdown",
   "metadata": {
    "papermill": {
     "duration": 0.092829,
     "end_time": "2021-08-11T21:39:09.128951",
     "exception": false,
     "start_time": "2021-08-11T21:39:09.036122",
     "status": "completed"
    },
    "tags": []
   },
   "source": [
    "<br>\n",
    "<br>"
   ]
  },
  {
   "cell_type": "markdown",
   "metadata": {
    "papermill": {
     "duration": 0.092526,
     "end_time": "2021-08-11T21:39:09.313846",
     "exception": false,
     "start_time": "2021-08-11T21:39:09.221320",
     "status": "completed"
    },
    "tags": []
   },
   "source": [
    "![](https://i.imgur.com/z7cwz70.png)"
   ]
  },
  {
   "cell_type": "markdown",
   "metadata": {
    "papermill": {
     "duration": 0.089772,
     "end_time": "2021-08-11T21:39:09.495281",
     "exception": false,
     "start_time": "2021-08-11T21:39:09.405509",
     "status": "completed"
    },
    "tags": []
   },
   "source": [
    "## Correlations"
   ]
  },
  {
   "cell_type": "code",
   "execution_count": 4,
   "metadata": {
    "execution": {
     "iopub.execute_input": "2021-08-11T21:39:09.683590Z",
     "iopub.status.busy": "2021-08-11T21:39:09.682950Z",
     "iopub.status.idle": "2021-08-11T21:39:10.021402Z",
     "shell.execute_reply": "2021-08-11T21:39:10.020896Z",
     "shell.execute_reply.started": "2021-08-11T20:09:26.237216Z"
    },
    "papermill": {
     "duration": 0.436427,
     "end_time": "2021-08-11T21:39:10.021572",
     "exception": false,
     "start_time": "2021-08-11T21:39:09.585145",
     "status": "completed"
    },
    "tags": []
   },
   "outputs": [
    {
     "data": {
      "image/png": "[encoded data removed]",
      "text/plain": [
       "<Figure size 864x432 with 2 Axes>"
      ]
     },
     "metadata": {
      "needs_background": "light"
     },
     "output_type": "display_data"
    }
   ],
   "source": [
    "eda.corr_plot(train)"
   ]
  },
  {
   "cell_type": "markdown",
   "metadata": {
    "papermill": {
     "duration": 0.093231,
     "end_time": "2021-08-11T21:39:10.208249",
     "exception": false,
     "start_time": "2021-08-11T21:39:10.115018",
     "status": "completed"
    },
    "tags": []
   },
   "source": [
    "<br>\n",
    "<br>"
   ]
  },
  {
   "cell_type": "markdown",
   "metadata": {
    "papermill": {
     "duration": 0.093018,
     "end_time": "2021-08-11T21:39:10.394940",
     "exception": false,
     "start_time": "2021-08-11T21:39:10.301922",
     "status": "completed"
    },
    "tags": []
   },
   "source": [
    "# Missing values"
   ]
  },
  {
   "cell_type": "markdown",
   "metadata": {
    "papermill": {
     "duration": 0.090583,
     "end_time": "2021-08-11T21:39:10.579864",
     "exception": false,
     "start_time": "2021-08-11T21:39:10.489281",
     "status": "completed"
    },
    "tags": []
   },
   "source": [
    "Since the variable 'PassengerId' does not provide any value to our models, we will remove it.\n",
    "\n",
    "Then, we will look at the missing data in training and test set"
   ]
  },
  {
   "cell_type": "code",
   "execution_count": 5,
   "metadata": {
    "execution": {
     "iopub.execute_input": "2021-08-11T21:39:10.774111Z",
     "iopub.status.busy": "2021-08-11T21:39:10.773366Z",
     "iopub.status.idle": "2021-08-11T21:39:11.000417Z",
     "shell.execute_reply": "2021-08-11T21:39:11.000944Z",
     "shell.execute_reply.started": "2021-08-11T20:09:26.880382Z"
    },
    "papermill": {
     "duration": 0.331127,
     "end_time": "2021-08-11T21:39:11.001104",
     "exception": false,
     "start_time": "2021-08-11T21:39:10.669977",
     "status": "completed"
    },
    "tags": []
   },
   "outputs": [
    {
     "data": {
      "text/html": [
       "<div>\n",
       "<style scoped>\n",
       "    .dataframe tbody tr th:only-of-type {\n",
       "        vertical-align: middle;\n",
       "    }\n",
       "\n",
       "    .dataframe tbody tr th {\n",
       "        vertical-align: top;\n",
       "    }\n",
       "\n",
       "    .dataframe thead th {\n",
       "        text-align: right;\n",
       "    }\n",
       "</style>\n",
       "<table border=\"1\" class=\"dataframe\">\n",
       "  <thead>\n",
       "    <tr style=\"text-align: right;\">\n",
       "      <th></th>\n",
       "      <th>Total</th>\n",
       "      <th>Percent</th>\n",
       "    </tr>\n",
       "  </thead>\n",
       "  <tbody>\n",
       "    <tr>\n",
       "      <th>Cabin</th>\n",
       "      <td>687</td>\n",
       "      <td>77.104377</td>\n",
       "    </tr>\n",
       "    <tr>\n",
       "      <th>Age</th>\n",
       "      <td>177</td>\n",
       "      <td>19.865320</td>\n",
       "    </tr>\n",
       "    <tr>\n",
       "      <th>Embarked</th>\n",
       "      <td>2</td>\n",
       "      <td>0.224467</td>\n",
       "    </tr>\n",
       "    <tr>\n",
       "      <th>Fare</th>\n",
       "      <td>0</td>\n",
       "      <td>0.000000</td>\n",
       "    </tr>\n",
       "    <tr>\n",
       "      <th>Ticket</th>\n",
       "      <td>0</td>\n",
       "      <td>0.000000</td>\n",
       "    </tr>\n",
       "  </tbody>\n",
       "</table>\n",
       "</div>"
      ],
      "text/plain": [
       "          Total    Percent\n",
       "Cabin       687  77.104377\n",
       "Age         177  19.865320\n",
       "Embarked      2   0.224467\n",
       "Fare          0   0.000000\n",
       "Ticket        0   0.000000"
      ]
     },
     "execution_count": 5,
     "metadata": {},
     "output_type": "execute_result"
    },
    {
     "data": {
      "image/png": "[encoded data removed]",
      "text/plain": [
       "<Figure size 720x432 with 1 Axes>"
      ]
     },
     "metadata": {
      "needs_background": "light"
     },
     "output_type": "display_data"
    }
   ],
   "source": [
    "ids=test.PassengerId\n",
    "train.drop(columns='PassengerId',inplace=True)\n",
    "test.drop(columns='PassengerId',inplace=True)\n",
    "\n",
    "eda.missing_data(train,percentage=True).head()"
   ]
  },
  {
   "cell_type": "code",
   "execution_count": 6,
   "metadata": {
    "execution": {
     "iopub.execute_input": "2021-08-11T21:39:11.215800Z",
     "iopub.status.busy": "2021-08-11T21:39:11.212915Z",
     "iopub.status.idle": "2021-08-11T21:39:11.390944Z",
     "shell.execute_reply": "2021-08-11T21:39:11.391366Z",
     "shell.execute_reply.started": "2021-08-11T20:09:27.083505Z"
    },
    "papermill": {
     "duration": 0.295086,
     "end_time": "2021-08-11T21:39:11.391522",
     "exception": false,
     "start_time": "2021-08-11T21:39:11.096436",
     "status": "completed"
    },
    "tags": []
   },
   "outputs": [
    {
     "data": {
      "text/html": [
       "<div>\n",
       "<style scoped>\n",
       "    .dataframe tbody tr th:only-of-type {\n",
       "        vertical-align: middle;\n",
       "    }\n",
       "\n",
       "    .dataframe tbody tr th {\n",
       "        vertical-align: top;\n",
       "    }\n",
       "\n",
       "    .dataframe thead th {\n",
       "        text-align: right;\n",
       "    }\n",
       "</style>\n",
       "<table border=\"1\" class=\"dataframe\">\n",
       "  <thead>\n",
       "    <tr style=\"text-align: right;\">\n",
       "      <th></th>\n",
       "      <th>Total</th>\n",
       "      <th>Percent</th>\n",
       "    </tr>\n",
       "  </thead>\n",
       "  <tbody>\n",
       "    <tr>\n",
       "      <th>Cabin</th>\n",
       "      <td>327</td>\n",
       "      <td>78.229665</td>\n",
       "    </tr>\n",
       "    <tr>\n",
       "      <th>Age</th>\n",
       "      <td>86</td>\n",
       "      <td>20.574163</td>\n",
       "    </tr>\n",
       "    <tr>\n",
       "      <th>Fare</th>\n",
       "      <td>1</td>\n",
       "      <td>0.239234</td>\n",
       "    </tr>\n",
       "    <tr>\n",
       "      <th>Embarked</th>\n",
       "      <td>0</td>\n",
       "      <td>0.000000</td>\n",
       "    </tr>\n",
       "    <tr>\n",
       "      <th>Ticket</th>\n",
       "      <td>0</td>\n",
       "      <td>0.000000</td>\n",
       "    </tr>\n",
       "  </tbody>\n",
       "</table>\n",
       "</div>"
      ],
      "text/plain": [
       "          Total    Percent\n",
       "Cabin       327  78.229665\n",
       "Age          86  20.574163\n",
       "Fare          1   0.239234\n",
       "Embarked      0   0.000000\n",
       "Ticket        0   0.000000"
      ]
     },
     "execution_count": 6,
     "metadata": {},
     "output_type": "execute_result"
    },
    {
     "data": {
      "image/png": "[encoded data removed]",
      "text/plain": [
       "<Figure size 720x432 with 1 Axes>"
      ]
     },
     "metadata": {
      "needs_background": "light"
     },
     "output_type": "display_data"
    }
   ],
   "source": [
    "eda.missing_data(test,percentage=True).head()"
   ]
  },
  {
   "cell_type": "markdown",
   "metadata": {
    "papermill": {
     "duration": 0.096224,
     "end_time": "2021-08-11T21:39:11.583254",
     "exception": false,
     "start_time": "2021-08-11T21:39:11.487030",
     "status": "completed"
    },
    "tags": []
   },
   "source": [
    "Missing values may not be missing randomly and their absence may be due to another variable. It is possible that the passenger's cabin or age could not be identified if they didn't survive so we will create a new variable to identify whether or not there was missing data."
   ]
  },
  {
   "cell_type": "markdown",
   "metadata": {
    "papermill": {
     "duration": 0.092702,
     "end_time": "2021-08-11T21:39:11.769340",
     "exception": false,
     "start_time": "2021-08-11T21:39:11.676638",
     "status": "completed"
    },
    "tags": []
   },
   "source": [
    "<br>\n",
    "<br>"
   ]
  },
  {
   "cell_type": "markdown",
   "metadata": {
    "papermill": {
     "duration": 0.096158,
     "end_time": "2021-08-11T21:39:11.959776",
     "exception": false,
     "start_time": "2021-08-11T21:39:11.863618",
     "status": "completed"
    },
    "tags": []
   },
   "source": [
    "# Survived"
   ]
  },
  {
   "cell_type": "code",
   "execution_count": 7,
   "metadata": {
    "execution": {
     "iopub.execute_input": "2021-08-11T21:39:12.161934Z",
     "iopub.status.busy": "2021-08-11T21:39:12.161070Z",
     "iopub.status.idle": "2021-08-11T21:39:12.610407Z",
     "shell.execute_reply": "2021-08-11T21:39:12.609656Z",
     "shell.execute_reply.started": "2021-08-11T20:09:27.665026Z"
    },
    "papermill": {
     "duration": 0.553414,
     "end_time": "2021-08-11T21:39:12.610536",
     "exception": false,
     "start_time": "2021-08-11T21:39:12.057122",
     "status": "completed"
    },
    "tags": []
   },
   "outputs": [
    {
     "name": "stdout",
     "output_type": "stream",
     "text": [
      "The feature Survived is NUMERIC\n",
      "\n",
      "\u001b[32m-Missing values in training set: 0\u001b[0m\n",
      "\u001b[32m-Outliers 1.5*IQR: 0\u001b[0m\n",
      "\u001b[32m-Outliers   3*IQR: 0\u001b[0m\n"
     ]
    },
    {
     "data": {
      "image/png": "[encoded data removed]",
      "text/plain": [
       "<Figure size 1440x360 with 3 Axes>"
      ]
     },
     "metadata": {
      "needs_background": "light"
     },
     "output_type": "display_data"
    }
   ],
   "source": [
    "eda.feature_analysis(train,\"Survived\",test,\"Survived\")"
   ]
  },
  {
   "cell_type": "code",
   "execution_count": 8,
   "metadata": {
    "execution": {
     "iopub.execute_input": "2021-08-11T21:39:12.825972Z",
     "iopub.status.busy": "2021-08-11T21:39:12.809675Z",
     "iopub.status.idle": "2021-08-11T21:39:12.943412Z",
     "shell.execute_reply": "2021-08-11T21:39:12.942931Z",
     "shell.execute_reply.started": "2021-08-11T20:09:28.101693Z"
    },
    "papermill": {
     "duration": 0.235427,
     "end_time": "2021-08-11T21:39:12.943560",
     "exception": false,
     "start_time": "2021-08-11T21:39:12.708133",
     "status": "completed"
    },
    "tags": []
   },
   "outputs": [
    {
     "data": {
      "text/html": [
       "<div>\n",
       "<style scoped>\n",
       "    .dataframe tbody tr th:only-of-type {\n",
       "        vertical-align: middle;\n",
       "    }\n",
       "\n",
       "    .dataframe tbody tr th {\n",
       "        vertical-align: top;\n",
       "    }\n",
       "\n",
       "    .dataframe thead th {\n",
       "        text-align: right;\n",
       "    }\n",
       "</style>\n",
       "<table border=\"1\" class=\"dataframe\">\n",
       "  <thead>\n",
       "    <tr style=\"text-align: right;\">\n",
       "      <th></th>\n",
       "      <th>Total</th>\n",
       "      <th>Percent</th>\n",
       "    </tr>\n",
       "  </thead>\n",
       "  <tbody>\n",
       "    <tr>\n",
       "      <th>0</th>\n",
       "      <td>549</td>\n",
       "      <td>61.616162</td>\n",
       "    </tr>\n",
       "    <tr>\n",
       "      <th>1</th>\n",
       "      <td>342</td>\n",
       "      <td>38.383838</td>\n",
       "    </tr>\n",
       "  </tbody>\n",
       "</table>\n",
       "</div>"
      ],
      "text/plain": [
       "   Total    Percent\n",
       "0    549  61.616162\n",
       "1    342  38.383838"
      ]
     },
     "execution_count": 8,
     "metadata": {},
     "output_type": "execute_result"
    },
    {
     "data": {
      "image/png": "[encoded data removed]",
      "text/plain": [
       "<Figure size 720x432 with 1 Axes>"
      ]
     },
     "metadata": {
      "needs_background": "light"
     },
     "output_type": "display_data"
    }
   ],
   "source": [
    "eda.value_counts(train.Survived, percentage=True)"
   ]
  },
  {
   "cell_type": "markdown",
   "metadata": {
    "papermill": {
     "duration": 0.099508,
     "end_time": "2021-08-11T21:39:13.141893",
     "exception": false,
     "start_time": "2021-08-11T21:39:13.042385",
     "status": "completed"
    },
    "tags": []
   },
   "source": [
    "**38.38%** of the passengers survived while the other **61.62%** did not"
   ]
  },
  {
   "cell_type": "markdown",
   "metadata": {
    "papermill": {
     "duration": 0.097496,
     "end_time": "2021-08-11T21:39:13.337625",
     "exception": false,
     "start_time": "2021-08-11T21:39:13.240129",
     "status": "completed"
    },
    "tags": []
   },
   "source": [
    "<br>\n",
    "<br>"
   ]
  },
  {
   "cell_type": "markdown",
   "metadata": {
    "papermill": {
     "duration": 0.097613,
     "end_time": "2021-08-11T21:39:13.532963",
     "exception": false,
     "start_time": "2021-08-11T21:39:13.435350",
     "status": "completed"
    },
    "tags": []
   },
   "source": [
    "# Pclass"
   ]
  },
  {
   "cell_type": "code",
   "execution_count": 9,
   "metadata": {
    "execution": {
     "iopub.execute_input": "2021-08-11T21:39:13.733295Z",
     "iopub.status.busy": "2021-08-11T21:39:13.731997Z",
     "iopub.status.idle": "2021-08-11T21:39:14.163008Z",
     "shell.execute_reply": "2021-08-11T21:39:14.162579Z",
     "shell.execute_reply.started": "2021-08-11T20:09:29.675982Z"
    },
    "papermill": {
     "duration": 0.533991,
     "end_time": "2021-08-11T21:39:14.163135",
     "exception": false,
     "start_time": "2021-08-11T21:39:13.629144",
     "status": "completed"
    },
    "tags": []
   },
   "outputs": [
    {
     "name": "stdout",
     "output_type": "stream",
     "text": [
      "The feature Pclass is NUMERIC\n",
      "\n",
      "\u001b[32m-Missing values in training set: 0\u001b[0m\n",
      "\u001b[32m-Missing values in test set    : 0\u001b[0m\n",
      "\u001b[32m-Outliers 1.5*IQR: 0\u001b[0m\n",
      "\u001b[32m-Outliers   3*IQR: 0\u001b[0m\n"
     ]
    },
    {
     "data": {
      "image/png": "[encoded data removed]",
      "text/plain": [
       "<Figure size 1440x360 with 3 Axes>"
      ]
     },
     "metadata": {
      "needs_background": "light"
     },
     "output_type": "display_data"
    }
   ],
   "source": [
    "eda.feature_analysis(train,\"Pclass\",test,\"Survived\")"
   ]
  },
  {
   "cell_type": "code",
   "execution_count": 10,
   "metadata": {
    "execution": {
     "iopub.execute_input": "2021-08-11T21:39:14.372221Z",
     "iopub.status.busy": "2021-08-11T21:39:14.363029Z",
     "iopub.status.idle": "2021-08-11T21:39:14.481564Z",
     "shell.execute_reply": "2021-08-11T21:39:14.481082Z",
     "shell.execute_reply.started": "2021-08-11T20:09:30.130762Z"
    },
    "papermill": {
     "duration": 0.222889,
     "end_time": "2021-08-11T21:39:14.481678",
     "exception": false,
     "start_time": "2021-08-11T21:39:14.258789",
     "status": "completed"
    },
    "tags": []
   },
   "outputs": [
    {
     "data": {
      "text/html": [
       "<div>\n",
       "<style scoped>\n",
       "    .dataframe tbody tr th:only-of-type {\n",
       "        vertical-align: middle;\n",
       "    }\n",
       "\n",
       "    .dataframe tbody tr th {\n",
       "        vertical-align: top;\n",
       "    }\n",
       "\n",
       "    .dataframe thead th {\n",
       "        text-align: right;\n",
       "    }\n",
       "</style>\n",
       "<table border=\"1\" class=\"dataframe\">\n",
       "  <thead>\n",
       "    <tr style=\"text-align: right;\">\n",
       "      <th></th>\n",
       "      <th>Total</th>\n",
       "      <th>Percent</th>\n",
       "    </tr>\n",
       "  </thead>\n",
       "  <tbody>\n",
       "    <tr>\n",
       "      <th>3</th>\n",
       "      <td>491</td>\n",
       "      <td>55.106622</td>\n",
       "    </tr>\n",
       "    <tr>\n",
       "      <th>1</th>\n",
       "      <td>216</td>\n",
       "      <td>24.242424</td>\n",
       "    </tr>\n",
       "    <tr>\n",
       "      <th>2</th>\n",
       "      <td>184</td>\n",
       "      <td>20.650954</td>\n",
       "    </tr>\n",
       "  </tbody>\n",
       "</table>\n",
       "</div>"
      ],
      "text/plain": [
       "   Total    Percent\n",
       "3    491  55.106622\n",
       "1    216  24.242424\n",
       "2    184  20.650954"
      ]
     },
     "execution_count": 10,
     "metadata": {},
     "output_type": "execute_result"
    },
    {
     "data": {
      "image/png": "[encoded data removed]",
      "text/plain": [
       "<Figure size 720x432 with 1 Axes>"
      ]
     },
     "metadata": {
      "needs_background": "light"
     },
     "output_type": "display_data"
    }
   ],
   "source": [
    "eda.value_counts(train.Pclass,percentage=True)"
   ]
  },
  {
   "cell_type": "markdown",
   "metadata": {
    "papermill": {
     "duration": 0.093019,
     "end_time": "2021-08-11T21:39:14.668736",
     "exception": false,
     "start_time": "2021-08-11T21:39:14.575717",
     "status": "completed"
    },
    "tags": []
   },
   "source": [
    "Most of the passengers were of a lower socio-economic class and therefore traveled in third class. "
   ]
  },
  {
   "cell_type": "code",
   "execution_count": 11,
   "metadata": {
    "execution": {
     "iopub.execute_input": "2021-08-11T21:39:14.977821Z",
     "iopub.status.busy": "2021-08-11T21:39:14.975862Z",
     "iopub.status.idle": "2021-08-11T21:39:15.176353Z",
     "shell.execute_reply": "2021-08-11T21:39:15.177094Z",
     "shell.execute_reply.started": "2021-08-11T20:09:30.282906Z"
    },
    "papermill": {
     "duration": 0.414727,
     "end_time": "2021-08-11T21:39:15.177296",
     "exception": false,
     "start_time": "2021-08-11T21:39:14.762569",
     "status": "completed"
    },
    "tags": []
   },
   "outputs": [
    {
     "name": "stdout",
     "output_type": "stream",
     "text": [
      "   Pclass  Survived\n",
      "0       1  0.629630\n",
      "1       2  0.472826\n",
      "2       3  0.242363\n"
     ]
    },
    {
     "data": {
      "image/png": "[encoded data removed]",
      "text/plain": [
       "<Figure size 864x432 with 1 Axes>"
      ]
     },
     "metadata": {
      "needs_background": "light"
     },
     "output_type": "display_data"
    }
   ],
   "source": [
    "def get_survivors(x):\n",
    "    print(train[[x,\"Survived\"]].groupby([x],as_index=False).mean())\n",
    "    fig, ax = plt.subplots(figsize=(12,6))\n",
    "    sns.barplot(x=x,y=\"Survived\",data=train,ax=ax,palette='colorblind')\n",
    "    ax.spines[\"top\"].set_visible(False)\n",
    "    ax.spines[\"right\"].set_visible(False)\n",
    "\n",
    "get_survivors(\"Pclass\")"
   ]
  },
  {
   "cell_type": "markdown",
   "metadata": {
    "papermill": {
     "duration": 0.094498,
     "end_time": "2021-08-11T21:39:15.366233",
     "exception": false,
     "start_time": "2021-08-11T21:39:15.271735",
     "status": "completed"
    },
    "tags": []
   },
   "source": [
    "We can see how about **60%** of first class passengers survived while only about **25%** of third class passengers survived."
   ]
  },
  {
   "cell_type": "markdown",
   "metadata": {
    "papermill": {
     "duration": 0.093335,
     "end_time": "2021-08-11T21:39:15.553544",
     "exception": false,
     "start_time": "2021-08-11T21:39:15.460209",
     "status": "completed"
    },
    "tags": []
   },
   "source": [
    "<br>\n",
    "<br>"
   ]
  },
  {
   "cell_type": "markdown",
   "metadata": {
    "papermill": {
     "duration": 0.094246,
     "end_time": "2021-08-11T21:39:15.741907",
     "exception": false,
     "start_time": "2021-08-11T21:39:15.647661",
     "status": "completed"
    },
    "tags": []
   },
   "source": [
    "# Name\n",
    "The first thing we notice about this variable is its high cardinality, which does not add any value to the model, so we must first reduce this cardinality to keep the important information."
   ]
  },
  {
   "cell_type": "code",
   "execution_count": 12,
   "metadata": {
    "execution": {
     "iopub.execute_input": "2021-08-11T21:39:15.935947Z",
     "iopub.status.busy": "2021-08-11T21:39:15.935082Z",
     "iopub.status.idle": "2021-08-11T21:39:15.944326Z",
     "shell.execute_reply": "2021-08-11T21:39:15.943726Z",
     "shell.execute_reply.started": "2021-08-11T20:09:30.837231Z"
    },
    "papermill": {
     "duration": 0.108255,
     "end_time": "2021-08-11T21:39:15.944482",
     "exception": false,
     "start_time": "2021-08-11T21:39:15.836227",
     "status": "completed"
    },
    "tags": []
   },
   "outputs": [
    {
     "name": "stdout",
     "output_type": "stream",
     "text": [
      "The feature Name is CATEGORICAL\n",
      "\n",
      "\u001b[31m-Cardinality: 891\u001b[0m\n",
      "\u001b[32m-Missing values in training set: 0\u001b[0m\n",
      "\u001b[32m-Missing values in test set    : 0\u001b[0m\n",
      "\u001b[31m-THE CARDINALITY IS TOO BIG\u001b[0m\n"
     ]
    }
   ],
   "source": [
    "eda.feature_analysis(train,\"Name\",test,\"Survived\")"
   ]
  },
  {
   "cell_type": "code",
   "execution_count": 13,
   "metadata": {
    "execution": {
     "iopub.execute_input": "2021-08-11T21:39:16.141782Z",
     "iopub.status.busy": "2021-08-11T21:39:16.141047Z",
     "iopub.status.idle": "2021-08-11T21:39:16.159788Z",
     "shell.execute_reply": "2021-08-11T21:39:16.159142Z",
     "shell.execute_reply.started": "2021-08-11T20:09:31.054534Z"
    },
    "papermill": {
     "duration": 0.119359,
     "end_time": "2021-08-11T21:39:16.159939",
     "exception": false,
     "start_time": "2021-08-11T21:39:16.040580",
     "status": "completed"
    },
    "tags": []
   },
   "outputs": [
    {
     "name": "stdout",
     "output_type": "stream",
     "text": [
      "Name cardinality: 891\n",
      "Name cardinality: 17\n"
     ]
    },
    {
     "data": {
      "text/html": [
       "<div>\n",
       "<style scoped>\n",
       "    .dataframe tbody tr th:only-of-type {\n",
       "        vertical-align: middle;\n",
       "    }\n",
       "\n",
       "    .dataframe tbody tr th {\n",
       "        vertical-align: top;\n",
       "    }\n",
       "\n",
       "    .dataframe thead th {\n",
       "        text-align: right;\n",
       "    }\n",
       "</style>\n",
       "<table border=\"1\" class=\"dataframe\">\n",
       "  <thead>\n",
       "    <tr style=\"text-align: right;\">\n",
       "      <th></th>\n",
       "      <th>Survived</th>\n",
       "      <th>Pclass</th>\n",
       "      <th>Name</th>\n",
       "      <th>Sex</th>\n",
       "      <th>Age</th>\n",
       "      <th>SibSp</th>\n",
       "      <th>Parch</th>\n",
       "      <th>Ticket</th>\n",
       "      <th>Fare</th>\n",
       "      <th>Cabin</th>\n",
       "      <th>Embarked</th>\n",
       "    </tr>\n",
       "  </thead>\n",
       "  <tbody>\n",
       "    <tr>\n",
       "      <th>0</th>\n",
       "      <td>0</td>\n",
       "      <td>3</td>\n",
       "      <td>Mr</td>\n",
       "      <td>male</td>\n",
       "      <td>22.0</td>\n",
       "      <td>1</td>\n",
       "      <td>0</td>\n",
       "      <td>A/5 21171</td>\n",
       "      <td>7.2500</td>\n",
       "      <td>NaN</td>\n",
       "      <td>S</td>\n",
       "    </tr>\n",
       "    <tr>\n",
       "      <th>1</th>\n",
       "      <td>1</td>\n",
       "      <td>1</td>\n",
       "      <td>Mrs</td>\n",
       "      <td>female</td>\n",
       "      <td>38.0</td>\n",
       "      <td>1</td>\n",
       "      <td>0</td>\n",
       "      <td>PC 17599</td>\n",
       "      <td>71.2833</td>\n",
       "      <td>C85</td>\n",
       "      <td>C</td>\n",
       "    </tr>\n",
       "    <tr>\n",
       "      <th>2</th>\n",
       "      <td>1</td>\n",
       "      <td>3</td>\n",
       "      <td>Miss</td>\n",
       "      <td>female</td>\n",
       "      <td>26.0</td>\n",
       "      <td>0</td>\n",
       "      <td>0</td>\n",
       "      <td>STON/O2. 3101282</td>\n",
       "      <td>7.9250</td>\n",
       "      <td>NaN</td>\n",
       "      <td>S</td>\n",
       "    </tr>\n",
       "    <tr>\n",
       "      <th>3</th>\n",
       "      <td>1</td>\n",
       "      <td>1</td>\n",
       "      <td>Mrs</td>\n",
       "      <td>female</td>\n",
       "      <td>35.0</td>\n",
       "      <td>1</td>\n",
       "      <td>0</td>\n",
       "      <td>113803</td>\n",
       "      <td>53.1000</td>\n",
       "      <td>C123</td>\n",
       "      <td>S</td>\n",
       "    </tr>\n",
       "    <tr>\n",
       "      <th>4</th>\n",
       "      <td>0</td>\n",
       "      <td>3</td>\n",
       "      <td>Mr</td>\n",
       "      <td>male</td>\n",
       "      <td>35.0</td>\n",
       "      <td>0</td>\n",
       "      <td>0</td>\n",
       "      <td>373450</td>\n",
       "      <td>8.0500</td>\n",
       "      <td>NaN</td>\n",
       "      <td>S</td>\n",
       "    </tr>\n",
       "  </tbody>\n",
       "</table>\n",
       "</div>"
      ],
      "text/plain": [
       "   Survived  Pclass  Name     Sex   Age  SibSp  Parch            Ticket  \\\n",
       "0         0       3    Mr    male  22.0      1      0         A/5 21171   \n",
       "1         1       1   Mrs  female  38.0      1      0          PC 17599   \n",
       "2         1       3  Miss  female  26.0      0      0  STON/O2. 3101282   \n",
       "3         1       1   Mrs  female  35.0      1      0            113803   \n",
       "4         0       3    Mr    male  35.0      0      0            373450   \n",
       "\n",
       "      Fare Cabin Embarked  \n",
       "0   7.2500   NaN        S  \n",
       "1  71.2833   C85        C  \n",
       "2   7.9250   NaN        S  \n",
       "3  53.1000  C123        S  \n",
       "4   8.0500   NaN        S  "
      ]
     },
     "execution_count": 13,
     "metadata": {},
     "output_type": "execute_result"
    }
   ],
   "source": [
    "print('Name cardinality: {}'.format(len(train.Name.unique())))\n",
    "\n",
    "name_status=[]\n",
    "for x in train.Name.to_list():\n",
    "    name_status.append(x.split(\", \")[1].split('.')[0])\n",
    "train['Name']=name_status\n",
    "\n",
    "name_status=[]\n",
    "for x in test.Name.to_list():\n",
    "    name_status.append(x.split(\", \")[1].split('.')[0])\n",
    "test['Name']=name_status\n",
    "print('Name cardinality: {}'.format(len(train.Name.unique())))\n",
    "train.head()"
   ]
  },
  {
   "cell_type": "code",
   "execution_count": 14,
   "metadata": {
    "execution": {
     "iopub.execute_input": "2021-08-11T21:39:16.361891Z",
     "iopub.status.busy": "2021-08-11T21:39:16.361242Z",
     "iopub.status.idle": "2021-08-11T21:39:16.363976Z",
     "shell.execute_reply": "2021-08-11T21:39:16.363553Z",
     "shell.execute_reply.started": "2021-08-11T20:09:31.237009Z"
    },
    "papermill": {
     "duration": 0.106055,
     "end_time": "2021-08-11T21:39:16.364080",
     "exception": false,
     "start_time": "2021-08-11T21:39:16.258025",
     "status": "completed"
    },
    "tags": []
   },
   "outputs": [],
   "source": [
    "train['Name'] = train['Name'].replace('Mlle', 'Miss')\n",
    "train['Name'] = train['Name'].replace('Ms', 'Miss')\n",
    "train['Name'] = train['Name'].replace('Mme', 'Mrs')\n",
    "\n",
    "test['Name'] = test['Name'].replace('Mlle', 'Miss')\n",
    "test['Name'] = test['Name'].replace('Ms', 'Miss')\n",
    "test['Name'] = test['Name'].replace('Mme', 'Mrs')"
   ]
  },
  {
   "cell_type": "code",
   "execution_count": 15,
   "metadata": {
    "execution": {
     "iopub.execute_input": "2021-08-11T21:39:16.565347Z",
     "iopub.status.busy": "2021-08-11T21:39:16.564457Z",
     "iopub.status.idle": "2021-08-11T21:39:16.568310Z",
     "shell.execute_reply": "2021-08-11T21:39:16.567834Z",
     "shell.execute_reply.started": "2021-08-11T20:09:31.394258Z"
    },
    "papermill": {
     "duration": 0.110127,
     "end_time": "2021-08-11T21:39:16.568413",
     "exception": false,
     "start_time": "2021-08-11T21:39:16.458286",
     "status": "completed"
    },
    "tags": []
   },
   "outputs": [
    {
     "data": {
      "text/html": [
       "<div>\n",
       "<style scoped>\n",
       "    .dataframe tbody tr th:only-of-type {\n",
       "        vertical-align: middle;\n",
       "    }\n",
       "\n",
       "    .dataframe tbody tr th {\n",
       "        vertical-align: top;\n",
       "    }\n",
       "\n",
       "    .dataframe thead th {\n",
       "        text-align: right;\n",
       "    }\n",
       "</style>\n",
       "<table border=\"1\" class=\"dataframe\">\n",
       "  <thead>\n",
       "    <tr style=\"text-align: right;\">\n",
       "      <th></th>\n",
       "      <th>Survived</th>\n",
       "      <th>Pclass</th>\n",
       "      <th>Name</th>\n",
       "      <th>Sex</th>\n",
       "      <th>Age</th>\n",
       "      <th>SibSp</th>\n",
       "      <th>Parch</th>\n",
       "      <th>Ticket</th>\n",
       "      <th>Fare</th>\n",
       "      <th>Cabin</th>\n",
       "      <th>Embarked</th>\n",
       "    </tr>\n",
       "  </thead>\n",
       "  <tbody>\n",
       "    <tr>\n",
       "      <th>0</th>\n",
       "      <td>0</td>\n",
       "      <td>3</td>\n",
       "      <td>Mr</td>\n",
       "      <td>male</td>\n",
       "      <td>22.0</td>\n",
       "      <td>1</td>\n",
       "      <td>0</td>\n",
       "      <td>A/5 21171</td>\n",
       "      <td>7.2500</td>\n",
       "      <td>NaN</td>\n",
       "      <td>S</td>\n",
       "    </tr>\n",
       "    <tr>\n",
       "      <th>1</th>\n",
       "      <td>1</td>\n",
       "      <td>1</td>\n",
       "      <td>Mrs</td>\n",
       "      <td>female</td>\n",
       "      <td>38.0</td>\n",
       "      <td>1</td>\n",
       "      <td>0</td>\n",
       "      <td>PC 17599</td>\n",
       "      <td>71.2833</td>\n",
       "      <td>C85</td>\n",
       "      <td>C</td>\n",
       "    </tr>\n",
       "    <tr>\n",
       "      <th>2</th>\n",
       "      <td>1</td>\n",
       "      <td>3</td>\n",
       "      <td>Miss</td>\n",
       "      <td>female</td>\n",
       "      <td>26.0</td>\n",
       "      <td>0</td>\n",
       "      <td>0</td>\n",
       "      <td>STON/O2. 3101282</td>\n",
       "      <td>7.9250</td>\n",
       "      <td>NaN</td>\n",
       "      <td>S</td>\n",
       "    </tr>\n",
       "    <tr>\n",
       "      <th>3</th>\n",
       "      <td>1</td>\n",
       "      <td>1</td>\n",
       "      <td>Mrs</td>\n",
       "      <td>female</td>\n",
       "      <td>35.0</td>\n",
       "      <td>1</td>\n",
       "      <td>0</td>\n",
       "      <td>113803</td>\n",
       "      <td>53.1000</td>\n",
       "      <td>C123</td>\n",
       "      <td>S</td>\n",
       "    </tr>\n",
       "    <tr>\n",
       "      <th>4</th>\n",
       "      <td>0</td>\n",
       "      <td>3</td>\n",
       "      <td>Mr</td>\n",
       "      <td>male</td>\n",
       "      <td>35.0</td>\n",
       "      <td>0</td>\n",
       "      <td>0</td>\n",
       "      <td>373450</td>\n",
       "      <td>8.0500</td>\n",
       "      <td>NaN</td>\n",
       "      <td>S</td>\n",
       "    </tr>\n",
       "  </tbody>\n",
       "</table>\n",
       "</div>"
      ],
      "text/plain": [
       "   Survived  Pclass  Name     Sex   Age  SibSp  Parch            Ticket  \\\n",
       "0         0       3    Mr    male  22.0      1      0         A/5 21171   \n",
       "1         1       1   Mrs  female  38.0      1      0          PC 17599   \n",
       "2         1       3  Miss  female  26.0      0      0  STON/O2. 3101282   \n",
       "3         1       1   Mrs  female  35.0      1      0            113803   \n",
       "4         0       3    Mr    male  35.0      0      0            373450   \n",
       "\n",
       "      Fare Cabin Embarked  \n",
       "0   7.2500   NaN        S  \n",
       "1  71.2833   C85        C  \n",
       "2   7.9250   NaN        S  \n",
       "3  53.1000  C123        S  \n",
       "4   8.0500   NaN        S  "
      ]
     },
     "execution_count": 15,
     "metadata": {},
     "output_type": "execute_result"
    }
   ],
   "source": [
    "train.head()"
   ]
  },
  {
   "cell_type": "code",
   "execution_count": 16,
   "metadata": {
    "execution": {
     "iopub.execute_input": "2021-08-11T21:39:16.781842Z",
     "iopub.status.busy": "2021-08-11T21:39:16.781051Z",
     "iopub.status.idle": "2021-08-11T21:39:16.960056Z",
     "shell.execute_reply": "2021-08-11T21:39:16.959553Z",
     "shell.execute_reply.started": "2021-08-11T20:09:31.637119Z"
    },
    "papermill": {
     "duration": 0.29563,
     "end_time": "2021-08-11T21:39:16.960168",
     "exception": false,
     "start_time": "2021-08-11T21:39:16.664538",
     "status": "completed"
    },
    "tags": []
   },
   "outputs": [
    {
     "data": {
      "text/html": [
       "<div>\n",
       "<style scoped>\n",
       "    .dataframe tbody tr th:only-of-type {\n",
       "        vertical-align: middle;\n",
       "    }\n",
       "\n",
       "    .dataframe tbody tr th {\n",
       "        vertical-align: top;\n",
       "    }\n",
       "\n",
       "    .dataframe thead th {\n",
       "        text-align: right;\n",
       "    }\n",
       "</style>\n",
       "<table border=\"1\" class=\"dataframe\">\n",
       "  <thead>\n",
       "    <tr style=\"text-align: right;\">\n",
       "      <th></th>\n",
       "      <th>Total</th>\n",
       "      <th>Percent</th>\n",
       "    </tr>\n",
       "  </thead>\n",
       "  <tbody>\n",
       "    <tr>\n",
       "      <th>Mr</th>\n",
       "      <td>517</td>\n",
       "      <td>58.024691</td>\n",
       "    </tr>\n",
       "    <tr>\n",
       "      <th>Miss</th>\n",
       "      <td>185</td>\n",
       "      <td>20.763187</td>\n",
       "    </tr>\n",
       "    <tr>\n",
       "      <th>Mrs</th>\n",
       "      <td>126</td>\n",
       "      <td>14.141414</td>\n",
       "    </tr>\n",
       "    <tr>\n",
       "      <th>Master</th>\n",
       "      <td>40</td>\n",
       "      <td>4.489338</td>\n",
       "    </tr>\n",
       "    <tr>\n",
       "      <th>Dr</th>\n",
       "      <td>7</td>\n",
       "      <td>0.785634</td>\n",
       "    </tr>\n",
       "  </tbody>\n",
       "</table>\n",
       "</div>"
      ],
      "text/plain": [
       "        Total    Percent\n",
       "Mr        517  58.024691\n",
       "Miss      185  20.763187\n",
       "Mrs       126  14.141414\n",
       "Master     40   4.489338\n",
       "Dr          7   0.785634"
      ]
     },
     "execution_count": 16,
     "metadata": {},
     "output_type": "execute_result"
    },
    {
     "data": {
      "image/png": "[encoded data removed]",
      "text/plain": [
       "<Figure size 720x432 with 1 Axes>"
      ]
     },
     "metadata": {
      "needs_background": "light"
     },
     "output_type": "display_data"
    }
   ],
   "source": [
    "eda.value_counts(train.Name,percentage=True).head()"
   ]
  },
  {
   "cell_type": "markdown",
   "metadata": {
    "papermill": {
     "duration": 0.102157,
     "end_time": "2021-08-11T21:39:17.164415",
     "exception": false,
     "start_time": "2021-08-11T21:39:17.062258",
     "status": "completed"
    },
    "tags": []
   },
   "source": [
    "As we can see in the graph we still have a relatively high cardinality and some categories are below 5% of representativeness so we are going to group these categories creating a new one called 'rare'. "
   ]
  },
  {
   "cell_type": "code",
   "execution_count": 17,
   "metadata": {
    "execution": {
     "iopub.execute_input": "2021-08-11T21:39:17.389149Z",
     "iopub.status.busy": "2021-08-11T21:39:17.388334Z",
     "iopub.status.idle": "2021-08-11T21:39:17.505270Z",
     "shell.execute_reply": "2021-08-11T21:39:17.505697Z",
     "shell.execute_reply.started": "2021-08-11T20:09:31.867232Z"
    },
    "papermill": {
     "duration": 0.244791,
     "end_time": "2021-08-11T21:39:17.505837",
     "exception": false,
     "start_time": "2021-08-11T21:39:17.261046",
     "status": "completed"
    },
    "tags": []
   },
   "outputs": [
    {
     "data": {
      "text/html": [
       "<div>\n",
       "<style scoped>\n",
       "    .dataframe tbody tr th:only-of-type {\n",
       "        vertical-align: middle;\n",
       "    }\n",
       "\n",
       "    .dataframe tbody tr th {\n",
       "        vertical-align: top;\n",
       "    }\n",
       "\n",
       "    .dataframe thead th {\n",
       "        text-align: right;\n",
       "    }\n",
       "</style>\n",
       "<table border=\"1\" class=\"dataframe\">\n",
       "  <thead>\n",
       "    <tr style=\"text-align: right;\">\n",
       "      <th></th>\n",
       "      <th>Total</th>\n",
       "      <th>Percent</th>\n",
       "    </tr>\n",
       "  </thead>\n",
       "  <tbody>\n",
       "    <tr>\n",
       "      <th>Mr</th>\n",
       "      <td>517</td>\n",
       "      <td>58.024691</td>\n",
       "    </tr>\n",
       "    <tr>\n",
       "      <th>Miss</th>\n",
       "      <td>185</td>\n",
       "      <td>20.763187</td>\n",
       "    </tr>\n",
       "    <tr>\n",
       "      <th>Mrs</th>\n",
       "      <td>126</td>\n",
       "      <td>14.141414</td>\n",
       "    </tr>\n",
       "    <tr>\n",
       "      <th>Rare</th>\n",
       "      <td>63</td>\n",
       "      <td>7.070707</td>\n",
       "    </tr>\n",
       "  </tbody>\n",
       "</table>\n",
       "</div>"
      ],
      "text/plain": [
       "      Total    Percent\n",
       "Mr      517  58.024691\n",
       "Miss    185  20.763187\n",
       "Mrs     126  14.141414\n",
       "Rare     63   7.070707"
      ]
     },
     "execution_count": 17,
     "metadata": {},
     "output_type": "execute_result"
    },
    {
     "data": {
      "image/png": "[encoded data removed]",
      "text/plain": [
       "<Figure size 720x432 with 1 Axes>"
      ]
     },
     "metadata": {
      "needs_background": "light"
     },
     "output_type": "display_data"
    }
   ],
   "source": [
    "train['Name']=fe.group_rare_labels(train.Name,train.Name)\n",
    "test['Name']=fe.group_rare_labels(train.Name,test.Name)\n",
    "\n",
    "eda.value_counts(train.Name,percentage=True)"
   ]
  },
  {
   "cell_type": "code",
   "execution_count": 18,
   "metadata": {
    "execution": {
     "iopub.execute_input": "2021-08-11T21:39:17.746525Z",
     "iopub.status.busy": "2021-08-11T21:39:17.745467Z",
     "iopub.status.idle": "2021-08-11T21:39:17.994224Z",
     "shell.execute_reply": "2021-08-11T21:39:17.993707Z",
     "shell.execute_reply.started": "2021-08-11T20:09:32.058253Z"
    },
    "papermill": {
     "duration": 0.390735,
     "end_time": "2021-08-11T21:39:17.994379",
     "exception": false,
     "start_time": "2021-08-11T21:39:17.603644",
     "status": "completed"
    },
    "tags": []
   },
   "outputs": [
    {
     "name": "stdout",
     "output_type": "stream",
     "text": [
      "   Name  Survived\n",
      "0  Miss  0.702703\n",
      "1    Mr  0.156673\n",
      "2   Mrs  0.793651\n",
      "3  Rare  0.492063\n"
     ]
    },
    {
     "data": {
      "image/png": "[encoded data removed]",
      "text/plain": [
       "<Figure size 864x432 with 1 Axes>"
      ]
     },
     "metadata": {
      "needs_background": "light"
     },
     "output_type": "display_data"
    }
   ],
   "source": [
    "get_survivors(\"Name\")"
   ]
  },
  {
   "cell_type": "markdown",
   "metadata": {
    "papermill": {
     "duration": 0.098573,
     "end_time": "2021-08-11T21:39:18.192841",
     "exception": false,
     "start_time": "2021-08-11T21:39:18.094268",
     "status": "completed"
    },
    "tags": []
   },
   "source": [
    "As we can see, women had much more probability for surviving the disaster"
   ]
  },
  {
   "cell_type": "markdown",
   "metadata": {
    "papermill": {
     "duration": 0.097985,
     "end_time": "2021-08-11T21:39:18.389152",
     "exception": false,
     "start_time": "2021-08-11T21:39:18.291167",
     "status": "completed"
    },
    "tags": []
   },
   "source": [
    "<br>\n",
    "<br>"
   ]
  },
  {
   "cell_type": "markdown",
   "metadata": {
    "papermill": {
     "duration": 0.097859,
     "end_time": "2021-08-11T21:39:18.585132",
     "exception": false,
     "start_time": "2021-08-11T21:39:18.487273",
     "status": "completed"
    },
    "tags": []
   },
   "source": [
    "# Sex"
   ]
  },
  {
   "cell_type": "code",
   "execution_count": 19,
   "metadata": {
    "execution": {
     "iopub.execute_input": "2021-08-11T21:39:18.786485Z",
     "iopub.status.busy": "2021-08-11T21:39:18.785747Z",
     "iopub.status.idle": "2021-08-11T21:39:18.965917Z",
     "shell.execute_reply": "2021-08-11T21:39:18.966325Z",
     "shell.execute_reply.started": "2021-08-11T20:09:32.633725Z"
    },
    "papermill": {
     "duration": 0.283028,
     "end_time": "2021-08-11T21:39:18.966487",
     "exception": false,
     "start_time": "2021-08-11T21:39:18.683459",
     "status": "completed"
    },
    "tags": []
   },
   "outputs": [
    {
     "name": "stdout",
     "output_type": "stream",
     "text": [
      "The feature Sex is CATEGORICAL\n",
      "\n",
      "\u001b[32m-Cardinality: 2\u001b[0m\n",
      "\u001b[32m-Missing values in training set: 0\u001b[0m\n",
      "\u001b[32m-Missing values in test set    : 0\u001b[0m\n"
     ]
    },
    {
     "data": {
      "image/png": "[encoded data removed]",
      "text/plain": [
       "<Figure size 720x432 with 1 Axes>"
      ]
     },
     "metadata": {
      "needs_background": "light"
     },
     "output_type": "display_data"
    }
   ],
   "source": [
    "eda.feature_analysis(train,\"Sex\",test,\"Survived\")"
   ]
  },
  {
   "cell_type": "code",
   "execution_count": 20,
   "metadata": {
    "execution": {
     "iopub.execute_input": "2021-08-11T21:39:19.349362Z",
     "iopub.status.busy": "2021-08-11T21:39:19.348581Z",
     "iopub.status.idle": "2021-08-11T21:39:19.480920Z",
     "shell.execute_reply": "2021-08-11T21:39:19.480071Z",
     "shell.execute_reply.started": "2021-08-11T20:09:32.918355Z"
    },
    "papermill": {
     "duration": 0.318204,
     "end_time": "2021-08-11T21:39:19.481047",
     "exception": false,
     "start_time": "2021-08-11T21:39:19.162843",
     "status": "completed"
    },
    "tags": []
   },
   "outputs": [
    {
     "data": {
      "text/html": [
       "<div>\n",
       "<style scoped>\n",
       "    .dataframe tbody tr th:only-of-type {\n",
       "        vertical-align: middle;\n",
       "    }\n",
       "\n",
       "    .dataframe tbody tr th {\n",
       "        vertical-align: top;\n",
       "    }\n",
       "\n",
       "    .dataframe thead th {\n",
       "        text-align: right;\n",
       "    }\n",
       "</style>\n",
       "<table border=\"1\" class=\"dataframe\">\n",
       "  <thead>\n",
       "    <tr style=\"text-align: right;\">\n",
       "      <th></th>\n",
       "      <th>Total</th>\n",
       "      <th>Percent</th>\n",
       "    </tr>\n",
       "  </thead>\n",
       "  <tbody>\n",
       "    <tr>\n",
       "      <th>male</th>\n",
       "      <td>577</td>\n",
       "      <td>64.758698</td>\n",
       "    </tr>\n",
       "    <tr>\n",
       "      <th>female</th>\n",
       "      <td>314</td>\n",
       "      <td>35.241302</td>\n",
       "    </tr>\n",
       "  </tbody>\n",
       "</table>\n",
       "</div>"
      ],
      "text/plain": [
       "        Total    Percent\n",
       "male      577  64.758698\n",
       "female    314  35.241302"
      ]
     },
     "execution_count": 20,
     "metadata": {},
     "output_type": "execute_result"
    },
    {
     "data": {
      "image/png": "[encoded data removed]",
      "text/plain": [
       "<Figure size 720x432 with 1 Axes>"
      ]
     },
     "metadata": {
      "needs_background": "light"
     },
     "output_type": "display_data"
    }
   ],
   "source": [
    "eda.value_counts(train.Sex,percentage=True)"
   ]
  },
  {
   "cell_type": "markdown",
   "metadata": {
    "papermill": {
     "duration": 0.100239,
     "end_time": "2021-08-11T21:39:19.682103",
     "exception": false,
     "start_time": "2021-08-11T21:39:19.581864",
     "status": "completed"
    },
    "tags": []
   },
   "source": [
    "**64.76%** of the passengers were male while **35.24%** of the passengers were female."
   ]
  },
  {
   "cell_type": "code",
   "execution_count": 21,
   "metadata": {
    "execution": {
     "iopub.execute_input": "2021-08-11T21:39:19.908650Z",
     "iopub.status.busy": "2021-08-11T21:39:19.905844Z",
     "iopub.status.idle": "2021-08-11T21:39:20.072047Z",
     "shell.execute_reply": "2021-08-11T21:39:20.071603Z",
     "shell.execute_reply.started": "2021-08-11T20:09:33.154523Z"
    },
    "papermill": {
     "duration": 0.29003,
     "end_time": "2021-08-11T21:39:20.072177",
     "exception": false,
     "start_time": "2021-08-11T21:39:19.782147",
     "status": "completed"
    },
    "tags": []
   },
   "outputs": [
    {
     "name": "stdout",
     "output_type": "stream",
     "text": [
      "      Sex  Survived\n",
      "0  female  0.742038\n",
      "1    male  0.188908\n"
     ]
    },
    {
     "data": {
      "image/png": "[encoded data removed]",
      "text/plain": [
       "<Figure size 864x432 with 1 Axes>"
      ]
     },
     "metadata": {
      "needs_background": "light"
     },
     "output_type": "display_data"
    }
   ],
   "source": [
    "get_survivors(\"Sex\")"
   ]
  },
  {
   "cell_type": "markdown",
   "metadata": {
    "papermill": {
     "duration": 0.107986,
     "end_time": "2021-08-11T21:39:20.284746",
     "exception": false,
     "start_time": "2021-08-11T21:39:20.176760",
     "status": "completed"
    },
    "tags": []
   },
   "source": [
    "The survival rate for female passengers was **74%** while the survival rate for male passengers was **19%**."
   ]
  },
  {
   "cell_type": "markdown",
   "metadata": {
    "papermill": {
     "duration": 0.101785,
     "end_time": "2021-08-11T21:39:20.488433",
     "exception": false,
     "start_time": "2021-08-11T21:39:20.386648",
     "status": "completed"
    },
    "tags": []
   },
   "source": [
    "<br>\n",
    "<br>"
   ]
  },
  {
   "cell_type": "markdown",
   "metadata": {
    "papermill": {
     "duration": 0.102447,
     "end_time": "2021-08-11T21:39:20.692009",
     "exception": false,
     "start_time": "2021-08-11T21:39:20.589562",
     "status": "completed"
    },
    "tags": []
   },
   "source": [
    "# Age"
   ]
  },
  {
   "cell_type": "code",
   "execution_count": 22,
   "metadata": {
    "execution": {
     "iopub.execute_input": "2021-08-11T21:39:20.902256Z",
     "iopub.status.busy": "2021-08-11T21:39:20.900351Z",
     "iopub.status.idle": "2021-08-11T21:39:21.301977Z",
     "shell.execute_reply": "2021-08-11T21:39:21.302381Z",
     "shell.execute_reply.started": "2021-08-11T20:09:33.836746Z"
    },
    "papermill": {
     "duration": 0.509248,
     "end_time": "2021-08-11T21:39:21.302546",
     "exception": false,
     "start_time": "2021-08-11T21:39:20.793298",
     "status": "completed"
    },
    "tags": []
   },
   "outputs": [
    {
     "name": "stdout",
     "output_type": "stream",
     "text": [
      "The feature Age is NUMERIC\n",
      "\n",
      "\u001b[31m-Missing values in training set: 177\u001b[0m\n",
      "\u001b[31m-Missing values in test set    : 86\u001b[0m\n",
      "\u001b[33m-Outliers 1.5*IQR: 11\u001b[0m\n",
      "\u001b[32m-Outliers   3*IQR: 0\u001b[0m\n"
     ]
    },
    {
     "data": {
      "image/png": "[encoded data removed]",
      "text/plain": [
       "<Figure size 1440x360 with 3 Axes>"
      ]
     },
     "metadata": {
      "needs_background": "light"
     },
     "output_type": "display_data"
    }
   ],
   "source": [
    "eda.feature_analysis(train,\"Age\",test,\"Survived\")"
   ]
  },
  {
   "cell_type": "code",
   "execution_count": 23,
   "metadata": {
    "execution": {
     "iopub.execute_input": "2021-08-11T21:39:21.523674Z",
     "iopub.status.busy": "2021-08-11T21:39:21.522875Z",
     "iopub.status.idle": "2021-08-11T21:39:21.905374Z",
     "shell.execute_reply": "2021-08-11T21:39:21.906080Z",
     "shell.execute_reply.started": "2021-08-11T20:09:34.29807Z"
    },
    "papermill": {
     "duration": 0.500822,
     "end_time": "2021-08-11T21:39:21.906277",
     "exception": false,
     "start_time": "2021-08-11T21:39:21.405455",
     "status": "completed"
    },
    "tags": []
   },
   "outputs": [
    {
     "data": {
      "image/png": "[encoded data removed]",
      "text/plain": [
       "<Figure size 1440x360 with 3 Axes>"
      ]
     },
     "metadata": {
      "needs_background": "light"
     },
     "output_type": "display_data"
    }
   ],
   "source": [
    "eda.distribution_diag(train,'Age')"
   ]
  },
  {
   "cell_type": "markdown",
   "metadata": {
    "papermill": {
     "duration": 0.118369,
     "end_time": "2021-08-11T21:39:22.139069",
     "exception": false,
     "start_time": "2021-08-11T21:39:22.020700",
     "status": "completed"
    },
    "tags": []
   },
   "source": [
    "We can see how the distribution of the variable 'Age' is almost Gaussian, it presents some outliers and as we saw before, it has 177 NAN in the training set and 86 NAN in the test set.\n",
    "\n",
    "We create an indicator in the training set and in the test set to see when there were missing values in the original variable in case those values were missing non-randomly."
   ]
  },
  {
   "cell_type": "code",
   "execution_count": 24,
   "metadata": {
    "execution": {
     "iopub.execute_input": "2021-08-11T21:39:22.371694Z",
     "iopub.status.busy": "2021-08-11T21:39:22.370886Z",
     "iopub.status.idle": "2021-08-11T21:39:22.375777Z",
     "shell.execute_reply": "2021-08-11T21:39:22.376316Z",
     "shell.execute_reply.started": "2021-08-11T20:09:34.721262Z"
    },
    "papermill": {
     "duration": 0.120183,
     "end_time": "2021-08-11T21:39:22.376465",
     "exception": false,
     "start_time": "2021-08-11T21:39:22.256282",
     "status": "completed"
    },
    "tags": []
   },
   "outputs": [],
   "source": [
    "test = fe.impute_missing(train.drop('Survived',axis=True),test,method='indicator',variables=[\"Age\"])\n",
    "train = fe.impute_missing(train,train,method='indicator',variables=[\"Age\"])"
   ]
  },
  {
   "cell_type": "code",
   "execution_count": 25,
   "metadata": {
    "execution": {
     "iopub.execute_input": "2021-08-11T21:39:22.601606Z",
     "iopub.status.busy": "2021-08-11T21:39:22.600667Z",
     "iopub.status.idle": "2021-08-11T21:39:22.615114Z",
     "shell.execute_reply": "2021-08-11T21:39:22.614566Z",
     "shell.execute_reply.started": "2021-08-11T20:09:34.735813Z"
    },
    "papermill": {
     "duration": 0.131273,
     "end_time": "2021-08-11T21:39:22.615240",
     "exception": false,
     "start_time": "2021-08-11T21:39:22.483967",
     "status": "completed"
    },
    "tags": []
   },
   "outputs": [
    {
     "name": "stdout",
     "output_type": "stream",
     "text": [
      "MIN: -33.5\n",
      "MAX: 91.625\n",
      "(0, 12)\n",
      "MIN: -6.6875\n",
      "MAX: 64.8125\n",
      "(11, 12)\n"
     ]
    }
   ],
   "source": [
    "print(eda.outliers(train,'Age',table=True, method=\"IQR3\").shape)\n",
    "print(eda.outliers(train,'Age',table=True, method=\"IQR\").shape)"
   ]
  },
  {
   "cell_type": "code",
   "execution_count": 26,
   "metadata": {
    "execution": {
     "iopub.execute_input": "2021-08-11T21:39:22.846276Z",
     "iopub.status.busy": "2021-08-11T21:39:22.845455Z",
     "iopub.status.idle": "2021-08-11T21:39:22.864406Z",
     "shell.execute_reply": "2021-08-11T21:39:22.863972Z",
     "shell.execute_reply.started": "2021-08-11T20:09:34.7581Z"
    },
    "papermill": {
     "duration": 0.136528,
     "end_time": "2021-08-11T21:39:22.864554",
     "exception": false,
     "start_time": "2021-08-11T21:39:22.728026",
     "status": "completed"
    },
    "tags": []
   },
   "outputs": [
    {
     "data": {
      "text/html": [
       "<div>\n",
       "<style scoped>\n",
       "    .dataframe tbody tr th:only-of-type {\n",
       "        vertical-align: middle;\n",
       "    }\n",
       "\n",
       "    .dataframe tbody tr th {\n",
       "        vertical-align: top;\n",
       "    }\n",
       "\n",
       "    .dataframe thead th {\n",
       "        text-align: right;\n",
       "    }\n",
       "</style>\n",
       "<table border=\"1\" class=\"dataframe\">\n",
       "  <thead>\n",
       "    <tr style=\"text-align: right;\">\n",
       "      <th></th>\n",
       "      <th>Survived</th>\n",
       "      <th>Pclass</th>\n",
       "      <th>Name</th>\n",
       "      <th>Sex</th>\n",
       "      <th>Age</th>\n",
       "      <th>SibSp</th>\n",
       "      <th>Parch</th>\n",
       "      <th>Ticket</th>\n",
       "      <th>Fare</th>\n",
       "      <th>Cabin</th>\n",
       "      <th>Embarked</th>\n",
       "      <th>Age_na</th>\n",
       "    </tr>\n",
       "  </thead>\n",
       "  <tbody>\n",
       "    <tr>\n",
       "      <th>33</th>\n",
       "      <td>0</td>\n",
       "      <td>2</td>\n",
       "      <td>Mr</td>\n",
       "      <td>male</td>\n",
       "      <td>66.0</td>\n",
       "      <td>0</td>\n",
       "      <td>0</td>\n",
       "      <td>C.A. 24579</td>\n",
       "      <td>10.5000</td>\n",
       "      <td>NaN</td>\n",
       "      <td>S</td>\n",
       "      <td>0</td>\n",
       "    </tr>\n",
       "    <tr>\n",
       "      <th>54</th>\n",
       "      <td>0</td>\n",
       "      <td>1</td>\n",
       "      <td>Mr</td>\n",
       "      <td>male</td>\n",
       "      <td>65.0</td>\n",
       "      <td>0</td>\n",
       "      <td>1</td>\n",
       "      <td>113509</td>\n",
       "      <td>61.9792</td>\n",
       "      <td>B30</td>\n",
       "      <td>C</td>\n",
       "      <td>0</td>\n",
       "    </tr>\n",
       "    <tr>\n",
       "      <th>96</th>\n",
       "      <td>0</td>\n",
       "      <td>1</td>\n",
       "      <td>Mr</td>\n",
       "      <td>male</td>\n",
       "      <td>71.0</td>\n",
       "      <td>0</td>\n",
       "      <td>0</td>\n",
       "      <td>PC 17754</td>\n",
       "      <td>34.6542</td>\n",
       "      <td>A5</td>\n",
       "      <td>C</td>\n",
       "      <td>0</td>\n",
       "    </tr>\n",
       "    <tr>\n",
       "      <th>116</th>\n",
       "      <td>0</td>\n",
       "      <td>3</td>\n",
       "      <td>Mr</td>\n",
       "      <td>male</td>\n",
       "      <td>70.5</td>\n",
       "      <td>0</td>\n",
       "      <td>0</td>\n",
       "      <td>370369</td>\n",
       "      <td>7.7500</td>\n",
       "      <td>NaN</td>\n",
       "      <td>Q</td>\n",
       "      <td>0</td>\n",
       "    </tr>\n",
       "    <tr>\n",
       "      <th>280</th>\n",
       "      <td>0</td>\n",
       "      <td>3</td>\n",
       "      <td>Mr</td>\n",
       "      <td>male</td>\n",
       "      <td>65.0</td>\n",
       "      <td>0</td>\n",
       "      <td>0</td>\n",
       "      <td>336439</td>\n",
       "      <td>7.7500</td>\n",
       "      <td>NaN</td>\n",
       "      <td>Q</td>\n",
       "      <td>0</td>\n",
       "    </tr>\n",
       "    <tr>\n",
       "      <th>456</th>\n",
       "      <td>0</td>\n",
       "      <td>1</td>\n",
       "      <td>Mr</td>\n",
       "      <td>male</td>\n",
       "      <td>65.0</td>\n",
       "      <td>0</td>\n",
       "      <td>0</td>\n",
       "      <td>13509</td>\n",
       "      <td>26.5500</td>\n",
       "      <td>E38</td>\n",
       "      <td>S</td>\n",
       "      <td>0</td>\n",
       "    </tr>\n",
       "    <tr>\n",
       "      <th>493</th>\n",
       "      <td>0</td>\n",
       "      <td>1</td>\n",
       "      <td>Mr</td>\n",
       "      <td>male</td>\n",
       "      <td>71.0</td>\n",
       "      <td>0</td>\n",
       "      <td>0</td>\n",
       "      <td>PC 17609</td>\n",
       "      <td>49.5042</td>\n",
       "      <td>NaN</td>\n",
       "      <td>C</td>\n",
       "      <td>0</td>\n",
       "    </tr>\n",
       "    <tr>\n",
       "      <th>630</th>\n",
       "      <td>1</td>\n",
       "      <td>1</td>\n",
       "      <td>Mr</td>\n",
       "      <td>male</td>\n",
       "      <td>80.0</td>\n",
       "      <td>0</td>\n",
       "      <td>0</td>\n",
       "      <td>27042</td>\n",
       "      <td>30.0000</td>\n",
       "      <td>A23</td>\n",
       "      <td>S</td>\n",
       "      <td>0</td>\n",
       "    </tr>\n",
       "    <tr>\n",
       "      <th>672</th>\n",
       "      <td>0</td>\n",
       "      <td>2</td>\n",
       "      <td>Mr</td>\n",
       "      <td>male</td>\n",
       "      <td>70.0</td>\n",
       "      <td>0</td>\n",
       "      <td>0</td>\n",
       "      <td>C.A. 24580</td>\n",
       "      <td>10.5000</td>\n",
       "      <td>NaN</td>\n",
       "      <td>S</td>\n",
       "      <td>0</td>\n",
       "    </tr>\n",
       "    <tr>\n",
       "      <th>745</th>\n",
       "      <td>0</td>\n",
       "      <td>1</td>\n",
       "      <td>Rare</td>\n",
       "      <td>male</td>\n",
       "      <td>70.0</td>\n",
       "      <td>1</td>\n",
       "      <td>1</td>\n",
       "      <td>WE/P 5735</td>\n",
       "      <td>71.0000</td>\n",
       "      <td>B22</td>\n",
       "      <td>S</td>\n",
       "      <td>0</td>\n",
       "    </tr>\n",
       "    <tr>\n",
       "      <th>851</th>\n",
       "      <td>0</td>\n",
       "      <td>3</td>\n",
       "      <td>Mr</td>\n",
       "      <td>male</td>\n",
       "      <td>74.0</td>\n",
       "      <td>0</td>\n",
       "      <td>0</td>\n",
       "      <td>347060</td>\n",
       "      <td>7.7750</td>\n",
       "      <td>NaN</td>\n",
       "      <td>S</td>\n",
       "      <td>0</td>\n",
       "    </tr>\n",
       "  </tbody>\n",
       "</table>\n",
       "</div>"
      ],
      "text/plain": [
       "     Survived  Pclass  Name   Sex   Age  SibSp  Parch      Ticket     Fare  \\\n",
       "33          0       2    Mr  male  66.0      0      0  C.A. 24579  10.5000   \n",
       "54          0       1    Mr  male  65.0      0      1      113509  61.9792   \n",
       "96          0       1    Mr  male  71.0      0      0    PC 17754  34.6542   \n",
       "116         0       3    Mr  male  70.5      0      0      370369   7.7500   \n",
       "280         0       3    Mr  male  65.0      0      0      336439   7.7500   \n",
       "456         0       1    Mr  male  65.0      0      0       13509  26.5500   \n",
       "493         0       1    Mr  male  71.0      0      0    PC 17609  49.5042   \n",
       "630         1       1    Mr  male  80.0      0      0       27042  30.0000   \n",
       "672         0       2    Mr  male  70.0      0      0  C.A. 24580  10.5000   \n",
       "745         0       1  Rare  male  70.0      1      1   WE/P 5735  71.0000   \n",
       "851         0       3    Mr  male  74.0      0      0      347060   7.7750   \n",
       "\n",
       "    Cabin Embarked  Age_na  \n",
       "33    NaN        S       0  \n",
       "54    B30        C       0  \n",
       "96     A5        C       0  \n",
       "116   NaN        Q       0  \n",
       "280   NaN        Q       0  \n",
       "456   E38        S       0  \n",
       "493   NaN        C       0  \n",
       "630   A23        S       0  \n",
       "672   NaN        S       0  \n",
       "745   B22        S       0  \n",
       "851   NaN        S       0  "
      ]
     },
     "execution_count": 26,
     "metadata": {},
     "output_type": "execute_result"
    }
   ],
   "source": [
    "eda.outliers(train,'Age',table=True,limits=False)"
   ]
  },
  {
   "cell_type": "code",
   "execution_count": 27,
   "metadata": {
    "execution": {
     "iopub.execute_input": "2021-08-11T21:39:23.119215Z",
     "iopub.status.busy": "2021-08-11T21:39:23.109241Z",
     "iopub.status.idle": "2021-08-11T21:39:23.125626Z",
     "shell.execute_reply": "2021-08-11T21:39:23.126030Z",
     "shell.execute_reply.started": "2021-08-11T20:09:34.803258Z"
    },
    "papermill": {
     "duration": 0.142063,
     "end_time": "2021-08-11T21:39:23.126157",
     "exception": false,
     "start_time": "2021-08-11T21:39:22.984094",
     "status": "completed"
    },
    "tags": []
   },
   "outputs": [
    {
     "data": {
      "text/html": [
       "<div>\n",
       "<style scoped>\n",
       "    .dataframe tbody tr th:only-of-type {\n",
       "        vertical-align: middle;\n",
       "    }\n",
       "\n",
       "    .dataframe tbody tr th {\n",
       "        vertical-align: top;\n",
       "    }\n",
       "\n",
       "    .dataframe thead th {\n",
       "        text-align: right;\n",
       "    }\n",
       "</style>\n",
       "<table border=\"1\" class=\"dataframe\">\n",
       "  <thead>\n",
       "    <tr style=\"text-align: right;\">\n",
       "      <th></th>\n",
       "      <th>Total</th>\n",
       "      <th>Percent</th>\n",
       "    </tr>\n",
       "  </thead>\n",
       "  <tbody>\n",
       "    <tr>\n",
       "      <th>Cabin</th>\n",
       "      <td>687</td>\n",
       "      <td>77.104377</td>\n",
       "    </tr>\n",
       "    <tr>\n",
       "      <th>Embarked</th>\n",
       "      <td>2</td>\n",
       "      <td>0.224467</td>\n",
       "    </tr>\n",
       "    <tr>\n",
       "      <th>Age_na</th>\n",
       "      <td>0</td>\n",
       "      <td>0.000000</td>\n",
       "    </tr>\n",
       "  </tbody>\n",
       "</table>\n",
       "</div>"
      ],
      "text/plain": [
       "          Total    Percent\n",
       "Cabin       687  77.104377\n",
       "Embarked      2   0.224467\n",
       "Age_na        0   0.000000"
      ]
     },
     "execution_count": 27,
     "metadata": {},
     "output_type": "execute_result"
    }
   ],
   "source": [
    "train = fe.impute_missing(train,train,variables=[\"Age\"])\n",
    "test = fe.impute_missing(train.drop('Survived',axis=1),test,variables=[\"Age\"])\n",
    "eda.missing_data(train).head(3)"
   ]
  },
  {
   "cell_type": "code",
   "execution_count": 28,
   "metadata": {
    "execution": {
     "iopub.execute_input": "2021-08-11T21:39:23.374656Z",
     "iopub.status.busy": "2021-08-11T21:39:23.373594Z",
     "iopub.status.idle": "2021-08-11T21:39:23.378460Z",
     "shell.execute_reply": "2021-08-11T21:39:23.377932Z",
     "shell.execute_reply.started": "2021-08-11T20:09:34.997905Z"
    },
    "papermill": {
     "duration": 0.132543,
     "end_time": "2021-08-11T21:39:23.378630",
     "exception": false,
     "start_time": "2021-08-11T21:39:23.246087",
     "status": "completed"
    },
    "tags": []
   },
   "outputs": [
    {
     "data": {
      "text/html": [
       "<div>\n",
       "<style scoped>\n",
       "    .dataframe tbody tr th:only-of-type {\n",
       "        vertical-align: middle;\n",
       "    }\n",
       "\n",
       "    .dataframe tbody tr th {\n",
       "        vertical-align: top;\n",
       "    }\n",
       "\n",
       "    .dataframe thead th {\n",
       "        text-align: right;\n",
       "    }\n",
       "</style>\n",
       "<table border=\"1\" class=\"dataframe\">\n",
       "  <thead>\n",
       "    <tr style=\"text-align: right;\">\n",
       "      <th></th>\n",
       "      <th>Total</th>\n",
       "      <th>Percent</th>\n",
       "    </tr>\n",
       "  </thead>\n",
       "  <tbody>\n",
       "    <tr>\n",
       "      <th>Cabin</th>\n",
       "      <td>327</td>\n",
       "      <td>78.229665</td>\n",
       "    </tr>\n",
       "    <tr>\n",
       "      <th>Fare</th>\n",
       "      <td>1</td>\n",
       "      <td>0.239234</td>\n",
       "    </tr>\n",
       "    <tr>\n",
       "      <th>Age_na</th>\n",
       "      <td>0</td>\n",
       "      <td>0.000000</td>\n",
       "    </tr>\n",
       "  </tbody>\n",
       "</table>\n",
       "</div>"
      ],
      "text/plain": [
       "        Total    Percent\n",
       "Cabin     327  78.229665\n",
       "Fare        1   0.239234\n",
       "Age_na      0   0.000000"
      ]
     },
     "execution_count": 28,
     "metadata": {},
     "output_type": "execute_result"
    }
   ],
   "source": [
    "eda.missing_data(test).head(3)"
   ]
  },
  {
   "cell_type": "code",
   "execution_count": 29,
   "metadata": {
    "execution": {
     "iopub.execute_input": "2021-08-11T21:39:23.631057Z",
     "iopub.status.busy": "2021-08-11T21:39:23.630242Z",
     "iopub.status.idle": "2021-08-11T21:39:24.208860Z",
     "shell.execute_reply": "2021-08-11T21:39:24.209434Z",
     "shell.execute_reply.started": "2021-08-11T20:09:35.183264Z"
    },
    "papermill": {
     "duration": 0.71127,
     "end_time": "2021-08-11T21:39:24.209665",
     "exception": false,
     "start_time": "2021-08-11T21:39:23.498395",
     "status": "completed"
    },
    "tags": []
   },
   "outputs": [
    {
     "data": {
      "image/png": "[encoded data removed]",
      "text/plain": [
       "<Figure size 1440x360 with 3 Axes>"
      ]
     },
     "metadata": {
      "needs_background": "light"
     },
     "output_type": "display_data"
    }
   ],
   "source": [
    "eda.distribution_diag(train,'Age')"
   ]
  },
  {
   "cell_type": "markdown",
   "metadata": {
    "papermill": {
     "duration": 0.191241,
     "end_time": "2021-08-11T21:39:24.585796",
     "exception": false,
     "start_time": "2021-08-11T21:39:24.394555",
     "status": "completed"
    },
    "tags": []
   },
   "source": [
    "Let's create a variable that divides age into intervals of equal frequency to decide which variable best explains the data and other variable that divides age into intervals of equal range"
   ]
  },
  {
   "cell_type": "code",
   "execution_count": 30,
   "metadata": {
    "execution": {
     "iopub.execute_input": "2021-08-11T21:39:24.991528Z",
     "iopub.status.busy": "2021-08-11T21:39:24.990585Z",
     "iopub.status.idle": "2021-08-11T21:39:25.060745Z",
     "shell.execute_reply": "2021-08-11T21:39:25.061353Z",
     "shell.execute_reply.started": "2021-08-11T20:09:35.588957Z"
    },
    "papermill": {
     "duration": 0.289931,
     "end_time": "2021-08-11T21:39:25.061580",
     "exception": false,
     "start_time": "2021-08-11T21:39:24.771649",
     "status": "completed"
    },
    "tags": []
   },
   "outputs": [
    {
     "data": {
      "text/html": [
       "<div>\n",
       "<style scoped>\n",
       "    .dataframe tbody tr th:only-of-type {\n",
       "        vertical-align: middle;\n",
       "    }\n",
       "\n",
       "    .dataframe tbody tr th {\n",
       "        vertical-align: top;\n",
       "    }\n",
       "\n",
       "    .dataframe thead th {\n",
       "        text-align: right;\n",
       "    }\n",
       "</style>\n",
       "<table border=\"1\" class=\"dataframe\">\n",
       "  <thead>\n",
       "    <tr style=\"text-align: right;\">\n",
       "      <th></th>\n",
       "      <th>Survived</th>\n",
       "      <th>Pclass</th>\n",
       "      <th>Name</th>\n",
       "      <th>Sex</th>\n",
       "      <th>Age</th>\n",
       "      <th>SibSp</th>\n",
       "      <th>Parch</th>\n",
       "      <th>Ticket</th>\n",
       "      <th>Fare</th>\n",
       "      <th>Cabin</th>\n",
       "      <th>Embarked</th>\n",
       "      <th>Age_na</th>\n",
       "      <th>AgeFreq</th>\n",
       "      <th>AgeRange</th>\n",
       "    </tr>\n",
       "  </thead>\n",
       "  <tbody>\n",
       "    <tr>\n",
       "      <th>0</th>\n",
       "      <td>0</td>\n",
       "      <td>3</td>\n",
       "      <td>Mr</td>\n",
       "      <td>male</td>\n",
       "      <td>22.0</td>\n",
       "      <td>1</td>\n",
       "      <td>0</td>\n",
       "      <td>A/5 21171</td>\n",
       "      <td>7.2500</td>\n",
       "      <td>NaN</td>\n",
       "      <td>S</td>\n",
       "      <td>0</td>\n",
       "      <td>2</td>\n",
       "      <td>2</td>\n",
       "    </tr>\n",
       "    <tr>\n",
       "      <th>1</th>\n",
       "      <td>1</td>\n",
       "      <td>1</td>\n",
       "      <td>Mrs</td>\n",
       "      <td>female</td>\n",
       "      <td>38.0</td>\n",
       "      <td>1</td>\n",
       "      <td>0</td>\n",
       "      <td>PC 17599</td>\n",
       "      <td>71.2833</td>\n",
       "      <td>C85</td>\n",
       "      <td>C</td>\n",
       "      <td>0</td>\n",
       "      <td>7</td>\n",
       "      <td>4</td>\n",
       "    </tr>\n",
       "    <tr>\n",
       "      <th>2</th>\n",
       "      <td>1</td>\n",
       "      <td>3</td>\n",
       "      <td>Miss</td>\n",
       "      <td>female</td>\n",
       "      <td>26.0</td>\n",
       "      <td>0</td>\n",
       "      <td>0</td>\n",
       "      <td>STON/O2. 3101282</td>\n",
       "      <td>7.9250</td>\n",
       "      <td>NaN</td>\n",
       "      <td>S</td>\n",
       "      <td>0</td>\n",
       "      <td>4</td>\n",
       "      <td>3</td>\n",
       "    </tr>\n",
       "  </tbody>\n",
       "</table>\n",
       "</div>"
      ],
      "text/plain": [
       "   Survived  Pclass  Name     Sex   Age  SibSp  Parch            Ticket  \\\n",
       "0         0       3    Mr    male  22.0      1      0         A/5 21171   \n",
       "1         1       1   Mrs  female  38.0      1      0          PC 17599   \n",
       "2         1       3  Miss  female  26.0      0      0  STON/O2. 3101282   \n",
       "\n",
       "      Fare Cabin Embarked  Age_na  AgeFreq  AgeRange  \n",
       "0   7.2500   NaN        S       0        2         2  \n",
       "1  71.2833   C85        C       0        7         4  \n",
       "2   7.9250   NaN        S       0        4         3  "
      ]
     },
     "execution_count": 30,
     "metadata": {},
     "output_type": "execute_result"
    }
   ],
   "source": [
    "test[\"AgeFreq\"] = fe.discretization(train.drop('Survived',axis=1),test,variables=['Age'])['Age']\n",
    "train[\"AgeFreq\"] = fe.discretization(train,train,variables=['Age'])['Age']\n",
    "test[\"AgeRange\"] = fe.discretization(train.drop('Survived',axis=1),test,variables=['Age'],method=\"equalrange\")['Age']\n",
    "train[\"AgeRange\"] = fe.discretization(train,train,variables=['Age'],method=\"equalrange\")['Age']\n",
    "train.head(3)"
   ]
  },
  {
   "cell_type": "markdown",
   "metadata": {
    "papermill": {
     "duration": 0.115064,
     "end_time": "2021-08-11T21:39:25.356194",
     "exception": false,
     "start_time": "2021-08-11T21:39:25.241130",
     "status": "completed"
    },
    "tags": []
   },
   "source": [
    "<br>\n",
    "<br>"
   ]
  },
  {
   "cell_type": "markdown",
   "metadata": {
    "papermill": {
     "duration": 0.119857,
     "end_time": "2021-08-11T21:39:25.591060",
     "exception": false,
     "start_time": "2021-08-11T21:39:25.471203",
     "status": "completed"
    },
    "tags": []
   },
   "source": [
    "# FamilySize"
   ]
  },
  {
   "cell_type": "markdown",
   "metadata": {
    "papermill": {
     "duration": 0.11441,
     "end_time": "2021-08-11T21:39:25.820431",
     "exception": false,
     "start_time": "2021-08-11T21:39:25.706021",
     "status": "completed"
    },
    "tags": []
   },
   "source": [
    "We are going to create a new variable to indicate the size of the family through the variables SibSp and Parch."
   ]
  },
  {
   "cell_type": "code",
   "execution_count": 31,
   "metadata": {
    "execution": {
     "iopub.execute_input": "2021-08-11T21:39:26.063996Z",
     "iopub.status.busy": "2021-08-11T21:39:26.061428Z",
     "iopub.status.idle": "2021-08-11T21:39:26.498436Z",
     "shell.execute_reply": "2021-08-11T21:39:26.498924Z",
     "shell.execute_reply.started": "2021-08-11T20:09:36.134279Z"
    },
    "papermill": {
     "duration": 0.563216,
     "end_time": "2021-08-11T21:39:26.499085",
     "exception": false,
     "start_time": "2021-08-11T21:39:25.935869",
     "status": "completed"
    },
    "tags": []
   },
   "outputs": [
    {
     "name": "stdout",
     "output_type": "stream",
     "text": [
      "   FamilySize  Survived\n",
      "0           1  0.303538\n",
      "1           2  0.552795\n",
      "2           3  0.578431\n",
      "3           4  0.724138\n",
      "4           5  0.200000\n",
      "5           6  0.136364\n",
      "6           7  0.333333\n",
      "7           8  0.000000\n",
      "8          11  0.000000\n"
     ]
    },
    {
     "data": {
      "image/png": "[encoded data removed]",
      "text/plain": [
       "<Figure size 864x432 with 1 Axes>"
      ]
     },
     "metadata": {
      "needs_background": "light"
     },
     "output_type": "display_data"
    }
   ],
   "source": [
    "train['FamilySize'] = train['SibSp'] + train['Parch'] + 1\n",
    "test['FamilySize'] = test['SibSp'] + test['Parch'] + 1\n",
    "\n",
    "get_survivors(\"FamilySize\")"
   ]
  },
  {
   "cell_type": "markdown",
   "metadata": {
    "papermill": {
     "duration": 0.116331,
     "end_time": "2021-08-11T21:39:26.734932",
     "exception": false,
     "start_time": "2021-08-11T21:39:26.618601",
     "status": "completed"
    },
    "tags": []
   },
   "source": [
    "We can see how the probability of surviving increases to a family of 4 and then decreases."
   ]
  },
  {
   "cell_type": "markdown",
   "metadata": {
    "papermill": {
     "duration": 0.115232,
     "end_time": "2021-08-11T21:39:26.966154",
     "exception": false,
     "start_time": "2021-08-11T21:39:26.850922",
     "status": "completed"
    },
    "tags": []
   },
   "source": [
    "<br>\n",
    "<br>"
   ]
  },
  {
   "cell_type": "markdown",
   "metadata": {
    "papermill": {
     "duration": 0.116385,
     "end_time": "2021-08-11T21:39:27.200097",
     "exception": false,
     "start_time": "2021-08-11T21:39:27.083712",
     "status": "completed"
    },
    "tags": []
   },
   "source": [
    "# IsAlone"
   ]
  },
  {
   "cell_type": "markdown",
   "metadata": {
    "papermill": {
     "duration": 0.11591,
     "end_time": "2021-08-11T21:39:27.438064",
     "exception": false,
     "start_time": "2021-08-11T21:39:27.322154",
     "status": "completed"
    },
    "tags": []
   },
   "source": [
    "Let's create another variable to indicate whether a passenger was traveling alone or not."
   ]
  },
  {
   "cell_type": "code",
   "execution_count": 32,
   "metadata": {
    "execution": {
     "iopub.execute_input": "2021-08-11T21:39:27.679197Z",
     "iopub.status.busy": "2021-08-11T21:39:27.678298Z",
     "iopub.status.idle": "2021-08-11T21:39:27.683707Z",
     "shell.execute_reply": "2021-08-11T21:39:27.683189Z",
     "shell.execute_reply.started": "2021-08-11T20:09:36.97859Z"
    },
    "papermill": {
     "duration": 0.129733,
     "end_time": "2021-08-11T21:39:27.683837",
     "exception": false,
     "start_time": "2021-08-11T21:39:27.554104",
     "status": "completed"
    },
    "tags": []
   },
   "outputs": [],
   "source": [
    "train['IsAlone'] = 0\n",
    "train.loc[train['FamilySize'] == 1, 'IsAlone'] = 1\n",
    "test['IsAlone'] = 0\n",
    "test.loc[test['FamilySize'] == 1, 'IsAlone'] = 1"
   ]
  },
  {
   "cell_type": "code",
   "execution_count": 33,
   "metadata": {
    "execution": {
     "iopub.execute_input": "2021-08-11T21:39:27.933142Z",
     "iopub.status.busy": "2021-08-11T21:39:27.932353Z",
     "iopub.status.idle": "2021-08-11T21:39:27.937294Z",
     "shell.execute_reply": "2021-08-11T21:39:27.936891Z",
     "shell.execute_reply.started": "2021-08-11T20:09:37.142297Z"
    },
    "papermill": {
     "duration": 0.137935,
     "end_time": "2021-08-11T21:39:27.937407",
     "exception": false,
     "start_time": "2021-08-11T21:39:27.799472",
     "status": "completed"
    },
    "tags": []
   },
   "outputs": [
    {
     "data": {
      "text/html": [
       "<div>\n",
       "<style scoped>\n",
       "    .dataframe tbody tr th:only-of-type {\n",
       "        vertical-align: middle;\n",
       "    }\n",
       "\n",
       "    .dataframe tbody tr th {\n",
       "        vertical-align: top;\n",
       "    }\n",
       "\n",
       "    .dataframe thead th {\n",
       "        text-align: right;\n",
       "    }\n",
       "</style>\n",
       "<table border=\"1\" class=\"dataframe\">\n",
       "  <thead>\n",
       "    <tr style=\"text-align: right;\">\n",
       "      <th></th>\n",
       "      <th>Survived</th>\n",
       "      <th>Pclass</th>\n",
       "      <th>Name</th>\n",
       "      <th>Sex</th>\n",
       "      <th>Age</th>\n",
       "      <th>SibSp</th>\n",
       "      <th>Parch</th>\n",
       "      <th>Ticket</th>\n",
       "      <th>Fare</th>\n",
       "      <th>Cabin</th>\n",
       "      <th>Embarked</th>\n",
       "      <th>Age_na</th>\n",
       "      <th>AgeFreq</th>\n",
       "      <th>AgeRange</th>\n",
       "      <th>FamilySize</th>\n",
       "      <th>IsAlone</th>\n",
       "    </tr>\n",
       "  </thead>\n",
       "  <tbody>\n",
       "    <tr>\n",
       "      <th>0</th>\n",
       "      <td>0</td>\n",
       "      <td>3</td>\n",
       "      <td>Mr</td>\n",
       "      <td>male</td>\n",
       "      <td>22.0</td>\n",
       "      <td>1</td>\n",
       "      <td>0</td>\n",
       "      <td>A/5 21171</td>\n",
       "      <td>7.2500</td>\n",
       "      <td>NaN</td>\n",
       "      <td>S</td>\n",
       "      <td>0</td>\n",
       "      <td>2</td>\n",
       "      <td>2</td>\n",
       "      <td>2</td>\n",
       "      <td>0</td>\n",
       "    </tr>\n",
       "    <tr>\n",
       "      <th>1</th>\n",
       "      <td>1</td>\n",
       "      <td>1</td>\n",
       "      <td>Mrs</td>\n",
       "      <td>female</td>\n",
       "      <td>38.0</td>\n",
       "      <td>1</td>\n",
       "      <td>0</td>\n",
       "      <td>PC 17599</td>\n",
       "      <td>71.2833</td>\n",
       "      <td>C85</td>\n",
       "      <td>C</td>\n",
       "      <td>0</td>\n",
       "      <td>7</td>\n",
       "      <td>4</td>\n",
       "      <td>2</td>\n",
       "      <td>0</td>\n",
       "    </tr>\n",
       "    <tr>\n",
       "      <th>2</th>\n",
       "      <td>1</td>\n",
       "      <td>3</td>\n",
       "      <td>Miss</td>\n",
       "      <td>female</td>\n",
       "      <td>26.0</td>\n",
       "      <td>0</td>\n",
       "      <td>0</td>\n",
       "      <td>STON/O2. 3101282</td>\n",
       "      <td>7.9250</td>\n",
       "      <td>NaN</td>\n",
       "      <td>S</td>\n",
       "      <td>0</td>\n",
       "      <td>4</td>\n",
       "      <td>3</td>\n",
       "      <td>1</td>\n",
       "      <td>1</td>\n",
       "    </tr>\n",
       "    <tr>\n",
       "      <th>3</th>\n",
       "      <td>1</td>\n",
       "      <td>1</td>\n",
       "      <td>Mrs</td>\n",
       "      <td>female</td>\n",
       "      <td>35.0</td>\n",
       "      <td>1</td>\n",
       "      <td>0</td>\n",
       "      <td>113803</td>\n",
       "      <td>53.1000</td>\n",
       "      <td>C123</td>\n",
       "      <td>S</td>\n",
       "      <td>0</td>\n",
       "      <td>6</td>\n",
       "      <td>4</td>\n",
       "      <td>2</td>\n",
       "      <td>0</td>\n",
       "    </tr>\n",
       "    <tr>\n",
       "      <th>4</th>\n",
       "      <td>0</td>\n",
       "      <td>3</td>\n",
       "      <td>Mr</td>\n",
       "      <td>male</td>\n",
       "      <td>35.0</td>\n",
       "      <td>0</td>\n",
       "      <td>0</td>\n",
       "      <td>373450</td>\n",
       "      <td>8.0500</td>\n",
       "      <td>NaN</td>\n",
       "      <td>S</td>\n",
       "      <td>0</td>\n",
       "      <td>6</td>\n",
       "      <td>4</td>\n",
       "      <td>1</td>\n",
       "      <td>1</td>\n",
       "    </tr>\n",
       "  </tbody>\n",
       "</table>\n",
       "</div>"
      ],
      "text/plain": [
       "   Survived  Pclass  Name     Sex   Age  SibSp  Parch            Ticket  \\\n",
       "0         0       3    Mr    male  22.0      1      0         A/5 21171   \n",
       "1         1       1   Mrs  female  38.0      1      0          PC 17599   \n",
       "2         1       3  Miss  female  26.0      0      0  STON/O2. 3101282   \n",
       "3         1       1   Mrs  female  35.0      1      0            113803   \n",
       "4         0       3    Mr    male  35.0      0      0            373450   \n",
       "\n",
       "      Fare Cabin Embarked  Age_na  AgeFreq  AgeRange  FamilySize  IsAlone  \n",
       "0   7.2500   NaN        S       0        2         2           2        0  \n",
       "1  71.2833   C85        C       0        7         4           2        0  \n",
       "2   7.9250   NaN        S       0        4         3           1        1  \n",
       "3  53.1000  C123        S       0        6         4           2        0  \n",
       "4   8.0500   NaN        S       0        6         4           1        1  "
      ]
     },
     "execution_count": 33,
     "metadata": {},
     "output_type": "execute_result"
    }
   ],
   "source": [
    "train.head()"
   ]
  },
  {
   "cell_type": "markdown",
   "metadata": {
    "papermill": {
     "duration": 0.11723,
     "end_time": "2021-08-11T21:39:28.179848",
     "exception": false,
     "start_time": "2021-08-11T21:39:28.062618",
     "status": "completed"
    },
    "tags": []
   },
   "source": [
    "<br>\n",
    "<br>"
   ]
  },
  {
   "cell_type": "markdown",
   "metadata": {
    "papermill": {
     "duration": 0.124087,
     "end_time": "2021-08-11T21:39:28.420835",
     "exception": false,
     "start_time": "2021-08-11T21:39:28.296748",
     "status": "completed"
    },
    "tags": []
   },
   "source": [
    "# SibSp"
   ]
  },
  {
   "cell_type": "code",
   "execution_count": 34,
   "metadata": {
    "execution": {
     "iopub.execute_input": "2021-08-11T21:39:28.666688Z",
     "iopub.status.busy": "2021-08-11T21:39:28.665729Z",
     "iopub.status.idle": "2021-08-11T21:39:29.083891Z",
     "shell.execute_reply": "2021-08-11T21:39:29.084391Z",
     "shell.execute_reply.started": "2021-08-11T20:09:37.60507Z"
    },
    "papermill": {
     "duration": 0.544641,
     "end_time": "2021-08-11T21:39:29.084575",
     "exception": false,
     "start_time": "2021-08-11T21:39:28.539934",
     "status": "completed"
    },
    "tags": []
   },
   "outputs": [
    {
     "name": "stdout",
     "output_type": "stream",
     "text": [
      "The feature SibSp is NUMERIC\n",
      "\n",
      "\u001b[32m-Missing values in training set: 0\u001b[0m\n",
      "\u001b[32m-Missing values in test set    : 0\u001b[0m\n",
      "\u001b[33m-Outliers 1.5*IQR: 46\u001b[0m\n",
      "\u001b[31m-Outliers   3*IQR: 12\u001b[0m\n"
     ]
    },
    {
     "data": {
      "image/png": "[encoded data removed]",
      "text/plain": [
       "<Figure size 1440x360 with 3 Axes>"
      ]
     },
     "metadata": {
      "needs_background": "light"
     },
     "output_type": "display_data"
    }
   ],
   "source": [
    "eda.feature_analysis(train,\"SibSp\",test,\"Survived\")"
   ]
  },
  {
   "cell_type": "code",
   "execution_count": 35,
   "metadata": {
    "execution": {
     "iopub.execute_input": "2021-08-11T21:39:29.346416Z",
     "iopub.status.busy": "2021-08-11T21:39:29.344873Z",
     "iopub.status.idle": "2021-08-11T21:39:29.487307Z",
     "shell.execute_reply": "2021-08-11T21:39:29.487725Z",
     "shell.execute_reply.started": "2021-08-11T20:09:38.80135Z"
    },
    "papermill": {
     "duration": 0.283157,
     "end_time": "2021-08-11T21:39:29.487870",
     "exception": false,
     "start_time": "2021-08-11T21:39:29.204713",
     "status": "completed"
    },
    "tags": []
   },
   "outputs": [
    {
     "data": {
      "text/html": [
       "<div>\n",
       "<style scoped>\n",
       "    .dataframe tbody tr th:only-of-type {\n",
       "        vertical-align: middle;\n",
       "    }\n",
       "\n",
       "    .dataframe tbody tr th {\n",
       "        vertical-align: top;\n",
       "    }\n",
       "\n",
       "    .dataframe thead th {\n",
       "        text-align: right;\n",
       "    }\n",
       "</style>\n",
       "<table border=\"1\" class=\"dataframe\">\n",
       "  <thead>\n",
       "    <tr style=\"text-align: right;\">\n",
       "      <th></th>\n",
       "      <th>Total</th>\n",
       "      <th>Percent</th>\n",
       "    </tr>\n",
       "  </thead>\n",
       "  <tbody>\n",
       "    <tr>\n",
       "      <th>0</th>\n",
       "      <td>608</td>\n",
       "      <td>68.237935</td>\n",
       "    </tr>\n",
       "    <tr>\n",
       "      <th>1</th>\n",
       "      <td>209</td>\n",
       "      <td>23.456790</td>\n",
       "    </tr>\n",
       "    <tr>\n",
       "      <th>2</th>\n",
       "      <td>28</td>\n",
       "      <td>3.142536</td>\n",
       "    </tr>\n",
       "    <tr>\n",
       "      <th>4</th>\n",
       "      <td>18</td>\n",
       "      <td>2.020202</td>\n",
       "    </tr>\n",
       "    <tr>\n",
       "      <th>3</th>\n",
       "      <td>16</td>\n",
       "      <td>1.795735</td>\n",
       "    </tr>\n",
       "    <tr>\n",
       "      <th>8</th>\n",
       "      <td>7</td>\n",
       "      <td>0.785634</td>\n",
       "    </tr>\n",
       "    <tr>\n",
       "      <th>5</th>\n",
       "      <td>5</td>\n",
       "      <td>0.561167</td>\n",
       "    </tr>\n",
       "  </tbody>\n",
       "</table>\n",
       "</div>"
      ],
      "text/plain": [
       "   Total    Percent\n",
       "0    608  68.237935\n",
       "1    209  23.456790\n",
       "2     28   3.142536\n",
       "4     18   2.020202\n",
       "3     16   1.795735\n",
       "8      7   0.785634\n",
       "5      5   0.561167"
      ]
     },
     "execution_count": 35,
     "metadata": {},
     "output_type": "execute_result"
    },
    {
     "data": {
      "image/png": "[encoded data removed]",
      "text/plain": [
       "<Figure size 720x432 with 1 Axes>"
      ]
     },
     "metadata": {
      "needs_background": "light"
     },
     "output_type": "display_data"
    }
   ],
   "source": [
    "eda.value_counts(train.SibSp,percentage=True)"
   ]
  },
  {
   "cell_type": "code",
   "execution_count": 36,
   "metadata": {
    "execution": {
     "iopub.execute_input": "2021-08-11T21:39:29.735688Z",
     "iopub.status.busy": "2021-08-11T21:39:29.734908Z",
     "iopub.status.idle": "2021-08-11T21:39:30.254957Z",
     "shell.execute_reply": "2021-08-11T21:39:30.256091Z",
     "shell.execute_reply.started": "2021-08-11T20:09:39.243433Z"
    },
    "papermill": {
     "duration": 0.650382,
     "end_time": "2021-08-11T21:39:30.256336",
     "exception": false,
     "start_time": "2021-08-11T21:39:29.605954",
     "status": "completed"
    },
    "tags": []
   },
   "outputs": [
    {
     "name": "stdout",
     "output_type": "stream",
     "text": [
      "   SibSp  Survived\n",
      "0      0  0.345395\n",
      "1      1  0.535885\n",
      "2      2  0.464286\n",
      "3      3  0.250000\n",
      "4      4  0.166667\n",
      "5      5  0.000000\n",
      "6      8  0.000000\n"
     ]
    },
    {
     "data": {
      "image/png": "[encoded data removed]",
      "text/plain": [
       "<Figure size 864x432 with 1 Axes>"
      ]
     },
     "metadata": {
      "needs_background": "light"
     },
     "output_type": "display_data"
    }
   ],
   "source": [
    "get_survivors(\"SibSp\")"
   ]
  },
  {
   "cell_type": "markdown",
   "metadata": {
    "papermill": {
     "duration": 0.12341,
     "end_time": "2021-08-11T21:39:30.580358",
     "exception": false,
     "start_time": "2021-08-11T21:39:30.456948",
     "status": "completed"
    },
    "tags": []
   },
   "source": [
    "<br>\n",
    "<br>"
   ]
  },
  {
   "cell_type": "markdown",
   "metadata": {
    "papermill": {
     "duration": 0.121178,
     "end_time": "2021-08-11T21:39:30.823983",
     "exception": false,
     "start_time": "2021-08-11T21:39:30.702805",
     "status": "completed"
    },
    "tags": []
   },
   "source": [
    "# Parch"
   ]
  },
  {
   "cell_type": "code",
   "execution_count": 37,
   "metadata": {
    "execution": {
     "iopub.execute_input": "2021-08-11T21:39:31.075938Z",
     "iopub.status.busy": "2021-08-11T21:39:31.074767Z",
     "iopub.status.idle": "2021-08-11T21:39:31.507195Z",
     "shell.execute_reply": "2021-08-11T21:39:31.506624Z",
     "shell.execute_reply.started": "2021-08-11T20:09:44.553616Z"
    },
    "papermill": {
     "duration": 0.562177,
     "end_time": "2021-08-11T21:39:31.507334",
     "exception": false,
     "start_time": "2021-08-11T21:39:30.945157",
     "status": "completed"
    },
    "tags": []
   },
   "outputs": [
    {
     "name": "stdout",
     "output_type": "stream",
     "text": [
      "The feature Parch is NUMERIC\n",
      "\n",
      "\u001b[32m-Missing values in training set: 0\u001b[0m\n",
      "\u001b[32m-Missing values in test set    : 0\u001b[0m\n",
      "\u001b[33m-Outliers 1.5*IQR: 213\u001b[0m\n",
      "\u001b[31m-Outliers   3*IQR: 213\u001b[0m\n"
     ]
    },
    {
     "data": {
      "image/png": "[encoded data removed]",
      "text/plain": [
       "<Figure size 1440x360 with 3 Axes>"
      ]
     },
     "metadata": {
      "needs_background": "light"
     },
     "output_type": "display_data"
    }
   ],
   "source": [
    "eda.feature_analysis(train,\"Parch\",test,\"Survived\")"
   ]
  },
  {
   "cell_type": "code",
   "execution_count": 38,
   "metadata": {
    "execution": {
     "iopub.execute_input": "2021-08-11T21:39:31.775857Z",
     "iopub.status.busy": "2021-08-11T21:39:31.759281Z",
     "iopub.status.idle": "2021-08-11T21:39:31.921912Z",
     "shell.execute_reply": "2021-08-11T21:39:31.920916Z",
     "shell.execute_reply.started": "2021-08-11T20:09:45.062121Z"
    },
    "papermill": {
     "duration": 0.291978,
     "end_time": "2021-08-11T21:39:31.922046",
     "exception": false,
     "start_time": "2021-08-11T21:39:31.630068",
     "status": "completed"
    },
    "tags": []
   },
   "outputs": [
    {
     "data": {
      "text/html": [
       "<div>\n",
       "<style scoped>\n",
       "    .dataframe tbody tr th:only-of-type {\n",
       "        vertical-align: middle;\n",
       "    }\n",
       "\n",
       "    .dataframe tbody tr th {\n",
       "        vertical-align: top;\n",
       "    }\n",
       "\n",
       "    .dataframe thead th {\n",
       "        text-align: right;\n",
       "    }\n",
       "</style>\n",
       "<table border=\"1\" class=\"dataframe\">\n",
       "  <thead>\n",
       "    <tr style=\"text-align: right;\">\n",
       "      <th></th>\n",
       "      <th>Total</th>\n",
       "      <th>Percent</th>\n",
       "    </tr>\n",
       "  </thead>\n",
       "  <tbody>\n",
       "    <tr>\n",
       "      <th>0</th>\n",
       "      <td>678</td>\n",
       "      <td>76.094276</td>\n",
       "    </tr>\n",
       "    <tr>\n",
       "      <th>1</th>\n",
       "      <td>118</td>\n",
       "      <td>13.243547</td>\n",
       "    </tr>\n",
       "    <tr>\n",
       "      <th>2</th>\n",
       "      <td>80</td>\n",
       "      <td>8.978676</td>\n",
       "    </tr>\n",
       "    <tr>\n",
       "      <th>5</th>\n",
       "      <td>5</td>\n",
       "      <td>0.561167</td>\n",
       "    </tr>\n",
       "    <tr>\n",
       "      <th>3</th>\n",
       "      <td>5</td>\n",
       "      <td>0.561167</td>\n",
       "    </tr>\n",
       "    <tr>\n",
       "      <th>4</th>\n",
       "      <td>4</td>\n",
       "      <td>0.448934</td>\n",
       "    </tr>\n",
       "    <tr>\n",
       "      <th>6</th>\n",
       "      <td>1</td>\n",
       "      <td>0.112233</td>\n",
       "    </tr>\n",
       "  </tbody>\n",
       "</table>\n",
       "</div>"
      ],
      "text/plain": [
       "   Total    Percent\n",
       "0    678  76.094276\n",
       "1    118  13.243547\n",
       "2     80   8.978676\n",
       "5      5   0.561167\n",
       "3      5   0.561167\n",
       "4      4   0.448934\n",
       "6      1   0.112233"
      ]
     },
     "execution_count": 38,
     "metadata": {},
     "output_type": "execute_result"
    },
    {
     "data": {
      "image/png": "[encoded data removed]",
      "text/plain": [
       "<Figure size 720x432 with 1 Axes>"
      ]
     },
     "metadata": {
      "needs_background": "light"
     },
     "output_type": "display_data"
    }
   ],
   "source": [
    "eda.value_counts(train.Parch,percentage=True)"
   ]
  },
  {
   "cell_type": "code",
   "execution_count": 39,
   "metadata": {
    "execution": {
     "iopub.execute_input": "2021-08-11T21:39:32.194887Z",
     "iopub.status.busy": "2021-08-11T21:39:32.177677Z",
     "iopub.status.idle": "2021-08-11T21:39:32.516929Z",
     "shell.execute_reply": "2021-08-11T21:39:32.517431Z",
     "shell.execute_reply.started": "2021-08-11T20:09:45.424424Z"
    },
    "papermill": {
     "duration": 0.471475,
     "end_time": "2021-08-11T21:39:32.517605",
     "exception": false,
     "start_time": "2021-08-11T21:39:32.046130",
     "status": "completed"
    },
    "tags": []
   },
   "outputs": [
    {
     "name": "stdout",
     "output_type": "stream",
     "text": [
      "   Parch  Survived\n",
      "0      0  0.343658\n",
      "1      1  0.550847\n",
      "2      2  0.500000\n",
      "3      3  0.600000\n",
      "4      4  0.000000\n",
      "5      5  0.200000\n",
      "6      6  0.000000\n"
     ]
    },
    {
     "data": {
      "image/png": "[encoded data removed]",
      "text/plain": [
       "<Figure size 864x432 with 1 Axes>"
      ]
     },
     "metadata": {
      "needs_background": "light"
     },
     "output_type": "display_data"
    }
   ],
   "source": [
    "get_survivors(\"Parch\")"
   ]
  },
  {
   "cell_type": "markdown",
   "metadata": {
    "papermill": {
     "duration": 0.130462,
     "end_time": "2021-08-11T21:39:32.775371",
     "exception": false,
     "start_time": "2021-08-11T21:39:32.644909",
     "status": "completed"
    },
    "tags": []
   },
   "source": [
    "<br>\n",
    "<br>"
   ]
  },
  {
   "cell_type": "markdown",
   "metadata": {
    "papermill": {
     "duration": 0.12384,
     "end_time": "2021-08-11T21:39:33.023313",
     "exception": false,
     "start_time": "2021-08-11T21:39:32.899473",
     "status": "completed"
    },
    "tags": []
   },
   "source": [
    "# Ticket"
   ]
  },
  {
   "cell_type": "code",
   "execution_count": 40,
   "metadata": {
    "execution": {
     "iopub.execute_input": "2021-08-11T21:39:33.284129Z",
     "iopub.status.busy": "2021-08-11T21:39:33.283043Z",
     "iopub.status.idle": "2021-08-11T21:39:33.291252Z",
     "shell.execute_reply": "2021-08-11T21:39:33.291709Z",
     "shell.execute_reply.started": "2021-08-11T20:09:53.809543Z"
    },
    "papermill": {
     "duration": 0.142305,
     "end_time": "2021-08-11T21:39:33.291854",
     "exception": false,
     "start_time": "2021-08-11T21:39:33.149549",
     "status": "completed"
    },
    "tags": []
   },
   "outputs": [
    {
     "name": "stdout",
     "output_type": "stream",
     "text": [
      "The feature Ticket is CATEGORICAL\n",
      "\n",
      "\u001b[31m-Cardinality: 681\u001b[0m\n",
      "\u001b[32m-Missing values in training set: 0\u001b[0m\n",
      "\u001b[32m-Missing values in test set    : 0\u001b[0m\n",
      "\u001b[31m-THE CARDINALITY IS TOO BIG\u001b[0m\n"
     ]
    }
   ],
   "source": [
    "eda.feature_analysis(train,\"Ticket\",test,\"Survived\")"
   ]
  },
  {
   "cell_type": "code",
   "execution_count": 41,
   "metadata": {
    "execution": {
     "iopub.execute_input": "2021-08-11T21:39:33.545749Z",
     "iopub.status.busy": "2021-08-11T21:39:33.545131Z",
     "iopub.status.idle": "2021-08-11T21:39:33.550090Z",
     "shell.execute_reply": "2021-08-11T21:39:33.549669Z",
     "shell.execute_reply.started": "2021-08-11T20:09:54.265306Z"
    },
    "papermill": {
     "duration": 0.134546,
     "end_time": "2021-08-11T21:39:33.550197",
     "exception": false,
     "start_time": "2021-08-11T21:39:33.415651",
     "status": "completed"
    },
    "tags": []
   },
   "outputs": [
    {
     "data": {
      "text/plain": [
       "0           A/5 21171\n",
       "1            PC 17599\n",
       "2    STON/O2. 3101282\n",
       "3              113803\n",
       "4              373450\n",
       "5              330877\n",
       "6               17463\n",
       "7              349909\n",
       "Name: Ticket, dtype: object"
      ]
     },
     "execution_count": 41,
     "metadata": {},
     "output_type": "execute_result"
    }
   ],
   "source": [
    "train.Ticket.head(8)"
   ]
  },
  {
   "cell_type": "code",
   "execution_count": 42,
   "metadata": {
    "execution": {
     "iopub.execute_input": "2021-08-11T21:39:33.807886Z",
     "iopub.status.busy": "2021-08-11T21:39:33.807190Z",
     "iopub.status.idle": "2021-08-11T21:39:33.810426Z",
     "shell.execute_reply": "2021-08-11T21:39:33.810948Z",
     "shell.execute_reply.started": "2021-08-11T20:09:54.571493Z"
    },
    "papermill": {
     "duration": 0.133413,
     "end_time": "2021-08-11T21:39:33.811092",
     "exception": false,
     "start_time": "2021-08-11T21:39:33.677679",
     "status": "completed"
    },
    "tags": []
   },
   "outputs": [
    {
     "name": "stdout",
     "output_type": "stream",
     "text": [
      "Ticket cardinality: 681\n"
     ]
    }
   ],
   "source": [
    "print(\"Ticket cardinality: {}\".format(len(train.Ticket.unique())))"
   ]
  },
  {
   "cell_type": "markdown",
   "metadata": {
    "papermill": {
     "duration": 0.125419,
     "end_time": "2021-08-11T21:39:34.063093",
     "exception": false,
     "start_time": "2021-08-11T21:39:33.937674",
     "status": "completed"
    },
    "tags": []
   },
   "source": [
    "The variable 'Ticket' also has a high cardinality and it seems that we cannot extract any useful information from the variable so we will remove it."
   ]
  },
  {
   "cell_type": "code",
   "execution_count": 43,
   "metadata": {
    "execution": {
     "iopub.execute_input": "2021-08-11T21:39:34.319316Z",
     "iopub.status.busy": "2021-08-11T21:39:34.318606Z",
     "iopub.status.idle": "2021-08-11T21:39:34.321644Z",
     "shell.execute_reply": "2021-08-11T21:39:34.321216Z",
     "shell.execute_reply.started": "2021-08-11T20:09:55.496494Z"
    },
    "papermill": {
     "duration": 0.133992,
     "end_time": "2021-08-11T21:39:34.321759",
     "exception": false,
     "start_time": "2021-08-11T21:39:34.187767",
     "status": "completed"
    },
    "tags": []
   },
   "outputs": [],
   "source": [
    "train.drop(columns='Ticket',inplace=True)\n",
    "test.drop(columns='Ticket',inplace=True)"
   ]
  },
  {
   "cell_type": "markdown",
   "metadata": {
    "papermill": {
     "duration": 0.126987,
     "end_time": "2021-08-11T21:39:34.574158",
     "exception": false,
     "start_time": "2021-08-11T21:39:34.447171",
     "status": "completed"
    },
    "tags": []
   },
   "source": [
    "<br>\n",
    "<br>"
   ]
  },
  {
   "cell_type": "markdown",
   "metadata": {
    "papermill": {
     "duration": 0.128142,
     "end_time": "2021-08-11T21:39:34.828359",
     "exception": false,
     "start_time": "2021-08-11T21:39:34.700217",
     "status": "completed"
    },
    "tags": []
   },
   "source": [
    "# Fare"
   ]
  },
  {
   "cell_type": "code",
   "execution_count": 44,
   "metadata": {
    "execution": {
     "iopub.execute_input": "2021-08-11T21:39:35.090690Z",
     "iopub.status.busy": "2021-08-11T21:39:35.089675Z",
     "iopub.status.idle": "2021-08-11T21:39:35.513045Z",
     "shell.execute_reply": "2021-08-11T21:39:35.513446Z",
     "shell.execute_reply.started": "2021-08-11T20:09:58.303161Z"
    },
    "papermill": {
     "duration": 0.556367,
     "end_time": "2021-08-11T21:39:35.513610",
     "exception": false,
     "start_time": "2021-08-11T21:39:34.957243",
     "status": "completed"
    },
    "tags": []
   },
   "outputs": [
    {
     "name": "stdout",
     "output_type": "stream",
     "text": [
      "The feature Fare is NUMERIC\n",
      "\n",
      "\u001b[32m-Missing values in training set: 0\u001b[0m\n",
      "\u001b[31m-Missing values in test set    : 1\u001b[0m\n",
      "\u001b[33m-Outliers 1.5*IQR: 116\u001b[0m\n",
      "\u001b[31m-Outliers   3*IQR: 53\u001b[0m\n"
     ]
    },
    {
     "data": {
      "image/png": "[encoded data removed]",
      "text/plain": [
       "<Figure size 1440x360 with 3 Axes>"
      ]
     },
     "metadata": {
      "needs_background": "light"
     },
     "output_type": "display_data"
    }
   ],
   "source": [
    "eda.feature_analysis(train,\"Fare\",test,\"Survived\")"
   ]
  },
  {
   "cell_type": "code",
   "execution_count": 45,
   "metadata": {
    "execution": {
     "iopub.execute_input": "2021-08-11T21:39:35.817329Z",
     "iopub.status.busy": "2021-08-11T21:39:35.814861Z",
     "iopub.status.idle": "2021-08-11T21:39:36.335765Z",
     "shell.execute_reply": "2021-08-11T21:39:36.336169Z",
     "shell.execute_reply.started": "2021-08-11T20:09:58.779493Z"
    },
    "papermill": {
     "duration": 0.696685,
     "end_time": "2021-08-11T21:39:36.336327",
     "exception": false,
     "start_time": "2021-08-11T21:39:35.639642",
     "status": "completed"
    },
    "tags": []
   },
   "outputs": [
    {
     "data": {
      "image/png": "[encoded data removed]",
      "text/plain": [
       "<Figure size 1440x360 with 3 Axes>"
      ]
     },
     "metadata": {
      "needs_background": "light"
     },
     "output_type": "display_data"
    }
   ],
   "source": [
    "eda.distribution_diag(train,'Fare')"
   ]
  },
  {
   "cell_type": "markdown",
   "metadata": {
    "papermill": {
     "duration": 0.129228,
     "end_time": "2021-08-11T21:39:36.596282",
     "exception": false,
     "start_time": "2021-08-11T21:39:36.467054",
     "status": "completed"
    },
    "tags": []
   },
   "source": [
    "The 'fare' variable is asymmetric, has missing data and also has several outliers (some closer and some further)."
   ]
  },
  {
   "cell_type": "code",
   "execution_count": 46,
   "metadata": {
    "execution": {
     "iopub.execute_input": "2021-08-11T21:39:36.860399Z",
     "iopub.status.busy": "2021-08-11T21:39:36.859234Z",
     "iopub.status.idle": "2021-08-11T21:39:36.868073Z",
     "shell.execute_reply": "2021-08-11T21:39:36.867652Z",
     "shell.execute_reply.started": "2021-08-11T20:10:02.195898Z"
    },
    "papermill": {
     "duration": 0.141781,
     "end_time": "2021-08-11T21:39:36.868191",
     "exception": false,
     "start_time": "2021-08-11T21:39:36.726410",
     "status": "completed"
    },
    "tags": []
   },
   "outputs": [
    {
     "data": {
      "text/plain": [
       "(53, 15)"
      ]
     },
     "execution_count": 46,
     "metadata": {},
     "output_type": "execute_result"
    }
   ],
   "source": [
    "eda.outliers(train,'Fare',table=True,limits=False,method=\"IQR3\").shape"
   ]
  },
  {
   "cell_type": "markdown",
   "metadata": {
    "papermill": {
     "duration": 0.139636,
     "end_time": "2021-08-11T21:39:37.135668",
     "exception": false,
     "start_time": "2021-08-11T21:39:36.996032",
     "status": "completed"
    },
    "tags": []
   },
   "source": [
    "As we can see, there are 116 outliers so we will have to transform the variable to improve its distribution and reduce the outliers."
   ]
  },
  {
   "cell_type": "code",
   "execution_count": 47,
   "metadata": {
    "execution": {
     "iopub.execute_input": "2021-08-11T21:39:37.402758Z",
     "iopub.status.busy": "2021-08-11T21:39:37.401828Z",
     "iopub.status.idle": "2021-08-11T21:39:37.404581Z",
     "shell.execute_reply": "2021-08-11T21:39:37.404145Z",
     "shell.execute_reply.started": "2021-08-11T20:10:02.548394Z"
    },
    "papermill": {
     "duration": 0.140294,
     "end_time": "2021-08-11T21:39:37.404700",
     "exception": false,
     "start_time": "2021-08-11T21:39:37.264406",
     "status": "completed"
    },
    "tags": []
   },
   "outputs": [],
   "source": [
    "train=fe.impute_missing(train,train,variables=['Fare'])\n",
    "test=fe.impute_missing(train.drop('Survived',axis=1),test,variables=['Fare'])"
   ]
  },
  {
   "cell_type": "code",
   "execution_count": 48,
   "metadata": {
    "execution": {
     "iopub.execute_input": "2021-08-11T21:39:37.672673Z",
     "iopub.status.busy": "2021-08-11T21:39:37.669922Z",
     "iopub.status.idle": "2021-08-11T21:39:38.076052Z",
     "shell.execute_reply": "2021-08-11T21:39:38.076616Z",
     "shell.execute_reply.started": "2021-08-11T20:10:02.753359Z"
    },
    "papermill": {
     "duration": 0.545574,
     "end_time": "2021-08-11T21:39:38.076803",
     "exception": false,
     "start_time": "2021-08-11T21:39:37.531229",
     "status": "completed"
    },
    "tags": []
   },
   "outputs": [
    {
     "data": {
      "image/png": "[encoded data removed]",
      "text/plain": [
       "<Figure size 1440x360 with 3 Axes>"
      ]
     },
     "metadata": {
      "needs_background": "light"
     },
     "output_type": "display_data"
    }
   ],
   "source": [
    "train=fe.transform(train,variables='Fare',method='yeo')\n",
    "test=fe.transform(test,variables='Fare',method='yeo')\n",
    "eda.distribution_diag(train,'Fare')"
   ]
  },
  {
   "cell_type": "code",
   "execution_count": 49,
   "metadata": {
    "execution": {
     "iopub.execute_input": "2021-08-11T21:39:38.348171Z",
     "iopub.status.busy": "2021-08-11T21:39:38.347329Z",
     "iopub.status.idle": "2021-08-11T21:39:38.354766Z",
     "shell.execute_reply": "2021-08-11T21:39:38.354346Z",
     "shell.execute_reply.started": "2021-08-11T20:10:03.198499Z"
    },
    "papermill": {
     "duration": 0.145211,
     "end_time": "2021-08-11T21:39:38.354885",
     "exception": false,
     "start_time": "2021-08-11T21:39:38.209674",
     "status": "completed"
    },
    "tags": []
   },
   "outputs": [
    {
     "data": {
      "text/plain": [
       "(0, 15)"
      ]
     },
     "execution_count": 49,
     "metadata": {},
     "output_type": "execute_result"
    }
   ],
   "source": [
    "eda.outliers(train,'Fare',table=True,limits=False,method=\"IQR3\").shape"
   ]
  },
  {
   "cell_type": "markdown",
   "metadata": {
    "papermill": {
     "duration": 0.127675,
     "end_time": "2021-08-11T21:39:38.612199",
     "exception": false,
     "start_time": "2021-08-11T21:39:38.484524",
     "status": "completed"
    },
    "tags": []
   },
   "source": [
    "We have performed the transformation with Yeo-Johnson's method and when checking the number of outliers we see that the number of outliers has gone from 116 to 18. We will treat outliers as missing values to be imputed by performing a simple random sampling."
   ]
  },
  {
   "cell_type": "code",
   "execution_count": 50,
   "metadata": {
    "execution": {
     "iopub.execute_input": "2021-08-11T21:39:38.890124Z",
     "iopub.status.busy": "2021-08-11T21:39:38.889293Z",
     "iopub.status.idle": "2021-08-11T21:39:38.893236Z",
     "shell.execute_reply": "2021-08-11T21:39:38.892835Z",
     "shell.execute_reply.started": "2021-08-11T20:10:03.324251Z"
    },
    "papermill": {
     "duration": 0.147807,
     "end_time": "2021-08-11T21:39:38.893354",
     "exception": false,
     "start_time": "2021-08-11T21:39:38.745547",
     "status": "completed"
    },
    "tags": []
   },
   "outputs": [
    {
     "data": {
      "text/html": [
       "<div>\n",
       "<style scoped>\n",
       "    .dataframe tbody tr th:only-of-type {\n",
       "        vertical-align: middle;\n",
       "    }\n",
       "\n",
       "    .dataframe tbody tr th {\n",
       "        vertical-align: top;\n",
       "    }\n",
       "\n",
       "    .dataframe thead th {\n",
       "        text-align: right;\n",
       "    }\n",
       "</style>\n",
       "<table border=\"1\" class=\"dataframe\">\n",
       "  <thead>\n",
       "    <tr style=\"text-align: right;\">\n",
       "      <th></th>\n",
       "      <th>Total</th>\n",
       "      <th>Percent</th>\n",
       "    </tr>\n",
       "  </thead>\n",
       "  <tbody>\n",
       "    <tr>\n",
       "      <th>Cabin</th>\n",
       "      <td>687</td>\n",
       "      <td>77.104377</td>\n",
       "    </tr>\n",
       "    <tr>\n",
       "      <th>Embarked</th>\n",
       "      <td>2</td>\n",
       "      <td>0.224467</td>\n",
       "    </tr>\n",
       "    <tr>\n",
       "      <th>IsAlone</th>\n",
       "      <td>0</td>\n",
       "      <td>0.000000</td>\n",
       "    </tr>\n",
       "  </tbody>\n",
       "</table>\n",
       "</div>"
      ],
      "text/plain": [
       "          Total    Percent\n",
       "Cabin       687  77.104377\n",
       "Embarked      2   0.224467\n",
       "IsAlone       0   0.000000"
      ]
     },
     "execution_count": 50,
     "metadata": {},
     "output_type": "execute_result"
    }
   ],
   "source": [
    "eda.missing_data(train).head(3)"
   ]
  },
  {
   "cell_type": "code",
   "execution_count": 51,
   "metadata": {
    "execution": {
     "iopub.execute_input": "2021-08-11T21:39:39.166278Z",
     "iopub.status.busy": "2021-08-11T21:39:39.165245Z",
     "iopub.status.idle": "2021-08-11T21:39:39.170258Z",
     "shell.execute_reply": "2021-08-11T21:39:39.169732Z",
     "shell.execute_reply.started": "2021-08-11T20:10:06.600291Z"
    },
    "papermill": {
     "duration": 0.146582,
     "end_time": "2021-08-11T21:39:39.170406",
     "exception": false,
     "start_time": "2021-08-11T21:39:39.023824",
     "status": "completed"
    },
    "tags": []
   },
   "outputs": [
    {
     "data": {
      "text/html": [
       "<div>\n",
       "<style scoped>\n",
       "    .dataframe tbody tr th:only-of-type {\n",
       "        vertical-align: middle;\n",
       "    }\n",
       "\n",
       "    .dataframe tbody tr th {\n",
       "        vertical-align: top;\n",
       "    }\n",
       "\n",
       "    .dataframe thead th {\n",
       "        text-align: right;\n",
       "    }\n",
       "</style>\n",
       "<table border=\"1\" class=\"dataframe\">\n",
       "  <thead>\n",
       "    <tr style=\"text-align: right;\">\n",
       "      <th></th>\n",
       "      <th>Total</th>\n",
       "      <th>Percent</th>\n",
       "    </tr>\n",
       "  </thead>\n",
       "  <tbody>\n",
       "    <tr>\n",
       "      <th>Cabin</th>\n",
       "      <td>327</td>\n",
       "      <td>78.229665</td>\n",
       "    </tr>\n",
       "    <tr>\n",
       "      <th>IsAlone</th>\n",
       "      <td>0</td>\n",
       "      <td>0.000000</td>\n",
       "    </tr>\n",
       "    <tr>\n",
       "      <th>FamilySize</th>\n",
       "      <td>0</td>\n",
       "      <td>0.000000</td>\n",
       "    </tr>\n",
       "  </tbody>\n",
       "</table>\n",
       "</div>"
      ],
      "text/plain": [
       "            Total    Percent\n",
       "Cabin         327  78.229665\n",
       "IsAlone         0   0.000000\n",
       "FamilySize      0   0.000000"
      ]
     },
     "execution_count": 51,
     "metadata": {},
     "output_type": "execute_result"
    }
   ],
   "source": [
    "eda.missing_data(test).head(3)"
   ]
  },
  {
   "cell_type": "markdown",
   "metadata": {
    "papermill": {
     "duration": 0.128293,
     "end_time": "2021-08-11T21:39:39.436736",
     "exception": false,
     "start_time": "2021-08-11T21:39:39.308443",
     "status": "completed"
    },
    "tags": []
   },
   "source": [
    "We will divide the fare variable into ranges with the same frequency as for age"
   ]
  },
  {
   "cell_type": "code",
   "execution_count": 52,
   "metadata": {
    "execution": {
     "iopub.execute_input": "2021-08-11T21:39:39.705644Z",
     "iopub.status.busy": "2021-08-11T21:39:39.704704Z",
     "iopub.status.idle": "2021-08-11T21:39:39.740008Z",
     "shell.execute_reply": "2021-08-11T21:39:39.740473Z",
     "shell.execute_reply.started": "2021-08-11T20:10:06.960495Z"
    },
    "papermill": {
     "duration": 0.174707,
     "end_time": "2021-08-11T21:39:39.740651",
     "exception": false,
     "start_time": "2021-08-11T21:39:39.565944",
     "status": "completed"
    },
    "tags": []
   },
   "outputs": [],
   "source": [
    "test[\"FareFreq\"] = fe.discretization(train.drop('Survived',axis=1),test,variables=['Fare'])['Fare']\n",
    "train[\"FareFreq\"] = fe.discretization(train,train,variables=['Fare'])['Fare']\n",
    "test[\"FareRange\"] = fe.discretization(train.drop('Survived',axis=1),test,variables=['Fare'],method=\"equalrange\")['Fare']\n",
    "train[\"FareRange\"] = fe.discretization(train,train,variables=['Fare'],method=\"equalrange\")['Fare']"
   ]
  },
  {
   "cell_type": "markdown",
   "metadata": {
    "papermill": {
     "duration": 0.134765,
     "end_time": "2021-08-11T21:39:40.008220",
     "exception": false,
     "start_time": "2021-08-11T21:39:39.873455",
     "status": "completed"
    },
    "tags": []
   },
   "source": [
    "<br>\n",
    "<br>"
   ]
  },
  {
   "cell_type": "markdown",
   "metadata": {
    "papermill": {
     "duration": 0.133412,
     "end_time": "2021-08-11T21:39:40.272716",
     "exception": false,
     "start_time": "2021-08-11T21:39:40.139304",
     "status": "completed"
    },
    "tags": []
   },
   "source": [
    "# Cabin"
   ]
  },
  {
   "cell_type": "code",
   "execution_count": 53,
   "metadata": {
    "execution": {
     "iopub.execute_input": "2021-08-11T21:39:40.542612Z",
     "iopub.status.busy": "2021-08-11T21:39:40.541946Z",
     "iopub.status.idle": "2021-08-11T21:39:40.545160Z",
     "shell.execute_reply": "2021-08-11T21:39:40.545717Z",
     "shell.execute_reply.started": "2021-08-11T20:10:09.631125Z"
    },
    "papermill": {
     "duration": 0.141487,
     "end_time": "2021-08-11T21:39:40.545858",
     "exception": false,
     "start_time": "2021-08-11T21:39:40.404371",
     "status": "completed"
    },
    "tags": []
   },
   "outputs": [
    {
     "name": "stdout",
     "output_type": "stream",
     "text": [
      "The feature Cabin is CATEGORICAL\n",
      "\n",
      "\u001b[31m-Cardinality: 148\u001b[0m\n",
      "\u001b[31m-Missing values in training set: 687\u001b[0m\n",
      "\u001b[31m-Missing values in test set    : 327\u001b[0m\n",
      "\u001b[31m-THE CARDINALITY IS TOO BIG\u001b[0m\n"
     ]
    }
   ],
   "source": [
    "eda.feature_analysis(train,\"Cabin\",test,\"Survived\")"
   ]
  },
  {
   "cell_type": "code",
   "execution_count": 54,
   "metadata": {
    "execution": {
     "iopub.execute_input": "2021-08-11T21:39:40.811397Z",
     "iopub.status.busy": "2021-08-11T21:39:40.810681Z",
     "iopub.status.idle": "2021-08-11T21:39:40.815585Z",
     "shell.execute_reply": "2021-08-11T21:39:40.814880Z",
     "shell.execute_reply.started": "2021-08-11T20:10:09.856998Z"
    },
    "papermill": {
     "duration": 0.141319,
     "end_time": "2021-08-11T21:39:40.815756",
     "exception": false,
     "start_time": "2021-08-11T21:39:40.674437",
     "status": "completed"
    },
    "tags": []
   },
   "outputs": [
    {
     "name": "stdout",
     "output_type": "stream",
     "text": [
      "Cabin cardinality: 148\n"
     ]
    }
   ],
   "source": [
    "print(\"Cabin cardinality: {}\".format(len(train.Cabin.unique())))"
   ]
  },
  {
   "cell_type": "markdown",
   "metadata": {
    "papermill": {
     "duration": 0.222679,
     "end_time": "2021-08-11T21:39:41.256720",
     "exception": false,
     "start_time": "2021-08-11T21:39:41.034041",
     "status": "completed"
    },
    "tags": []
   },
   "source": [
    "The variable 'Cabin' also has a very high cardinality so we will have to reduce it. For this purpose, we will keep only the letter of the cabin"
   ]
  },
  {
   "cell_type": "code",
   "execution_count": 55,
   "metadata": {
    "execution": {
     "iopub.execute_input": "2021-08-11T21:39:41.609120Z",
     "iopub.status.busy": "2021-08-11T21:39:41.608283Z",
     "iopub.status.idle": "2021-08-11T21:39:41.755459Z",
     "shell.execute_reply": "2021-08-11T21:39:41.754952Z",
     "shell.execute_reply.started": "2021-08-11T20:10:10.233016Z"
    },
    "papermill": {
     "duration": 0.303979,
     "end_time": "2021-08-11T21:39:41.755612",
     "exception": false,
     "start_time": "2021-08-11T21:39:41.451633",
     "status": "completed"
    },
    "tags": []
   },
   "outputs": [
    {
     "name": "stdout",
     "output_type": "stream",
     "text": [
      "Cabin cardinality: 9\n"
     ]
    },
    {
     "data": {
      "text/html": [
       "<div>\n",
       "<style scoped>\n",
       "    .dataframe tbody tr th:only-of-type {\n",
       "        vertical-align: middle;\n",
       "    }\n",
       "\n",
       "    .dataframe tbody tr th {\n",
       "        vertical-align: top;\n",
       "    }\n",
       "\n",
       "    .dataframe thead th {\n",
       "        text-align: right;\n",
       "    }\n",
       "</style>\n",
       "<table border=\"1\" class=\"dataframe\">\n",
       "  <thead>\n",
       "    <tr style=\"text-align: right;\">\n",
       "      <th></th>\n",
       "      <th>Total</th>\n",
       "      <th>Percent</th>\n",
       "    </tr>\n",
       "  </thead>\n",
       "  <tbody>\n",
       "    <tr>\n",
       "      <th>C</th>\n",
       "      <td>59</td>\n",
       "      <td>6.621773</td>\n",
       "    </tr>\n",
       "    <tr>\n",
       "      <th>B</th>\n",
       "      <td>47</td>\n",
       "      <td>5.274972</td>\n",
       "    </tr>\n",
       "    <tr>\n",
       "      <th>D</th>\n",
       "      <td>33</td>\n",
       "      <td>3.703704</td>\n",
       "    </tr>\n",
       "    <tr>\n",
       "      <th>E</th>\n",
       "      <td>32</td>\n",
       "      <td>3.591470</td>\n",
       "    </tr>\n",
       "    <tr>\n",
       "      <th>A</th>\n",
       "      <td>15</td>\n",
       "      <td>1.683502</td>\n",
       "    </tr>\n",
       "    <tr>\n",
       "      <th>F</th>\n",
       "      <td>13</td>\n",
       "      <td>1.459035</td>\n",
       "    </tr>\n",
       "    <tr>\n",
       "      <th>G</th>\n",
       "      <td>4</td>\n",
       "      <td>0.448934</td>\n",
       "    </tr>\n",
       "    <tr>\n",
       "      <th>T</th>\n",
       "      <td>1</td>\n",
       "      <td>0.112233</td>\n",
       "    </tr>\n",
       "  </tbody>\n",
       "</table>\n",
       "</div>"
      ],
      "text/plain": [
       "   Total   Percent\n",
       "C     59  6.621773\n",
       "B     47  5.274972\n",
       "D     33  3.703704\n",
       "E     32  3.591470\n",
       "A     15  1.683502\n",
       "F     13  1.459035\n",
       "G      4  0.448934\n",
       "T      1  0.112233"
      ]
     },
     "execution_count": 55,
     "metadata": {},
     "output_type": "execute_result"
    },
    {
     "data": {
      "image/png": "[encoded data removed]",
      "text/plain": [
       "<Figure size 720x432 with 1 Axes>"
      ]
     },
     "metadata": {
      "needs_background": "light"
     },
     "output_type": "display_data"
    }
   ],
   "source": [
    "train['Cabin']=train.Cabin.str[0]\n",
    "test['Cabin']=test.Cabin.str[0]\n",
    "print(\"Cabin cardinality: {}\".format(len(train.Cabin.unique())))\n",
    "eda.value_counts(train.Cabin,percentage=True)"
   ]
  },
  {
   "cell_type": "markdown",
   "metadata": {
    "papermill": {
     "duration": 0.134387,
     "end_time": "2021-08-11T21:39:42.023653",
     "exception": false,
     "start_time": "2021-08-11T21:39:41.889266",
     "status": "completed"
    },
    "tags": []
   },
   "source": [
    "As before, we replace the missing values with a random sample so as not to modify the original distribution of the variable."
   ]
  },
  {
   "cell_type": "code",
   "execution_count": 56,
   "metadata": {
    "execution": {
     "iopub.execute_input": "2021-08-11T21:39:42.296178Z",
     "iopub.status.busy": "2021-08-11T21:39:42.295307Z",
     "iopub.status.idle": "2021-08-11T21:39:42.320537Z",
     "shell.execute_reply": "2021-08-11T21:39:42.319997Z",
     "shell.execute_reply.started": "2021-08-11T20:10:14.77737Z"
    },
    "papermill": {
     "duration": 0.165138,
     "end_time": "2021-08-11T21:39:42.320689",
     "exception": false,
     "start_time": "2021-08-11T21:39:42.155551",
     "status": "completed"
    },
    "tags": []
   },
   "outputs": [
    {
     "data": {
      "text/html": [
       "<div>\n",
       "<style scoped>\n",
       "    .dataframe tbody tr th:only-of-type {\n",
       "        vertical-align: middle;\n",
       "    }\n",
       "\n",
       "    .dataframe tbody tr th {\n",
       "        vertical-align: top;\n",
       "    }\n",
       "\n",
       "    .dataframe thead th {\n",
       "        text-align: right;\n",
       "    }\n",
       "</style>\n",
       "<table border=\"1\" class=\"dataframe\">\n",
       "  <thead>\n",
       "    <tr style=\"text-align: right;\">\n",
       "      <th></th>\n",
       "      <th>Total</th>\n",
       "      <th>Percent</th>\n",
       "    </tr>\n",
       "  </thead>\n",
       "  <tbody>\n",
       "    <tr>\n",
       "      <th>Embarked</th>\n",
       "      <td>2</td>\n",
       "      <td>0.224467</td>\n",
       "    </tr>\n",
       "    <tr>\n",
       "      <th>Cabin_na</th>\n",
       "      <td>0</td>\n",
       "      <td>0.000000</td>\n",
       "    </tr>\n",
       "    <tr>\n",
       "      <th>Fare</th>\n",
       "      <td>0</td>\n",
       "      <td>0.000000</td>\n",
       "    </tr>\n",
       "  </tbody>\n",
       "</table>\n",
       "</div>"
      ],
      "text/plain": [
       "          Total   Percent\n",
       "Embarked      2  0.224467\n",
       "Cabin_na      0  0.000000\n",
       "Fare          0  0.000000"
      ]
     },
     "execution_count": 56,
     "metadata": {},
     "output_type": "execute_result"
    }
   ],
   "source": [
    "test=fe.impute_missing(train.drop('Survived',axis=1),test,variables=['Cabin'],method='indicator')\n",
    "train=fe.impute_missing(train,train,variables=['Cabin'],method='indicator')\n",
    "train=fe.impute_missing(train,train,variables=['Cabin'])\n",
    "test=fe.impute_missing(train.drop('Survived',axis=1),test,variables=['Cabin'])\n",
    "eda.missing_data(train).head(3)"
   ]
  },
  {
   "cell_type": "code",
   "execution_count": 57,
   "metadata": {
    "execution": {
     "iopub.execute_input": "2021-08-11T21:39:42.604000Z",
     "iopub.status.busy": "2021-08-11T21:39:42.603149Z",
     "iopub.status.idle": "2021-08-11T21:39:42.608019Z",
     "shell.execute_reply": "2021-08-11T21:39:42.607606Z",
     "shell.execute_reply.started": "2021-08-11T20:10:15.626288Z"
    },
    "papermill": {
     "duration": 0.146327,
     "end_time": "2021-08-11T21:39:42.608135",
     "exception": false,
     "start_time": "2021-08-11T21:39:42.461808",
     "status": "completed"
    },
    "tags": []
   },
   "outputs": [
    {
     "data": {
      "text/html": [
       "<div>\n",
       "<style scoped>\n",
       "    .dataframe tbody tr th:only-of-type {\n",
       "        vertical-align: middle;\n",
       "    }\n",
       "\n",
       "    .dataframe tbody tr th {\n",
       "        vertical-align: top;\n",
       "    }\n",
       "\n",
       "    .dataframe thead th {\n",
       "        text-align: right;\n",
       "    }\n",
       "</style>\n",
       "<table border=\"1\" class=\"dataframe\">\n",
       "  <thead>\n",
       "    <tr style=\"text-align: right;\">\n",
       "      <th></th>\n",
       "      <th>Total</th>\n",
       "      <th>Percent</th>\n",
       "    </tr>\n",
       "  </thead>\n",
       "  <tbody>\n",
       "    <tr>\n",
       "      <th>Cabin_na</th>\n",
       "      <td>0</td>\n",
       "      <td>0.0</td>\n",
       "    </tr>\n",
       "    <tr>\n",
       "      <th>Cabin</th>\n",
       "      <td>0</td>\n",
       "      <td>0.0</td>\n",
       "    </tr>\n",
       "    <tr>\n",
       "      <th>Name</th>\n",
       "      <td>0</td>\n",
       "      <td>0.0</td>\n",
       "    </tr>\n",
       "  </tbody>\n",
       "</table>\n",
       "</div>"
      ],
      "text/plain": [
       "          Total  Percent\n",
       "Cabin_na      0      0.0\n",
       "Cabin         0      0.0\n",
       "Name          0      0.0"
      ]
     },
     "execution_count": 57,
     "metadata": {},
     "output_type": "execute_result"
    }
   ],
   "source": [
    "eda.missing_data(test).head(3)"
   ]
  },
  {
   "cell_type": "markdown",
   "metadata": {
    "papermill": {
     "duration": 0.145125,
     "end_time": "2021-08-11T21:39:42.892707",
     "exception": false,
     "start_time": "2021-08-11T21:39:42.747582",
     "status": "completed"
    },
    "tags": []
   },
   "source": [
    "Some categories are below 5% of representativeness so we are going to group these categories creating a new one called 'rare'. This will help when putting it into production"
   ]
  },
  {
   "cell_type": "code",
   "execution_count": 58,
   "metadata": {
    "execution": {
     "iopub.execute_input": "2021-08-11T21:39:43.174078Z",
     "iopub.status.busy": "2021-08-11T21:39:43.173231Z",
     "iopub.status.idle": "2021-08-11T21:39:43.339147Z",
     "shell.execute_reply": "2021-08-11T21:39:43.338728Z",
     "shell.execute_reply.started": "2021-08-11T20:10:19.130295Z"
    },
    "papermill": {
     "duration": 0.315107,
     "end_time": "2021-08-11T21:39:43.339271",
     "exception": false,
     "start_time": "2021-08-11T21:39:43.024164",
     "status": "completed"
    },
    "tags": []
   },
   "outputs": [
    {
     "data": {
      "text/html": [
       "<div>\n",
       "<style scoped>\n",
       "    .dataframe tbody tr th:only-of-type {\n",
       "        vertical-align: middle;\n",
       "    }\n",
       "\n",
       "    .dataframe tbody tr th {\n",
       "        vertical-align: top;\n",
       "    }\n",
       "\n",
       "    .dataframe thead th {\n",
       "        text-align: right;\n",
       "    }\n",
       "</style>\n",
       "<table border=\"1\" class=\"dataframe\">\n",
       "  <thead>\n",
       "    <tr style=\"text-align: right;\">\n",
       "      <th></th>\n",
       "      <th>Total</th>\n",
       "      <th>Percent</th>\n",
       "    </tr>\n",
       "  </thead>\n",
       "  <tbody>\n",
       "    <tr>\n",
       "      <th>C</th>\n",
       "      <td>261</td>\n",
       "      <td>29.292929</td>\n",
       "    </tr>\n",
       "    <tr>\n",
       "      <th>B</th>\n",
       "      <td>184</td>\n",
       "      <td>20.650954</td>\n",
       "    </tr>\n",
       "    <tr>\n",
       "      <th>D</th>\n",
       "      <td>155</td>\n",
       "      <td>17.396184</td>\n",
       "    </tr>\n",
       "    <tr>\n",
       "      <th>E</th>\n",
       "      <td>150</td>\n",
       "      <td>16.835017</td>\n",
       "    </tr>\n",
       "    <tr>\n",
       "      <th>A</th>\n",
       "      <td>63</td>\n",
       "      <td>7.070707</td>\n",
       "    </tr>\n",
       "    <tr>\n",
       "      <th>F</th>\n",
       "      <td>59</td>\n",
       "      <td>6.621773</td>\n",
       "    </tr>\n",
       "    <tr>\n",
       "      <th>Rare</th>\n",
       "      <td>19</td>\n",
       "      <td>2.132435</td>\n",
       "    </tr>\n",
       "  </tbody>\n",
       "</table>\n",
       "</div>"
      ],
      "text/plain": [
       "      Total    Percent\n",
       "C       261  29.292929\n",
       "B       184  20.650954\n",
       "D       155  17.396184\n",
       "E       150  16.835017\n",
       "A        63   7.070707\n",
       "F        59   6.621773\n",
       "Rare     19   2.132435"
      ]
     },
     "execution_count": 58,
     "metadata": {},
     "output_type": "execute_result"
    },
    {
     "data": {
      "image/png": "[encoded data removed]",
      "text/plain": [
       "<Figure size 720x432 with 1 Axes>"
      ]
     },
     "metadata": {
      "needs_background": "light"
     },
     "output_type": "display_data"
    }
   ],
   "source": [
    "train['Cabin']=fe.group_rare_labels(train.Cabin,train.Cabin)\n",
    "test['Cabin']=fe.group_rare_labels(train.drop('Survived',axis=1).Cabin,test.Cabin)\n",
    "\n",
    "eda.value_counts(train.Cabin,percentage=True)"
   ]
  },
  {
   "cell_type": "code",
   "execution_count": 59,
   "metadata": {
    "execution": {
     "iopub.execute_input": "2021-08-11T21:39:43.633131Z",
     "iopub.status.busy": "2021-08-11T21:39:43.632102Z",
     "iopub.status.idle": "2021-08-11T21:39:43.994367Z",
     "shell.execute_reply": "2021-08-11T21:39:43.994794Z",
     "shell.execute_reply.started": "2021-08-11T20:10:19.32364Z"
    },
    "papermill": {
     "duration": 0.52174,
     "end_time": "2021-08-11T21:39:43.994939",
     "exception": false,
     "start_time": "2021-08-11T21:39:43.473199",
     "status": "completed"
    },
    "tags": []
   },
   "outputs": [
    {
     "name": "stdout",
     "output_type": "stream",
     "text": [
      "  Cabin  Survived\n",
      "0     A  0.412698\n",
      "1     B  0.445652\n",
      "2     C  0.310345\n",
      "3     D  0.412903\n",
      "4     E  0.386667\n",
      "5     F  0.406780\n",
      "6  Rare  0.368421\n"
     ]
    },
    {
     "data": {
      "image/png": "[encoded data removed]",
      "text/plain": [
       "<Figure size 864x432 with 1 Axes>"
      ]
     },
     "metadata": {
      "needs_background": "light"
     },
     "output_type": "display_data"
    }
   ],
   "source": [
    "get_survivors(\"Cabin\")"
   ]
  },
  {
   "cell_type": "markdown",
   "metadata": {
    "papermill": {
     "duration": 0.133012,
     "end_time": "2021-08-11T21:39:44.262307",
     "exception": false,
     "start_time": "2021-08-11T21:39:44.129295",
     "status": "completed"
    },
    "tags": []
   },
   "source": [
    "<br>\n",
    "<br>"
   ]
  },
  {
   "cell_type": "markdown",
   "metadata": {
    "papermill": {
     "duration": 0.133546,
     "end_time": "2021-08-11T21:39:44.533183",
     "exception": false,
     "start_time": "2021-08-11T21:39:44.399637",
     "status": "completed"
    },
    "tags": []
   },
   "source": [
    "# Embarked"
   ]
  },
  {
   "cell_type": "code",
   "execution_count": 60,
   "metadata": {
    "execution": {
     "iopub.execute_input": "2021-08-11T21:39:44.825910Z",
     "iopub.status.busy": "2021-08-11T21:39:44.824964Z",
     "iopub.status.idle": "2021-08-11T21:39:44.979883Z",
     "shell.execute_reply": "2021-08-11T21:39:44.980293Z",
     "shell.execute_reply.started": "2021-08-11T20:10:19.824001Z"
    },
    "papermill": {
     "duration": 0.314723,
     "end_time": "2021-08-11T21:39:44.980473",
     "exception": false,
     "start_time": "2021-08-11T21:39:44.665750",
     "status": "completed"
    },
    "tags": []
   },
   "outputs": [
    {
     "name": "stdout",
     "output_type": "stream",
     "text": [
      "The feature Embarked is CATEGORICAL\n",
      "\n",
      "\u001b[32m-Cardinality: 4\u001b[0m\n",
      "\u001b[31m-Missing values in training set: 2\u001b[0m\n",
      "\u001b[32m-Missing values in test set    : 0\u001b[0m\n"
     ]
    },
    {
     "data": {
      "image/png": "[encoded data removed]",
      "text/plain": [
       "<Figure size 720x432 with 1 Axes>"
      ]
     },
     "metadata": {
      "needs_background": "light"
     },
     "output_type": "display_data"
    }
   ],
   "source": [
    "eda.feature_analysis(train,\"Embarked\",test,\"Survived\")"
   ]
  },
  {
   "cell_type": "code",
   "execution_count": 61,
   "metadata": {
    "execution": {
     "iopub.execute_input": "2021-08-11T21:39:45.282228Z",
     "iopub.status.busy": "2021-08-11T21:39:45.280371Z",
     "iopub.status.idle": "2021-08-11T21:39:45.405072Z",
     "shell.execute_reply": "2021-08-11T21:39:45.404641Z",
     "shell.execute_reply.started": "2021-08-11T20:10:20.546076Z"
    },
    "papermill": {
     "duration": 0.287754,
     "end_time": "2021-08-11T21:39:45.405191",
     "exception": false,
     "start_time": "2021-08-11T21:39:45.117437",
     "status": "completed"
    },
    "tags": []
   },
   "outputs": [
    {
     "data": {
      "text/html": [
       "<div>\n",
       "<style scoped>\n",
       "    .dataframe tbody tr th:only-of-type {\n",
       "        vertical-align: middle;\n",
       "    }\n",
       "\n",
       "    .dataframe tbody tr th {\n",
       "        vertical-align: top;\n",
       "    }\n",
       "\n",
       "    .dataframe thead th {\n",
       "        text-align: right;\n",
       "    }\n",
       "</style>\n",
       "<table border=\"1\" class=\"dataframe\">\n",
       "  <thead>\n",
       "    <tr style=\"text-align: right;\">\n",
       "      <th></th>\n",
       "      <th>Total</th>\n",
       "      <th>Percent</th>\n",
       "    </tr>\n",
       "  </thead>\n",
       "  <tbody>\n",
       "    <tr>\n",
       "      <th>S</th>\n",
       "      <td>644</td>\n",
       "      <td>72.278339</td>\n",
       "    </tr>\n",
       "    <tr>\n",
       "      <th>C</th>\n",
       "      <td>168</td>\n",
       "      <td>18.855219</td>\n",
       "    </tr>\n",
       "    <tr>\n",
       "      <th>Q</th>\n",
       "      <td>77</td>\n",
       "      <td>8.641975</td>\n",
       "    </tr>\n",
       "  </tbody>\n",
       "</table>\n",
       "</div>"
      ],
      "text/plain": [
       "   Total    Percent\n",
       "S    644  72.278339\n",
       "C    168  18.855219\n",
       "Q     77   8.641975"
      ]
     },
     "execution_count": 61,
     "metadata": {},
     "output_type": "execute_result"
    },
    {
     "data": {
      "image/png": "[encoded data removed]",
      "text/plain": [
       "<Figure size 720x432 with 1 Axes>"
      ]
     },
     "metadata": {
      "needs_background": "light"
     },
     "output_type": "display_data"
    }
   ],
   "source": [
    "eda.value_counts(train.Embarked,percentage=True)"
   ]
  },
  {
   "cell_type": "markdown",
   "metadata": {
    "papermill": {
     "duration": 0.135698,
     "end_time": "2021-08-11T21:39:45.677119",
     "exception": false,
     "start_time": "2021-08-11T21:39:45.541421",
     "status": "completed"
    },
    "tags": []
   },
   "source": [
    "Most of the passengers boarded at Southampton. "
   ]
  },
  {
   "cell_type": "code",
   "execution_count": 62,
   "metadata": {
    "execution": {
     "iopub.execute_input": "2021-08-11T21:39:45.966743Z",
     "iopub.status.busy": "2021-08-11T21:39:45.965945Z",
     "iopub.status.idle": "2021-08-11T21:39:45.978120Z",
     "shell.execute_reply": "2021-08-11T21:39:45.977675Z",
     "shell.execute_reply.started": "2021-08-11T20:10:23.919448Z"
    },
    "papermill": {
     "duration": 0.161667,
     "end_time": "2021-08-11T21:39:45.978241",
     "exception": false,
     "start_time": "2021-08-11T21:39:45.816574",
     "status": "completed"
    },
    "tags": []
   },
   "outputs": [
    {
     "data": {
      "text/html": [
       "<div>\n",
       "<style scoped>\n",
       "    .dataframe tbody tr th:only-of-type {\n",
       "        vertical-align: middle;\n",
       "    }\n",
       "\n",
       "    .dataframe tbody tr th {\n",
       "        vertical-align: top;\n",
       "    }\n",
       "\n",
       "    .dataframe thead th {\n",
       "        text-align: right;\n",
       "    }\n",
       "</style>\n",
       "<table border=\"1\" class=\"dataframe\">\n",
       "  <thead>\n",
       "    <tr style=\"text-align: right;\">\n",
       "      <th></th>\n",
       "      <th>Total</th>\n",
       "      <th>Percent</th>\n",
       "    </tr>\n",
       "  </thead>\n",
       "  <tbody>\n",
       "    <tr>\n",
       "      <th>Cabin_na</th>\n",
       "      <td>0</td>\n",
       "      <td>0.0</td>\n",
       "    </tr>\n",
       "    <tr>\n",
       "      <th>FareRange</th>\n",
       "      <td>0</td>\n",
       "      <td>0.0</td>\n",
       "    </tr>\n",
       "    <tr>\n",
       "      <th>Pclass</th>\n",
       "      <td>0</td>\n",
       "      <td>0.0</td>\n",
       "    </tr>\n",
       "  </tbody>\n",
       "</table>\n",
       "</div>"
      ],
      "text/plain": [
       "           Total  Percent\n",
       "Cabin_na       0      0.0\n",
       "FareRange      0      0.0\n",
       "Pclass         0      0.0"
      ]
     },
     "execution_count": 62,
     "metadata": {},
     "output_type": "execute_result"
    }
   ],
   "source": [
    "train=fe.impute_missing(train,train,variables=['Embarked'])\n",
    "test=fe.impute_missing(train.drop('Survived',axis=1),test,variables=['Embarked'])\n",
    "eda.missing_data(train).head(3)"
   ]
  },
  {
   "cell_type": "code",
   "execution_count": 63,
   "metadata": {
    "execution": {
     "iopub.execute_input": "2021-08-11T21:39:46.269834Z",
     "iopub.status.busy": "2021-08-11T21:39:46.269017Z",
     "iopub.status.idle": "2021-08-11T21:39:46.272961Z",
     "shell.execute_reply": "2021-08-11T21:39:46.272552Z",
     "shell.execute_reply.started": "2021-08-11T20:10:24.283287Z"
    },
    "papermill": {
     "duration": 0.155447,
     "end_time": "2021-08-11T21:39:46.273077",
     "exception": false,
     "start_time": "2021-08-11T21:39:46.117630",
     "status": "completed"
    },
    "tags": []
   },
   "outputs": [
    {
     "data": {
      "text/html": [
       "<div>\n",
       "<style scoped>\n",
       "    .dataframe tbody tr th:only-of-type {\n",
       "        vertical-align: middle;\n",
       "    }\n",
       "\n",
       "    .dataframe tbody tr th {\n",
       "        vertical-align: top;\n",
       "    }\n",
       "\n",
       "    .dataframe thead th {\n",
       "        text-align: right;\n",
       "    }\n",
       "</style>\n",
       "<table border=\"1\" class=\"dataframe\">\n",
       "  <thead>\n",
       "    <tr style=\"text-align: right;\">\n",
       "      <th></th>\n",
       "      <th>Total</th>\n",
       "      <th>Percent</th>\n",
       "    </tr>\n",
       "  </thead>\n",
       "  <tbody>\n",
       "    <tr>\n",
       "      <th>Cabin_na</th>\n",
       "      <td>0</td>\n",
       "      <td>0.0</td>\n",
       "    </tr>\n",
       "    <tr>\n",
       "      <th>Cabin</th>\n",
       "      <td>0</td>\n",
       "      <td>0.0</td>\n",
       "    </tr>\n",
       "    <tr>\n",
       "      <th>Name</th>\n",
       "      <td>0</td>\n",
       "      <td>0.0</td>\n",
       "    </tr>\n",
       "  </tbody>\n",
       "</table>\n",
       "</div>"
      ],
      "text/plain": [
       "          Total  Percent\n",
       "Cabin_na      0      0.0\n",
       "Cabin         0      0.0\n",
       "Name          0      0.0"
      ]
     },
     "execution_count": 63,
     "metadata": {},
     "output_type": "execute_result"
    }
   ],
   "source": [
    "eda.missing_data(test).head(3)"
   ]
  },
  {
   "cell_type": "code",
   "execution_count": 64,
   "metadata": {
    "execution": {
     "iopub.execute_input": "2021-08-11T21:39:46.571408Z",
     "iopub.status.busy": "2021-08-11T21:39:46.570242Z",
     "iopub.status.idle": "2021-08-11T21:39:46.574558Z",
     "shell.execute_reply": "2021-08-11T21:39:46.575012Z",
     "shell.execute_reply.started": "2021-08-11T20:10:27.563369Z"
    },
    "papermill": {
     "duration": 0.16037,
     "end_time": "2021-08-11T21:39:46.575184",
     "exception": false,
     "start_time": "2021-08-11T21:39:46.414814",
     "status": "completed"
    },
    "tags": []
   },
   "outputs": [
    {
     "data": {
      "text/html": [
       "<div>\n",
       "<style scoped>\n",
       "    .dataframe tbody tr th:only-of-type {\n",
       "        vertical-align: middle;\n",
       "    }\n",
       "\n",
       "    .dataframe tbody tr th {\n",
       "        vertical-align: top;\n",
       "    }\n",
       "\n",
       "    .dataframe thead th {\n",
       "        text-align: right;\n",
       "    }\n",
       "</style>\n",
       "<table border=\"1\" class=\"dataframe\">\n",
       "  <thead>\n",
       "    <tr style=\"text-align: right;\">\n",
       "      <th></th>\n",
       "      <th>Survived</th>\n",
       "      <th>Pclass</th>\n",
       "      <th>Name</th>\n",
       "      <th>Sex</th>\n",
       "      <th>Age</th>\n",
       "      <th>SibSp</th>\n",
       "      <th>Parch</th>\n",
       "      <th>Fare</th>\n",
       "      <th>Cabin</th>\n",
       "      <th>Embarked</th>\n",
       "      <th>Age_na</th>\n",
       "      <th>AgeFreq</th>\n",
       "      <th>AgeRange</th>\n",
       "      <th>FamilySize</th>\n",
       "      <th>IsAlone</th>\n",
       "      <th>FareFreq</th>\n",
       "      <th>FareRange</th>\n",
       "      <th>Cabin_na</th>\n",
       "    </tr>\n",
       "  </thead>\n",
       "  <tbody>\n",
       "    <tr>\n",
       "      <th>0</th>\n",
       "      <td>0</td>\n",
       "      <td>3</td>\n",
       "      <td>Mr</td>\n",
       "      <td>male</td>\n",
       "      <td>22.0</td>\n",
       "      <td>1</td>\n",
       "      <td>0</td>\n",
       "      <td>1.906724</td>\n",
       "      <td>B</td>\n",
       "      <td>S</td>\n",
       "      <td>0</td>\n",
       "      <td>2</td>\n",
       "      <td>2</td>\n",
       "      <td>2</td>\n",
       "      <td>0</td>\n",
       "      <td>0</td>\n",
       "      <td>4</td>\n",
       "      <td>1</td>\n",
       "    </tr>\n",
       "    <tr>\n",
       "      <th>1</th>\n",
       "      <td>1</td>\n",
       "      <td>1</td>\n",
       "      <td>Mrs</td>\n",
       "      <td>female</td>\n",
       "      <td>38.0</td>\n",
       "      <td>1</td>\n",
       "      <td>0</td>\n",
       "      <td>3.497640</td>\n",
       "      <td>C</td>\n",
       "      <td>C</td>\n",
       "      <td>0</td>\n",
       "      <td>7</td>\n",
       "      <td>4</td>\n",
       "      <td>2</td>\n",
       "      <td>0</td>\n",
       "      <td>8</td>\n",
       "      <td>7</td>\n",
       "      <td>0</td>\n",
       "    </tr>\n",
       "    <tr>\n",
       "      <th>2</th>\n",
       "      <td>1</td>\n",
       "      <td>3</td>\n",
       "      <td>Miss</td>\n",
       "      <td>female</td>\n",
       "      <td>26.0</td>\n",
       "      <td>0</td>\n",
       "      <td>0</td>\n",
       "      <td>1.970459</td>\n",
       "      <td>D</td>\n",
       "      <td>S</td>\n",
       "      <td>0</td>\n",
       "      <td>4</td>\n",
       "      <td>3</td>\n",
       "      <td>1</td>\n",
       "      <td>1</td>\n",
       "      <td>2</td>\n",
       "      <td>4</td>\n",
       "      <td>1</td>\n",
       "    </tr>\n",
       "    <tr>\n",
       "      <th>3</th>\n",
       "      <td>1</td>\n",
       "      <td>1</td>\n",
       "      <td>Mrs</td>\n",
       "      <td>female</td>\n",
       "      <td>35.0</td>\n",
       "      <td>1</td>\n",
       "      <td>0</td>\n",
       "      <td>3.304258</td>\n",
       "      <td>C</td>\n",
       "      <td>S</td>\n",
       "      <td>0</td>\n",
       "      <td>6</td>\n",
       "      <td>4</td>\n",
       "      <td>2</td>\n",
       "      <td>0</td>\n",
       "      <td>8</td>\n",
       "      <td>7</td>\n",
       "      <td>0</td>\n",
       "    </tr>\n",
       "    <tr>\n",
       "      <th>4</th>\n",
       "      <td>0</td>\n",
       "      <td>3</td>\n",
       "      <td>Mr</td>\n",
       "      <td>male</td>\n",
       "      <td>35.0</td>\n",
       "      <td>0</td>\n",
       "      <td>0</td>\n",
       "      <td>1.981680</td>\n",
       "      <td>F</td>\n",
       "      <td>S</td>\n",
       "      <td>0</td>\n",
       "      <td>6</td>\n",
       "      <td>4</td>\n",
       "      <td>1</td>\n",
       "      <td>1</td>\n",
       "      <td>2</td>\n",
       "      <td>4</td>\n",
       "      <td>1</td>\n",
       "    </tr>\n",
       "  </tbody>\n",
       "</table>\n",
       "</div>"
      ],
      "text/plain": [
       "   Survived  Pclass  Name     Sex   Age  SibSp  Parch      Fare Cabin  \\\n",
       "0         0       3    Mr    male  22.0      1      0  1.906724     B   \n",
       "1         1       1   Mrs  female  38.0      1      0  3.497640     C   \n",
       "2         1       3  Miss  female  26.0      0      0  1.970459     D   \n",
       "3         1       1   Mrs  female  35.0      1      0  3.304258     C   \n",
       "4         0       3    Mr    male  35.0      0      0  1.981680     F   \n",
       "\n",
       "  Embarked  Age_na  AgeFreq  AgeRange  FamilySize  IsAlone  FareFreq  \\\n",
       "0        S       0        2         2           2        0         0   \n",
       "1        C       0        7         4           2        0         8   \n",
       "2        S       0        4         3           1        1         2   \n",
       "3        S       0        6         4           2        0         8   \n",
       "4        S       0        6         4           1        1         2   \n",
       "\n",
       "   FareRange  Cabin_na  \n",
       "0          4         1  \n",
       "1          7         0  \n",
       "2          4         1  \n",
       "3          7         0  \n",
       "4          4         1  "
      ]
     },
     "execution_count": 64,
     "metadata": {},
     "output_type": "execute_result"
    }
   ],
   "source": [
    "train.head()"
   ]
  },
  {
   "cell_type": "markdown",
   "metadata": {
    "papermill": {
     "duration": 0.140414,
     "end_time": "2021-08-11T21:39:46.856175",
     "exception": false,
     "start_time": "2021-08-11T21:39:46.715761",
     "status": "completed"
    },
    "tags": []
   },
   "source": [
    "<br>\n",
    "<br>\n",
    "<br>\n",
    "<br>\n",
    "<br>"
   ]
  },
  {
   "cell_type": "code",
   "execution_count": 65,
   "metadata": {
    "execution": {
     "iopub.execute_input": "2021-08-11T21:39:47.133479Z",
     "iopub.status.busy": "2021-08-11T21:39:47.132712Z",
     "iopub.status.idle": "2021-08-11T21:39:47.136296Z",
     "shell.execute_reply": "2021-08-11T21:39:47.135899Z",
     "shell.execute_reply.started": "2021-08-11T20:10:28.192215Z"
    },
    "papermill": {
     "duration": 0.144956,
     "end_time": "2021-08-11T21:39:47.136431",
     "exception": false,
     "start_time": "2021-08-11T21:39:46.991475",
     "status": "completed"
    },
    "tags": []
   },
   "outputs": [
    {
     "data": {
      "text/plain": [
       "((891, 18), (418, 17))"
      ]
     },
     "execution_count": 65,
     "metadata": {},
     "output_type": "execute_result"
    }
   ],
   "source": [
    "train.shape,test.shape"
   ]
  },
  {
   "cell_type": "code",
   "execution_count": 66,
   "metadata": {
    "execution": {
     "iopub.execute_input": "2021-08-11T21:39:47.408468Z",
     "iopub.status.busy": "2021-08-11T21:39:47.407656Z",
     "iopub.status.idle": "2021-08-11T21:39:47.436903Z",
     "shell.execute_reply": "2021-08-11T21:39:47.437344Z",
     "shell.execute_reply.started": "2021-08-11T20:10:31.42688Z"
    },
    "papermill": {
     "duration": 0.169814,
     "end_time": "2021-08-11T21:39:47.437519",
     "exception": false,
     "start_time": "2021-08-11T21:39:47.267705",
     "status": "completed"
    },
    "tags": []
   },
   "outputs": [],
   "source": [
    "test = fe.encoding(train.drop('Survived',axis=1),test,variables=['Name','Cabin','Embarked','Sex'],drop_last=False)\n",
    "train = fe.encoding(train,train,variables=['Name','Cabin','Embarked','Sex'],drop_last=False)"
   ]
  },
  {
   "cell_type": "code",
   "execution_count": 67,
   "metadata": {
    "execution": {
     "iopub.execute_input": "2021-08-11T21:39:47.702693Z",
     "iopub.status.busy": "2021-08-11T21:39:47.701870Z",
     "iopub.status.idle": "2021-08-11T21:39:47.705183Z",
     "shell.execute_reply": "2021-08-11T21:39:47.705577Z",
     "shell.execute_reply.started": "2021-08-11T20:10:46.661518Z"
    },
    "papermill": {
     "duration": 0.138536,
     "end_time": "2021-08-11T21:39:47.705714",
     "exception": false,
     "start_time": "2021-08-11T21:39:47.567178",
     "status": "completed"
    },
    "tags": []
   },
   "outputs": [
    {
     "data": {
      "text/plain": [
       "((891, 30), (418, 29))"
      ]
     },
     "execution_count": 67,
     "metadata": {},
     "output_type": "execute_result"
    }
   ],
   "source": [
    "train.shape,test.shape"
   ]
  },
  {
   "cell_type": "code",
   "execution_count": 68,
   "metadata": {
    "execution": {
     "iopub.execute_input": "2021-08-11T21:39:47.983192Z",
     "iopub.status.busy": "2021-08-11T21:39:47.982521Z",
     "iopub.status.idle": "2021-08-11T21:39:47.986179Z",
     "shell.execute_reply": "2021-08-11T21:39:47.986776Z",
     "shell.execute_reply.started": "2021-08-11T20:10:48.520252Z"
    },
    "papermill": {
     "duration": 0.150501,
     "end_time": "2021-08-11T21:39:47.986958",
     "exception": false,
     "start_time": "2021-08-11T21:39:47.836457",
     "status": "completed"
    },
    "tags": []
   },
   "outputs": [
    {
     "name": "stdout",
     "output_type": "stream",
     "text": [
      "['Survived', 'Pclass', 'Age', 'SibSp', 'Parch', 'Fare', 'Age_na', 'AgeFreq', 'AgeRange', 'FamilySize', 'IsAlone', 'FareFreq', 'FareRange', 'Cabin_na', 'Name_Mr', 'Name_Mrs', 'Name_Miss', 'Name_Rare', 'Cabin_B', 'Cabin_C', 'Cabin_D', 'Cabin_F', 'Cabin_E', 'Cabin_Rare', 'Cabin_A', 'Embarked_S', 'Embarked_C', 'Embarked_Q', 'Sex_male', 'Sex_female']\n",
      "['Pclass', 'Age', 'SibSp', 'Parch', 'Fare', 'Age_na', 'AgeFreq', 'AgeRange', 'FamilySize', 'IsAlone', 'FareFreq', 'FareRange', 'Cabin_na', 'Name_Mr', 'Name_Mrs', 'Name_Miss', 'Name_Rare', 'Cabin_B', 'Cabin_C', 'Cabin_D', 'Cabin_F', 'Cabin_E', 'Cabin_Rare', 'Cabin_A', 'Embarked_S', 'Embarked_C', 'Embarked_Q', 'Sex_male', 'Sex_female']\n"
     ]
    }
   ],
   "source": [
    "testcols = test.columns.values.tolist()\n",
    "traincols = train.columns.values.tolist()\n",
    "print(traincols)\n",
    "print(testcols)"
   ]
  },
  {
   "cell_type": "code",
   "execution_count": 69,
   "metadata": {
    "execution": {
     "iopub.execute_input": "2021-08-11T21:39:48.260373Z",
     "iopub.status.busy": "2021-08-11T21:39:48.259633Z",
     "iopub.status.idle": "2021-08-11T21:39:48.263157Z",
     "shell.execute_reply": "2021-08-11T21:39:48.262766Z",
     "shell.execute_reply.started": "2021-08-11T20:10:55.997334Z"
    },
    "papermill": {
     "duration": 0.143206,
     "end_time": "2021-08-11T21:39:48.263271",
     "exception": false,
     "start_time": "2021-08-11T21:39:48.120065",
     "status": "completed"
    },
    "tags": []
   },
   "outputs": [
    {
     "data": {
      "text/plain": [
       "Survived        int64\n",
       "Pclass          int64\n",
       "Age           float64\n",
       "SibSp           int64\n",
       "Parch           int64\n",
       "Fare          float64\n",
       "Age_na          int64\n",
       "AgeFreq         int64\n",
       "AgeRange        int64\n",
       "FamilySize      int64\n",
       "IsAlone         int64\n",
       "FareFreq        int64\n",
       "FareRange       int64\n",
       "Cabin_na        int64\n",
       "Name_Mr         int64\n",
       "Name_Mrs        int64\n",
       "Name_Miss       int64\n",
       "Name_Rare       int64\n",
       "Cabin_B         int64\n",
       "Cabin_C         int64\n",
       "Cabin_D         int64\n",
       "Cabin_F         int64\n",
       "Cabin_E         int64\n",
       "Cabin_Rare      int64\n",
       "Cabin_A         int64\n",
       "Embarked_S      int64\n",
       "Embarked_C      int64\n",
       "Embarked_Q      int64\n",
       "Sex_male        int64\n",
       "Sex_female      int64\n",
       "dtype: object"
      ]
     },
     "execution_count": 69,
     "metadata": {},
     "output_type": "execute_result"
    }
   ],
   "source": [
    "train.dtypes"
   ]
  },
  {
   "cell_type": "code",
   "execution_count": 70,
   "metadata": {
    "execution": {
     "iopub.execute_input": "2021-08-11T21:39:48.546505Z",
     "iopub.status.busy": "2021-08-11T21:39:48.545607Z",
     "iopub.status.idle": "2021-08-11T21:39:48.549752Z",
     "shell.execute_reply": "2021-08-11T21:39:48.549318Z",
     "shell.execute_reply.started": "2021-08-11T20:10:56.282162Z"
    },
    "papermill": {
     "duration": 0.154755,
     "end_time": "2021-08-11T21:39:48.549879",
     "exception": false,
     "start_time": "2021-08-11T21:39:48.395124",
     "status": "completed"
    },
    "tags": []
   },
   "outputs": [
    {
     "data": {
      "text/html": [
       "<div>\n",
       "<style scoped>\n",
       "    .dataframe tbody tr th:only-of-type {\n",
       "        vertical-align: middle;\n",
       "    }\n",
       "\n",
       "    .dataframe tbody tr th {\n",
       "        vertical-align: top;\n",
       "    }\n",
       "\n",
       "    .dataframe thead th {\n",
       "        text-align: right;\n",
       "    }\n",
       "</style>\n",
       "<table border=\"1\" class=\"dataframe\">\n",
       "  <thead>\n",
       "    <tr style=\"text-align: right;\">\n",
       "      <th></th>\n",
       "      <th>Survived</th>\n",
       "      <th>Pclass</th>\n",
       "      <th>Age</th>\n",
       "      <th>SibSp</th>\n",
       "      <th>Parch</th>\n",
       "      <th>Fare</th>\n",
       "      <th>Age_na</th>\n",
       "      <th>AgeFreq</th>\n",
       "      <th>AgeRange</th>\n",
       "      <th>FamilySize</th>\n",
       "      <th>...</th>\n",
       "      <th>Cabin_D</th>\n",
       "      <th>Cabin_F</th>\n",
       "      <th>Cabin_E</th>\n",
       "      <th>Cabin_Rare</th>\n",
       "      <th>Cabin_A</th>\n",
       "      <th>Embarked_S</th>\n",
       "      <th>Embarked_C</th>\n",
       "      <th>Embarked_Q</th>\n",
       "      <th>Sex_male</th>\n",
       "      <th>Sex_female</th>\n",
       "    </tr>\n",
       "  </thead>\n",
       "  <tbody>\n",
       "    <tr>\n",
       "      <th>0</th>\n",
       "      <td>0</td>\n",
       "      <td>3</td>\n",
       "      <td>22.0</td>\n",
       "      <td>1</td>\n",
       "      <td>0</td>\n",
       "      <td>1.906724</td>\n",
       "      <td>0</td>\n",
       "      <td>2</td>\n",
       "      <td>2</td>\n",
       "      <td>2</td>\n",
       "      <td>...</td>\n",
       "      <td>0</td>\n",
       "      <td>0</td>\n",
       "      <td>0</td>\n",
       "      <td>0</td>\n",
       "      <td>0</td>\n",
       "      <td>1</td>\n",
       "      <td>0</td>\n",
       "      <td>0</td>\n",
       "      <td>1</td>\n",
       "      <td>0</td>\n",
       "    </tr>\n",
       "    <tr>\n",
       "      <th>1</th>\n",
       "      <td>1</td>\n",
       "      <td>1</td>\n",
       "      <td>38.0</td>\n",
       "      <td>1</td>\n",
       "      <td>0</td>\n",
       "      <td>3.497640</td>\n",
       "      <td>0</td>\n",
       "      <td>7</td>\n",
       "      <td>4</td>\n",
       "      <td>2</td>\n",
       "      <td>...</td>\n",
       "      <td>0</td>\n",
       "      <td>0</td>\n",
       "      <td>0</td>\n",
       "      <td>0</td>\n",
       "      <td>0</td>\n",
       "      <td>0</td>\n",
       "      <td>1</td>\n",
       "      <td>0</td>\n",
       "      <td>0</td>\n",
       "      <td>1</td>\n",
       "    </tr>\n",
       "    <tr>\n",
       "      <th>2</th>\n",
       "      <td>1</td>\n",
       "      <td>3</td>\n",
       "      <td>26.0</td>\n",
       "      <td>0</td>\n",
       "      <td>0</td>\n",
       "      <td>1.970459</td>\n",
       "      <td>0</td>\n",
       "      <td>4</td>\n",
       "      <td>3</td>\n",
       "      <td>1</td>\n",
       "      <td>...</td>\n",
       "      <td>1</td>\n",
       "      <td>0</td>\n",
       "      <td>0</td>\n",
       "      <td>0</td>\n",
       "      <td>0</td>\n",
       "      <td>1</td>\n",
       "      <td>0</td>\n",
       "      <td>0</td>\n",
       "      <td>0</td>\n",
       "      <td>1</td>\n",
       "    </tr>\n",
       "    <tr>\n",
       "      <th>3</th>\n",
       "      <td>1</td>\n",
       "      <td>1</td>\n",
       "      <td>35.0</td>\n",
       "      <td>1</td>\n",
       "      <td>0</td>\n",
       "      <td>3.304258</td>\n",
       "      <td>0</td>\n",
       "      <td>6</td>\n",
       "      <td>4</td>\n",
       "      <td>2</td>\n",
       "      <td>...</td>\n",
       "      <td>0</td>\n",
       "      <td>0</td>\n",
       "      <td>0</td>\n",
       "      <td>0</td>\n",
       "      <td>0</td>\n",
       "      <td>1</td>\n",
       "      <td>0</td>\n",
       "      <td>0</td>\n",
       "      <td>0</td>\n",
       "      <td>1</td>\n",
       "    </tr>\n",
       "    <tr>\n",
       "      <th>4</th>\n",
       "      <td>0</td>\n",
       "      <td>3</td>\n",
       "      <td>35.0</td>\n",
       "      <td>0</td>\n",
       "      <td>0</td>\n",
       "      <td>1.981680</td>\n",
       "      <td>0</td>\n",
       "      <td>6</td>\n",
       "      <td>4</td>\n",
       "      <td>1</td>\n",
       "      <td>...</td>\n",
       "      <td>0</td>\n",
       "      <td>1</td>\n",
       "      <td>0</td>\n",
       "      <td>0</td>\n",
       "      <td>0</td>\n",
       "      <td>1</td>\n",
       "      <td>0</td>\n",
       "      <td>0</td>\n",
       "      <td>1</td>\n",
       "      <td>0</td>\n",
       "    </tr>\n",
       "  </tbody>\n",
       "</table>\n",
       "<p>5 rows × 30 columns</p>\n",
       "</div>"
      ],
      "text/plain": [
       "   Survived  Pclass   Age  SibSp  Parch      Fare  Age_na  AgeFreq  AgeRange  \\\n",
       "0         0       3  22.0      1      0  1.906724       0        2         2   \n",
       "1         1       1  38.0      1      0  3.497640       0        7         4   \n",
       "2         1       3  26.0      0      0  1.970459       0        4         3   \n",
       "3         1       1  35.0      1      0  3.304258       0        6         4   \n",
       "4         0       3  35.0      0      0  1.981680       0        6         4   \n",
       "\n",
       "   FamilySize  ...  Cabin_D  Cabin_F  Cabin_E  Cabin_Rare  Cabin_A  \\\n",
       "0           2  ...        0        0        0           0        0   \n",
       "1           2  ...        0        0        0           0        0   \n",
       "2           1  ...        1        0        0           0        0   \n",
       "3           2  ...        0        0        0           0        0   \n",
       "4           1  ...        0        1        0           0        0   \n",
       "\n",
       "   Embarked_S  Embarked_C  Embarked_Q  Sex_male  Sex_female  \n",
       "0           1           0           0         1           0  \n",
       "1           0           1           0         0           1  \n",
       "2           1           0           0         0           1  \n",
       "3           1           0           0         0           1  \n",
       "4           1           0           0         1           0  \n",
       "\n",
       "[5 rows x 30 columns]"
      ]
     },
     "execution_count": 70,
     "metadata": {},
     "output_type": "execute_result"
    }
   ],
   "source": [
    "train.head()"
   ]
  },
  {
   "cell_type": "code",
   "execution_count": 71,
   "metadata": {
    "execution": {
     "iopub.execute_input": "2021-08-11T21:39:48.821797Z",
     "iopub.status.busy": "2021-08-11T21:39:48.821092Z",
     "iopub.status.idle": "2021-08-11T21:39:48.824513Z",
     "shell.execute_reply": "2021-08-11T21:39:48.824106Z",
     "shell.execute_reply.started": "2021-08-11T20:10:59.33504Z"
    },
    "papermill": {
     "duration": 0.140438,
     "end_time": "2021-08-11T21:39:48.824627",
     "exception": false,
     "start_time": "2021-08-11T21:39:48.684189",
     "status": "completed"
    },
    "tags": []
   },
   "outputs": [
    {
     "data": {
      "text/plain": [
       "((891, 29), (891,), (418, 29))"
      ]
     },
     "execution_count": 71,
     "metadata": {},
     "output_type": "execute_result"
    }
   ],
   "source": [
    "X_train = train.drop(\"Survived\", axis=1)\n",
    "y_train = train[\"Survived\"]\n",
    "X_test  = test\n",
    "X_train.shape, y_train.shape, X_test.shape"
   ]
  },
  {
   "cell_type": "code",
   "execution_count": 72,
   "metadata": {
    "execution": {
     "iopub.execute_input": "2021-08-11T21:39:49.097998Z",
     "iopub.status.busy": "2021-08-11T21:39:49.097043Z",
     "iopub.status.idle": "2021-08-11T21:39:49.106099Z",
     "shell.execute_reply": "2021-08-11T21:39:49.105699Z",
     "shell.execute_reply.started": "2021-08-11T20:11:02.261477Z"
    },
    "papermill": {
     "duration": 0.147055,
     "end_time": "2021-08-11T21:39:49.106213",
     "exception": false,
     "start_time": "2021-08-11T21:39:48.959158",
     "status": "completed"
    },
    "tags": []
   },
   "outputs": [],
   "source": [
    "X_train = fe.scale(X_train)\n",
    "X_test = fe.scale(X_test)"
   ]
  },
  {
   "cell_type": "code",
   "execution_count": 73,
   "metadata": {
    "execution": {
     "iopub.execute_input": "2021-08-11T21:39:49.390528Z",
     "iopub.status.busy": "2021-08-11T21:39:49.389754Z",
     "iopub.status.idle": "2021-08-11T21:39:49.396583Z",
     "shell.execute_reply": "2021-08-11T21:39:49.396133Z",
     "shell.execute_reply.started": "2021-08-11T20:11:03.724148Z"
    },
    "papermill": {
     "duration": 0.157005,
     "end_time": "2021-08-11T21:39:49.396706",
     "exception": false,
     "start_time": "2021-08-11T21:39:49.239701",
     "status": "completed"
    },
    "tags": []
   },
   "outputs": [
    {
     "data": {
      "text/html": [
       "<div>\n",
       "<style scoped>\n",
       "    .dataframe tbody tr th:only-of-type {\n",
       "        vertical-align: middle;\n",
       "    }\n",
       "\n",
       "    .dataframe tbody tr th {\n",
       "        vertical-align: top;\n",
       "    }\n",
       "\n",
       "    .dataframe thead th {\n",
       "        text-align: right;\n",
       "    }\n",
       "</style>\n",
       "<table border=\"1\" class=\"dataframe\">\n",
       "  <thead>\n",
       "    <tr style=\"text-align: right;\">\n",
       "      <th></th>\n",
       "      <th>Pclass</th>\n",
       "      <th>Age</th>\n",
       "      <th>SibSp</th>\n",
       "      <th>Parch</th>\n",
       "      <th>Fare</th>\n",
       "      <th>Age_na</th>\n",
       "      <th>AgeFreq</th>\n",
       "      <th>AgeRange</th>\n",
       "      <th>FamilySize</th>\n",
       "      <th>IsAlone</th>\n",
       "      <th>...</th>\n",
       "      <th>Cabin_D</th>\n",
       "      <th>Cabin_F</th>\n",
       "      <th>Cabin_E</th>\n",
       "      <th>Cabin_Rare</th>\n",
       "      <th>Cabin_A</th>\n",
       "      <th>Embarked_S</th>\n",
       "      <th>Embarked_C</th>\n",
       "      <th>Embarked_Q</th>\n",
       "      <th>Sex_male</th>\n",
       "      <th>Sex_female</th>\n",
       "    </tr>\n",
       "  </thead>\n",
       "  <tbody>\n",
       "    <tr>\n",
       "      <th>0</th>\n",
       "      <td>1.0</td>\n",
       "      <td>0.271174</td>\n",
       "      <td>0.125</td>\n",
       "      <td>0.0</td>\n",
       "      <td>0.408170</td>\n",
       "      <td>0.0</td>\n",
       "      <td>0.222222</td>\n",
       "      <td>0.222222</td>\n",
       "      <td>0.1</td>\n",
       "      <td>0.0</td>\n",
       "      <td>...</td>\n",
       "      <td>0.0</td>\n",
       "      <td>0.0</td>\n",
       "      <td>0.0</td>\n",
       "      <td>0.0</td>\n",
       "      <td>0.0</td>\n",
       "      <td>1.0</td>\n",
       "      <td>0.0</td>\n",
       "      <td>0.0</td>\n",
       "      <td>1.0</td>\n",
       "      <td>0.0</td>\n",
       "    </tr>\n",
       "    <tr>\n",
       "      <th>1</th>\n",
       "      <td>0.0</td>\n",
       "      <td>0.472229</td>\n",
       "      <td>0.125</td>\n",
       "      <td>0.0</td>\n",
       "      <td>0.748736</td>\n",
       "      <td>0.0</td>\n",
       "      <td>0.777778</td>\n",
       "      <td>0.444444</td>\n",
       "      <td>0.1</td>\n",
       "      <td>0.0</td>\n",
       "      <td>...</td>\n",
       "      <td>0.0</td>\n",
       "      <td>0.0</td>\n",
       "      <td>0.0</td>\n",
       "      <td>0.0</td>\n",
       "      <td>0.0</td>\n",
       "      <td>0.0</td>\n",
       "      <td>1.0</td>\n",
       "      <td>0.0</td>\n",
       "      <td>0.0</td>\n",
       "      <td>1.0</td>\n",
       "    </tr>\n",
       "    <tr>\n",
       "      <th>2</th>\n",
       "      <td>1.0</td>\n",
       "      <td>0.321438</td>\n",
       "      <td>0.000</td>\n",
       "      <td>0.0</td>\n",
       "      <td>0.421814</td>\n",
       "      <td>0.0</td>\n",
       "      <td>0.444444</td>\n",
       "      <td>0.333333</td>\n",
       "      <td>0.0</td>\n",
       "      <td>1.0</td>\n",
       "      <td>...</td>\n",
       "      <td>1.0</td>\n",
       "      <td>0.0</td>\n",
       "      <td>0.0</td>\n",
       "      <td>0.0</td>\n",
       "      <td>0.0</td>\n",
       "      <td>1.0</td>\n",
       "      <td>0.0</td>\n",
       "      <td>0.0</td>\n",
       "      <td>0.0</td>\n",
       "      <td>1.0</td>\n",
       "    </tr>\n",
       "    <tr>\n",
       "      <th>3</th>\n",
       "      <td>0.0</td>\n",
       "      <td>0.434531</td>\n",
       "      <td>0.125</td>\n",
       "      <td>0.0</td>\n",
       "      <td>0.707339</td>\n",
       "      <td>0.0</td>\n",
       "      <td>0.666667</td>\n",
       "      <td>0.444444</td>\n",
       "      <td>0.1</td>\n",
       "      <td>0.0</td>\n",
       "      <td>...</td>\n",
       "      <td>0.0</td>\n",
       "      <td>0.0</td>\n",
       "      <td>0.0</td>\n",
       "      <td>0.0</td>\n",
       "      <td>0.0</td>\n",
       "      <td>1.0</td>\n",
       "      <td>0.0</td>\n",
       "      <td>0.0</td>\n",
       "      <td>0.0</td>\n",
       "      <td>1.0</td>\n",
       "    </tr>\n",
       "    <tr>\n",
       "      <th>4</th>\n",
       "      <td>1.0</td>\n",
       "      <td>0.434531</td>\n",
       "      <td>0.000</td>\n",
       "      <td>0.0</td>\n",
       "      <td>0.424216</td>\n",
       "      <td>0.0</td>\n",
       "      <td>0.666667</td>\n",
       "      <td>0.444444</td>\n",
       "      <td>0.0</td>\n",
       "      <td>1.0</td>\n",
       "      <td>...</td>\n",
       "      <td>0.0</td>\n",
       "      <td>1.0</td>\n",
       "      <td>0.0</td>\n",
       "      <td>0.0</td>\n",
       "      <td>0.0</td>\n",
       "      <td>1.0</td>\n",
       "      <td>0.0</td>\n",
       "      <td>0.0</td>\n",
       "      <td>1.0</td>\n",
       "      <td>0.0</td>\n",
       "    </tr>\n",
       "  </tbody>\n",
       "</table>\n",
       "<p>5 rows × 29 columns</p>\n",
       "</div>"
      ],
      "text/plain": [
       "   Pclass       Age  SibSp  Parch      Fare  Age_na   AgeFreq  AgeRange  \\\n",
       "0     1.0  0.271174  0.125    0.0  0.408170     0.0  0.222222  0.222222   \n",
       "1     0.0  0.472229  0.125    0.0  0.748736     0.0  0.777778  0.444444   \n",
       "2     1.0  0.321438  0.000    0.0  0.421814     0.0  0.444444  0.333333   \n",
       "3     0.0  0.434531  0.125    0.0  0.707339     0.0  0.666667  0.444444   \n",
       "4     1.0  0.434531  0.000    0.0  0.424216     0.0  0.666667  0.444444   \n",
       "\n",
       "   FamilySize  IsAlone  ...  Cabin_D  Cabin_F  Cabin_E  Cabin_Rare  Cabin_A  \\\n",
       "0         0.1      0.0  ...      0.0      0.0      0.0         0.0      0.0   \n",
       "1         0.1      0.0  ...      0.0      0.0      0.0         0.0      0.0   \n",
       "2         0.0      1.0  ...      1.0      0.0      0.0         0.0      0.0   \n",
       "3         0.1      0.0  ...      0.0      0.0      0.0         0.0      0.0   \n",
       "4         0.0      1.0  ...      0.0      1.0      0.0         0.0      0.0   \n",
       "\n",
       "   Embarked_S  Embarked_C  Embarked_Q  Sex_male  Sex_female  \n",
       "0         1.0         0.0         0.0       1.0         0.0  \n",
       "1         0.0         1.0         0.0       0.0         1.0  \n",
       "2         1.0         0.0         0.0       0.0         1.0  \n",
       "3         1.0         0.0         0.0       0.0         1.0  \n",
       "4         1.0         0.0         0.0       1.0         0.0  \n",
       "\n",
       "[5 rows x 29 columns]"
      ]
     },
     "execution_count": 73,
     "metadata": {},
     "output_type": "execute_result"
    }
   ],
   "source": [
    "X_train.head()"
   ]
  },
  {
   "cell_type": "markdown",
   "metadata": {
    "papermill": {
     "duration": 0.131742,
     "end_time": "2021-08-11T21:39:49.661856",
     "exception": false,
     "start_time": "2021-08-11T21:39:49.530114",
     "status": "completed"
    },
    "tags": []
   },
   "source": [
    "<br>\n",
    "<br>\n",
    "<br>\n",
    "<br>\n",
    "<br>"
   ]
  },
  {
   "cell_type": "markdown",
   "metadata": {
    "papermill": {
     "duration": 0.131641,
     "end_time": "2021-08-11T21:39:49.925003",
     "exception": false,
     "start_time": "2021-08-11T21:39:49.793362",
     "status": "completed"
    },
    "tags": []
   },
   "source": [
    "![](https://i.imgur.com/7XqqaQE.png)"
   ]
  },
  {
   "cell_type": "code",
   "execution_count": 74,
   "metadata": {
    "execution": {
     "iopub.execute_input": "2021-08-11T21:39:50.197036Z",
     "iopub.status.busy": "2021-08-11T21:39:50.196139Z",
     "iopub.status.idle": "2021-08-11T21:39:50.200569Z",
     "shell.execute_reply": "2021-08-11T21:39:50.200031Z",
     "shell.execute_reply.started": "2021-08-11T20:13:06.746735Z"
    },
    "papermill": {
     "duration": 0.142619,
     "end_time": "2021-08-11T21:39:50.200684",
     "exception": false,
     "start_time": "2021-08-11T21:39:50.058065",
     "status": "completed"
    },
    "tags": []
   },
   "outputs": [],
   "source": [
    "import pickle\n",
    "from sklearn.model_selection import train_test_split\n",
    "X_train, X_valid, y_train, y_valid = train_test_split(X_train,y_train, test_size=0.2, random_state=0)"
   ]
  },
  {
   "cell_type": "code",
   "execution_count": 75,
   "metadata": {
    "execution": {
     "iopub.execute_input": "2021-08-11T21:39:50.472562Z",
     "iopub.status.busy": "2021-08-11T21:39:50.471836Z",
     "iopub.status.idle": "2021-08-11T21:39:50.481200Z",
     "shell.execute_reply": "2021-08-11T21:39:50.480787Z",
     "shell.execute_reply.started": "2021-08-11T20:13:21.379345Z"
    },
    "papermill": {
     "duration": 0.147714,
     "end_time": "2021-08-11T21:39:50.481323",
     "exception": false,
     "start_time": "2021-08-11T21:39:50.333609",
     "status": "completed"
    },
    "tags": []
   },
   "outputs": [],
   "source": [
    "np.savez_compressed(\"np_savez_comp\", X=X_train, y=y_train)\n",
    "data = np.load(\"np_savez_comp.npz\")\n",
    "\n",
    "X = data[\"X\"]\n",
    "y = data[\"y\"]"
   ]
  },
  {
   "cell_type": "markdown",
   "metadata": {
    "papermill": {
     "duration": 0.133733,
     "end_time": "2021-08-11T21:39:50.746660",
     "exception": false,
     "start_time": "2021-08-11T21:39:50.612927",
     "status": "completed"
    },
    "tags": []
   },
   "source": [
    "# Naive Bayes"
   ]
  },
  {
   "cell_type": "code",
   "execution_count": 76,
   "metadata": {
    "execution": {
     "iopub.execute_input": "2021-08-11T21:39:51.019425Z",
     "iopub.status.busy": "2021-08-11T21:39:51.018704Z",
     "iopub.status.idle": "2021-08-11T21:39:51.021553Z",
     "shell.execute_reply": "2021-08-11T21:39:51.021126Z",
     "shell.execute_reply.started": "2021-08-11T20:14:44.206641Z"
    },
    "papermill": {
     "duration": 0.140569,
     "end_time": "2021-08-11T21:39:51.021675",
     "exception": false,
     "start_time": "2021-08-11T21:39:50.881106",
     "status": "completed"
    },
    "tags": []
   },
   "outputs": [],
   "source": [
    "def confusion_plot():\n",
    "    print(classification_report(y_valid,predicted))\n",
    "    matrix = confusion_matrix(y_valid, predicted)\n",
    "    sns.heatmap(matrix, annot=True, fmt=\"d\", cmap='Blues', square=True)\n",
    "    plt.xlabel(\"predicted\")\n",
    "    plt.ylabel(\"actual\")\n",
    "    plt.show()"
   ]
  },
  {
   "cell_type": "code",
   "execution_count": 77,
   "metadata": {
    "execution": {
     "iopub.execute_input": "2021-08-11T21:39:51.296012Z",
     "iopub.status.busy": "2021-08-11T21:39:51.295236Z",
     "iopub.status.idle": "2021-08-11T21:39:51.460573Z",
     "shell.execute_reply": "2021-08-11T21:39:51.460116Z",
     "shell.execute_reply.started": "2021-08-11T20:14:57.64995Z"
    },
    "papermill": {
     "duration": 0.304913,
     "end_time": "2021-08-11T21:39:51.460710",
     "exception": false,
     "start_time": "2021-08-11T21:39:51.155797",
     "status": "completed"
    },
    "tags": []
   },
   "outputs": [
    {
     "name": "stdout",
     "output_type": "stream",
     "text": [
      "NB score: 0.7877094972067039\n",
      "\n",
      "\n",
      "              precision    recall  f1-score   support\n",
      "\n",
      "           0       0.88      0.75      0.81       110\n",
      "           1       0.68      0.84      0.75        69\n",
      "\n",
      "    accuracy                           0.79       179\n",
      "   macro avg       0.78      0.80      0.78       179\n",
      "weighted avg       0.81      0.79      0.79       179\n",
      "\n"
     ]
    },
    {
     "data": {
      "image/png": "[encoded data removed]",
      "text/plain": [
       "<Figure size 432x288 with 2 Axes>"
      ]
     },
     "metadata": {
      "needs_background": "light"
     },
     "output_type": "display_data"
    }
   ],
   "source": [
    "from sklearn.naive_bayes import GaussianNB\n",
    "from sklearn.metrics import confusion_matrix\n",
    "from sklearn.metrics import classification_report\n",
    "\n",
    "gnb = GaussianNB()\n",
    "gnb.fit(X_train, y_train)\n",
    "\n",
    "with open('Naive Bayes.pickle', mode='wb') as fp:\n",
    "    pickle.dump(gnb, fp)\n",
    "    \n",
    "score = gnb.score(X_valid, y_valid)\n",
    "print('NB score: {}\\n\\n' .format(score))\n",
    "\n",
    "predicted=gnb.predict(X_valid)\n",
    "\n",
    "\n",
    "confusion_plot()"
   ]
  },
  {
   "cell_type": "markdown",
   "metadata": {
    "papermill": {
     "duration": 0.133651,
     "end_time": "2021-08-11T21:39:51.727425",
     "exception": false,
     "start_time": "2021-08-11T21:39:51.593774",
     "status": "completed"
    },
    "tags": []
   },
   "source": [
    "# Logistic Regression"
   ]
  },
  {
   "cell_type": "code",
   "execution_count": 78,
   "metadata": {
    "execution": {
     "iopub.execute_input": "2021-08-11T21:39:52.147453Z",
     "iopub.status.busy": "2021-08-11T21:39:52.146691Z",
     "iopub.status.idle": "2021-08-11T21:39:52.407700Z",
     "shell.execute_reply": "2021-08-11T21:39:52.408071Z",
     "shell.execute_reply.started": "2021-08-11T20:15:27.118721Z"
    },
    "papermill": {
     "duration": 0.519817,
     "end_time": "2021-08-11T21:39:52.408224",
     "exception": false,
     "start_time": "2021-08-11T21:39:51.888407",
     "status": "completed"
    },
    "tags": []
   },
   "outputs": [
    {
     "name": "stdout",
     "output_type": "stream",
     "text": [
      "LR score: 0.8100558659217877\n",
      "\n",
      "\n",
      "              precision    recall  f1-score   support\n",
      "\n",
      "           0       0.85      0.84      0.84       110\n",
      "           1       0.75      0.77      0.76        69\n",
      "\n",
      "    accuracy                           0.81       179\n",
      "   macro avg       0.80      0.80      0.80       179\n",
      "weighted avg       0.81      0.81      0.81       179\n",
      "\n"
     ]
    },
    {
     "data": {
      "image/png": "[encoded data removed]",
      "text/plain": [
       "<Figure size 432x288 with 2 Axes>"
      ]
     },
     "metadata": {
      "needs_background": "light"
     },
     "output_type": "display_data"
    }
   ],
   "source": [
    "from sklearn.linear_model import LogisticRegression\n",
    "logistic_regression = LogisticRegression(random_state=0)\n",
    "logistic_regression.fit(X_train, y_train)\n",
    "\n",
    "with open('Logistic Regression.pickle', mode='wb') as fp:\n",
    "    pickle.dump(logistic_regression, fp)\n",
    "\n",
    "score = logistic_regression.score(X_valid, y_valid)\n",
    "print('LR score: {}\\n\\n' .format(score))\n",
    "\n",
    "predicted=logistic_regression.predict(X_valid)\n",
    "\n",
    "\n",
    "\n",
    "confusion_plot()"
   ]
  },
  {
   "cell_type": "markdown",
   "metadata": {
    "papermill": {
     "duration": 0.133979,
     "end_time": "2021-08-11T21:39:52.677435",
     "exception": false,
     "start_time": "2021-08-11T21:39:52.543456",
     "status": "completed"
    },
    "tags": []
   },
   "source": [
    "# Support Vector Classifier"
   ]
  },
  {
   "cell_type": "code",
   "execution_count": 79,
   "metadata": {
    "execution": {
     "iopub.execute_input": "2021-08-11T21:39:52.955787Z",
     "iopub.status.busy": "2021-08-11T21:39:52.954833Z",
     "iopub.status.idle": "2021-08-11T21:39:53.166221Z",
     "shell.execute_reply": "2021-08-11T21:39:53.166672Z",
     "shell.execute_reply.started": "2021-08-11T20:15:40.231831Z"
    },
    "papermill": {
     "duration": 0.355852,
     "end_time": "2021-08-11T21:39:53.166828",
     "exception": false,
     "start_time": "2021-08-11T21:39:52.810976",
     "status": "completed"
    },
    "tags": []
   },
   "outputs": [
    {
     "name": "stdout",
     "output_type": "stream",
     "text": [
      "SVC linear score: 0.7821229050279329\n",
      "\n",
      "\n",
      "SVC rbf score: 0.8212290502793296\n",
      "\n",
      "\n",
      "              precision    recall  f1-score   support\n",
      "\n",
      "           0       0.84      0.79      0.82       110\n",
      "           1       0.70      0.77      0.73        69\n",
      "\n",
      "    accuracy                           0.78       179\n",
      "   macro avg       0.77      0.78      0.77       179\n",
      "weighted avg       0.79      0.78      0.78       179\n",
      "\n"
     ]
    },
    {
     "data": {
      "image/png": "[encoded data removed]",
      "text/plain": [
       "<Figure size 432x288 with 2 Axes>"
      ]
     },
     "metadata": {
      "needs_background": "light"
     },
     "output_type": "display_data"
    }
   ],
   "source": [
    "from sklearn.svm import SVC\n",
    "svm = SVC(kernel='linear', C=1.0, random_state=0)\n",
    "svm.fit(X_train, y_train)\n",
    "\n",
    "with open('Support Vector Machine.pickle', mode='wb') as fp:\n",
    "    pickle.dump(svm, fp)\n",
    "    \n",
    "score = svm.score(X_valid, y_valid)\n",
    "print('SVC linear score: {}\\n\\n' .format(score))\n",
    "\n",
    "\n",
    "svm2 = SVC(kernel='rbf', C=1.0, random_state=0)\n",
    "svm2.fit(X_train, y_train)\n",
    "score = svm2.score(X_valid, y_valid)\n",
    "print('SVC rbf score: {}\\n\\n' .format(score))\n",
    "\n",
    "predicted=svm.predict(X_valid)\n",
    "\n",
    "\n",
    "\n",
    "confusion_plot()"
   ]
  },
  {
   "cell_type": "markdown",
   "metadata": {
    "papermill": {
     "duration": 0.134539,
     "end_time": "2021-08-11T21:39:53.439472",
     "exception": false,
     "start_time": "2021-08-11T21:39:53.304933",
     "status": "completed"
    },
    "tags": []
   },
   "source": [
    "# K Nearest Neighbor"
   ]
  },
  {
   "cell_type": "code",
   "execution_count": 80,
   "metadata": {
    "execution": {
     "iopub.execute_input": "2021-08-11T21:39:53.718163Z",
     "iopub.status.busy": "2021-08-11T21:39:53.717565Z",
     "iopub.status.idle": "2021-08-11T21:39:53.903352Z",
     "shell.execute_reply": "2021-08-11T21:39:53.903739Z",
     "shell.execute_reply.started": "2021-08-11T20:15:53.302501Z"
    },
    "papermill": {
     "duration": 0.329433,
     "end_time": "2021-08-11T21:39:53.903895",
     "exception": false,
     "start_time": "2021-08-11T21:39:53.574462",
     "status": "completed"
    },
    "tags": []
   },
   "outputs": [
    {
     "name": "stdout",
     "output_type": "stream",
     "text": [
      "KNN score: 0.7988826815642458\n",
      "\n",
      "\n",
      "              precision    recall  f1-score   support\n",
      "\n",
      "           0       0.82      0.86      0.84       110\n",
      "           1       0.76      0.70      0.73        69\n",
      "\n",
      "    accuracy                           0.80       179\n",
      "   macro avg       0.79      0.78      0.78       179\n",
      "weighted avg       0.80      0.80      0.80       179\n",
      "\n"
     ]
    },
    {
     "data": {
      "image/png": "[encoded data removed]",
      "text/plain": [
       "<Figure size 432x288 with 2 Axes>"
      ]
     },
     "metadata": {
      "needs_background": "light"
     },
     "output_type": "display_data"
    }
   ],
   "source": [
    "from sklearn.neighbors import KNeighborsClassifier\n",
    "knn = KNeighborsClassifier(n_neighbors=5, p=2, metric='minkowski')\n",
    "knn.fit(X_train, y_train)\n",
    "\n",
    "with open('Nearest Neighbors.pickle', mode='wb') as fp:\n",
    "    pickle.dump(knn, fp)\n",
    "    \n",
    "score = knn.score(X_valid, y_valid)\n",
    "print('KNN score: {}\\n\\n' .format(score))\n",
    "\n",
    "predicted=knn.predict(X_valid)\n",
    "\n",
    "\n",
    "confusion_plot()"
   ]
  },
  {
   "cell_type": "markdown",
   "metadata": {
    "papermill": {
     "duration": 0.136851,
     "end_time": "2021-08-11T21:39:54.180590",
     "exception": false,
     "start_time": "2021-08-11T21:39:54.043739",
     "status": "completed"
    },
    "tags": []
   },
   "source": [
    "# Decision Tree"
   ]
  },
  {
   "cell_type": "code",
   "execution_count": 81,
   "metadata": {
    "execution": {
     "iopub.execute_input": "2021-08-11T21:39:54.462773Z",
     "iopub.status.busy": "2021-08-11T21:39:54.462218Z",
     "iopub.status.idle": "2021-08-11T21:39:54.629654Z",
     "shell.execute_reply": "2021-08-11T21:39:54.629091Z",
     "shell.execute_reply.started": "2021-08-11T20:16:03.040037Z"
    },
    "papermill": {
     "duration": 0.310465,
     "end_time": "2021-08-11T21:39:54.629797",
     "exception": false,
     "start_time": "2021-08-11T21:39:54.319332",
     "status": "completed"
    },
    "tags": []
   },
   "outputs": [
    {
     "name": "stdout",
     "output_type": "stream",
     "text": [
      "DT score: 0.8100558659217877\n",
      "\n",
      "\n",
      "              precision    recall  f1-score   support\n",
      "\n",
      "           0       0.83      0.86      0.85       110\n",
      "           1       0.77      0.72      0.75        69\n",
      "\n",
      "    accuracy                           0.81       179\n",
      "   macro avg       0.80      0.79      0.80       179\n",
      "weighted avg       0.81      0.81      0.81       179\n",
      "\n"
     ]
    },
    {
     "data": {
      "image/png": "[encoded data removed]",
      "text/plain": [
       "<Figure size 432x288 with 2 Axes>"
      ]
     },
     "metadata": {
      "needs_background": "light"
     },
     "output_type": "display_data"
    }
   ],
   "source": [
    "from sklearn.tree import DecisionTreeClassifier\n",
    "decision_tree = DecisionTreeClassifier(criterion='entropy',random_state=0)\n",
    "decision_tree.fit(X_train, y_train)\n",
    "\n",
    "with open('Decision Tree.pickle', mode='wb') as fp:\n",
    "    pickle.dump(decision_tree, fp)\n",
    "    \n",
    "score = decision_tree.score(X_valid, y_valid)\n",
    "print('DT score: {}\\n\\n' .format(score))\n",
    "\n",
    "predicted=decision_tree.predict(X_valid)\n",
    "\n",
    "\n",
    "confusion_plot()"
   ]
  },
  {
   "cell_type": "markdown",
   "metadata": {
    "papermill": {
     "duration": 0.150717,
     "end_time": "2021-08-11T21:39:54.920207",
     "exception": false,
     "start_time": "2021-08-11T21:39:54.769490",
     "status": "completed"
    },
    "tags": []
   },
   "source": [
    "# Random Forest"
   ]
  },
  {
   "cell_type": "code",
   "execution_count": 82,
   "metadata": {
    "execution": {
     "iopub.execute_input": "2021-08-11T21:39:55.204123Z",
     "iopub.status.busy": "2021-08-11T21:39:55.203442Z",
     "iopub.status.idle": "2021-08-11T21:39:55.719734Z",
     "shell.execute_reply": "2021-08-11T21:39:55.720125Z",
     "shell.execute_reply.started": "2021-08-11T20:16:11.251451Z"
    },
    "papermill": {
     "duration": 0.65987,
     "end_time": "2021-08-11T21:39:55.720273",
     "exception": false,
     "start_time": "2021-08-11T21:39:55.060403",
     "status": "completed"
    },
    "tags": []
   },
   "outputs": [
    {
     "name": "stdout",
     "output_type": "stream",
     "text": [
      "RF score: 0.8268156424581006\n",
      "\n",
      "\n",
      "              precision    recall  f1-score   support\n",
      "\n",
      "           0       0.85      0.87      0.86       110\n",
      "           1       0.79      0.75      0.77        69\n",
      "\n",
      "    accuracy                           0.83       179\n",
      "   macro avg       0.82      0.81      0.82       179\n",
      "weighted avg       0.83      0.83      0.83       179\n",
      "\n"
     ]
    },
    {
     "data": {
      "image/png": "[encoded data removed]",
      "text/plain": [
       "<Figure size 432x288 with 2 Axes>"
      ]
     },
     "metadata": {
      "needs_background": "light"
     },
     "output_type": "display_data"
    }
   ],
   "source": [
    "from sklearn.ensemble import RandomForestClassifier\n",
    "\n",
    "random_forest = RandomForestClassifier(random_state=0)\n",
    "random_forest.fit(X_train, y_train)\n",
    "\n",
    "with open('Random Forest.pickle', mode='wb') as fp:\n",
    "    pickle.dump(random_forest, fp)\n",
    "    \n",
    "score = random_forest.score(X_valid, y_valid)\n",
    "print('RF score: {}\\n\\n' .format(score))\n",
    "\n",
    "predicted=random_forest.predict(X_valid)\n",
    "\n",
    "\n",
    "confusion_plot()"
   ]
  },
  {
   "cell_type": "markdown",
   "metadata": {
    "papermill": {
     "duration": 0.137523,
     "end_time": "2021-08-11T21:39:55.996712",
     "exception": false,
     "start_time": "2021-08-11T21:39:55.859189",
     "status": "completed"
    },
    "tags": []
   },
   "source": [
    "# Extreme Gradient Boosting"
   ]
  },
  {
   "cell_type": "code",
   "execution_count": 83,
   "metadata": {
    "execution": {
     "iopub.execute_input": "2021-08-11T21:39:56.281165Z",
     "iopub.status.busy": "2021-08-11T21:39:56.280451Z",
     "iopub.status.idle": "2021-08-11T21:39:59.516391Z",
     "shell.execute_reply": "2021-08-11T21:39:59.515987Z",
     "shell.execute_reply.started": "2021-08-11T20:16:23.436334Z"
    },
    "papermill": {
     "duration": 3.380674,
     "end_time": "2021-08-11T21:39:59.516532",
     "exception": false,
     "start_time": "2021-08-11T21:39:56.135858",
     "status": "completed"
    },
    "tags": []
   },
   "outputs": [
    {
     "name": "stdout",
     "output_type": "stream",
     "text": [
      "[21:39:59] WARNING: ../src/learner.cc:1061: Starting in XGBoost 1.3.0, the default evaluation metric used with the objective 'binary:logistic' was changed from 'error' to 'logloss'. Explicitly set eval_metric if you'd like to restore the old behavior.\n",
      "score: 0.8100558659217877\n",
      "\n",
      "\n",
      "              precision    recall  f1-score   support\n",
      "\n",
      "           0       0.83      0.87      0.85       110\n",
      "           1       0.78      0.71      0.74        69\n",
      "\n",
      "    accuracy                           0.81       179\n",
      "   macro avg       0.80      0.79      0.80       179\n",
      "weighted avg       0.81      0.81      0.81       179\n",
      "\n"
     ]
    },
    {
     "data": {
      "image/png": "[encoded data removed]",
      "text/plain": [
       "<Figure size 432x288 with 2 Axes>"
      ]
     },
     "metadata": {
      "needs_background": "light"
     },
     "output_type": "display_data"
    }
   ],
   "source": [
    "from xgboost import XGBClassifier\n",
    "\n",
    "xgb = XGBClassifier(max_depth=3, learning_rate=0.1, n_estimators=100)\n",
    "xgb.fit(X_train, y_train)\n",
    "\n",
    "with open('Gradient Boosting.pickle', mode='wb') as fp:\n",
    "    pickle.dump(xgb, fp)\n",
    "    \n",
    "score = xgb.score(X_valid, y_valid)\n",
    "print('score: {}\\n\\n' .format(score))\n",
    "\n",
    "predicted=xgb.predict(X_valid)\n",
    "\n",
    "\n",
    "confusion_plot()"
   ]
  },
  {
   "cell_type": "markdown",
   "metadata": {
    "papermill": {
     "duration": 0.136897,
     "end_time": "2021-08-11T21:39:59.790754",
     "exception": false,
     "start_time": "2021-08-11T21:39:59.653857",
     "status": "completed"
    },
    "tags": []
   },
   "source": [
    "# Best Model"
   ]
  },
  {
   "cell_type": "code",
   "execution_count": 84,
   "metadata": {
    "execution": {
     "iopub.execute_input": "2021-08-11T21:40:00.072123Z",
     "iopub.status.busy": "2021-08-11T21:40:00.071350Z",
     "iopub.status.idle": "2021-08-11T21:40:00.539430Z",
     "shell.execute_reply": "2021-08-11T21:40:00.540296Z",
     "shell.execute_reply.started": "2021-08-11T20:16:41.445379Z"
    },
    "papermill": {
     "duration": 0.613499,
     "end_time": "2021-08-11T21:40:00.540545",
     "exception": false,
     "start_time": "2021-08-11T21:39:59.927046",
     "status": "completed"
    },
    "tags": []
   },
   "outputs": [
    {
     "name": "stdout",
     "output_type": "stream",
     "text": [
      "For guessing the Survived feature we used the following models:\n",
      " \n",
      "Support Vector Machine\n",
      "Logistic Regression\n",
      "Nearest Neighbors\n",
      "Decision Tree\n",
      "Random Forest\n",
      "Naive Bayes\n",
      "[21:40:00] WARNING: ../src/learner.cc:1061: Starting in XGBoost 1.3.0, the default evaluation metric used with the objective 'binary:logistic' was changed from 'error' to 'logloss'. Explicitly set eval_metric if you'd like to restore the old behavior.\n",
      "Gradient Boosting\n"
     ]
    },
    {
     "data": {
      "text/html": [
       "<div>\n",
       "<style scoped>\n",
       "    .dataframe tbody tr th:only-of-type {\n",
       "        vertical-align: middle;\n",
       "    }\n",
       "\n",
       "    .dataframe tbody tr th {\n",
       "        vertical-align: top;\n",
       "    }\n",
       "\n",
       "    .dataframe thead th {\n",
       "        text-align: right;\n",
       "    }\n",
       "</style>\n",
       "<table border=\"1\" class=\"dataframe\">\n",
       "  <thead>\n",
       "    <tr style=\"text-align: right;\">\n",
       "      <th></th>\n",
       "      <th>Training</th>\n",
       "      <th>Validation</th>\n",
       "    </tr>\n",
       "  </thead>\n",
       "  <tbody>\n",
       "    <tr>\n",
       "      <th>Random Forest</th>\n",
       "      <td>1.000000</td>\n",
       "      <td>0.826816</td>\n",
       "    </tr>\n",
       "    <tr>\n",
       "      <th>Logistic Regression</th>\n",
       "      <td>0.828652</td>\n",
       "      <td>0.810056</td>\n",
       "    </tr>\n",
       "    <tr>\n",
       "      <th>Decision Tree</th>\n",
       "      <td>1.000000</td>\n",
       "      <td>0.810056</td>\n",
       "    </tr>\n",
       "    <tr>\n",
       "      <th>Gradient Boosting</th>\n",
       "      <td>0.879213</td>\n",
       "      <td>0.810056</td>\n",
       "    </tr>\n",
       "    <tr>\n",
       "      <th>Nearest Neighbors</th>\n",
       "      <td>0.860955</td>\n",
       "      <td>0.798883</td>\n",
       "    </tr>\n",
       "    <tr>\n",
       "      <th>Naive Bayes</th>\n",
       "      <td>0.807584</td>\n",
       "      <td>0.787709</td>\n",
       "    </tr>\n",
       "    <tr>\n",
       "      <th>Support Vector Machine</th>\n",
       "      <td>0.823034</td>\n",
       "      <td>0.782123</td>\n",
       "    </tr>\n",
       "  </tbody>\n",
       "</table>\n",
       "</div>"
      ],
      "text/plain": [
       "                        Training  Validation\n",
       "Random Forest           1.000000    0.826816\n",
       "Logistic Regression     0.828652    0.810056\n",
       "Decision Tree           1.000000    0.810056\n",
       "Gradient Boosting       0.879213    0.810056\n",
       "Nearest Neighbors       0.860955    0.798883\n",
       "Naive Bayes             0.807584    0.787709\n",
       "Support Vector Machine  0.823034    0.782123"
      ]
     },
     "execution_count": 84,
     "metadata": {},
     "output_type": "execute_result"
    }
   ],
   "source": [
    "names = [\"Support Vector Machine\", \"Logistic Regression\", \"Nearest Neighbors\",\n",
    "         \"Decision Tree\",\"Random Forest\", \"Naive Bayes\",\"Gradient Boosting\"]\n",
    "\n",
    "result = []\n",
    "print(\"For guessing the Survived feature we used the following models:\")\n",
    "print(\" \")\n",
    "for name in names:\n",
    "    with open(name + '.pickle', 'rb') as fp:\n",
    "        clf = pickle.load(fp)\n",
    "    \n",
    "    clf.fit(X_train, y_train)\n",
    "    score1 = clf.score(X_train, y_train)\n",
    "    score2 = clf.score(X_valid, y_valid)\n",
    "    result.append([score1, score2])\n",
    "    \n",
    "    print(name)\n",
    "\n",
    "df_result = pd.DataFrame(result, columns=['Training', 'Validation'], index = names)\n",
    "df_result.sort_values(\"Validation\",ascending=False)"
   ]
  },
  {
   "cell_type": "markdown",
   "metadata": {
    "papermill": {
     "duration": 0.138469,
     "end_time": "2021-08-11T21:40:00.831426",
     "exception": false,
     "start_time": "2021-08-11T21:40:00.692957",
     "status": "completed"
    },
    "tags": []
   },
   "source": [
    "![](https://i.imgur.com/TdKX2gW.png)"
   ]
  },
  {
   "cell_type": "code",
   "execution_count": 85,
   "metadata": {
    "execution": {
     "iopub.execute_input": "2021-08-11T21:40:01.115651Z",
     "iopub.status.busy": "2021-08-11T21:40:01.115115Z",
     "iopub.status.idle": "2021-08-11T21:44:03.728215Z",
     "shell.execute_reply": "2021-08-11T21:44:03.728647Z",
     "shell.execute_reply.started": "2021-08-11T20:20:02.489539Z"
    },
    "papermill": {
     "duration": 242.75906,
     "end_time": "2021-08-11T21:44:03.728815",
     "exception": false,
     "start_time": "2021-08-11T21:40:00.969755",
     "status": "completed"
    },
    "tags": []
   },
   "outputs": [
    {
     "name": "stderr",
     "output_type": "stream",
     "text": [
      "[Parallel(n_jobs=1)]: Using backend SequentialBackend with 1 concurrent workers.\n",
      "[Parallel(n_jobs=1)]: Done   1 out of   1 | elapsed:    0.5s remaining:    0.0s\n",
      "[Parallel(n_jobs=1)]: Done  29 out of  29 | elapsed:   14.5s finished\n",
      "\n",
      "[2021-08-11 21:40:15] Features: 1/29 -- score: 0.7841766843723791[Parallel(n_jobs=1)]: Using backend SequentialBackend with 1 concurrent workers.\n",
      "[Parallel(n_jobs=1)]: Done   1 out of   1 | elapsed:    0.5s remaining:    0.0s\n",
      "[Parallel(n_jobs=1)]: Done  28 out of  28 | elapsed:   14.0s finished\n",
      "\n",
      "[2021-08-11 21:40:29] Features: 2/29 -- score: 0.8419510862200267[Parallel(n_jobs=1)]: Using backend SequentialBackend with 1 concurrent workers.\n",
      "[Parallel(n_jobs=1)]: Done   1 out of   1 | elapsed:    0.7s remaining:    0.0s\n",
      "[Parallel(n_jobs=1)]: Done  27 out of  27 | elapsed:   15.1s finished\n",
      "\n",
      "[2021-08-11 21:40:44] Features: 3/29 -- score: 0.8588307368709941[Parallel(n_jobs=1)]: Using backend SequentialBackend with 1 concurrent workers.\n",
      "[Parallel(n_jobs=1)]: Done   1 out of   1 | elapsed:    0.7s remaining:    0.0s\n",
      "[Parallel(n_jobs=1)]: Done  26 out of  26 | elapsed:   14.6s finished\n",
      "\n",
      "[2021-08-11 21:40:59] Features: 4/29 -- score: 0.8710919512568939[Parallel(n_jobs=1)]: Using backend SequentialBackend with 1 concurrent workers.\n",
      "[Parallel(n_jobs=1)]: Done   1 out of   1 | elapsed:    0.5s remaining:    0.0s\n",
      "[Parallel(n_jobs=1)]: Done  25 out of  25 | elapsed:   13.7s finished\n",
      "\n",
      "[2021-08-11 21:41:12] Features: 5/29 -- score: 0.872633478098952[Parallel(n_jobs=1)]: Using backend SequentialBackend with 1 concurrent workers.\n",
      "[Parallel(n_jobs=1)]: Done   1 out of   1 | elapsed:    0.6s remaining:    0.0s\n",
      "[Parallel(n_jobs=1)]: Done  24 out of  24 | elapsed:   12.7s finished\n",
      "\n",
      "[2021-08-11 21:41:25] Features: 6/29 -- score: 0.8733885395193753[Parallel(n_jobs=1)]: Using backend SequentialBackend with 1 concurrent workers.\n",
      "[Parallel(n_jobs=1)]: Done   1 out of   1 | elapsed:    0.6s remaining:    0.0s\n",
      "[Parallel(n_jobs=1)]: Done  23 out of  23 | elapsed:   12.8s finished\n",
      "\n",
      "[2021-08-11 21:41:38] Features: 7/29 -- score: 0.871135643780318[Parallel(n_jobs=1)]: Using backend SequentialBackend with 1 concurrent workers.\n",
      "[Parallel(n_jobs=1)]: Done   1 out of   1 | elapsed:    0.6s remaining:    0.0s\n",
      "[Parallel(n_jobs=1)]: Done  22 out of  22 | elapsed:   12.4s finished\n",
      "\n",
      "[2021-08-11 21:41:50] Features: 8/29 -- score: 0.8675235862823226[Parallel(n_jobs=1)]: Using backend SequentialBackend with 1 concurrent workers.\n",
      "[Parallel(n_jobs=1)]: Done   1 out of   1 | elapsed:    0.6s remaining:    0.0s\n",
      "[Parallel(n_jobs=1)]: Done  21 out of  21 | elapsed:   11.6s finished\n",
      "\n",
      "[2021-08-11 21:42:02] Features: 9/29 -- score: 0.8680208447471517[Parallel(n_jobs=1)]: Using backend SequentialBackend with 1 concurrent workers.\n",
      "[Parallel(n_jobs=1)]: Done   1 out of   1 | elapsed:    0.6s remaining:    0.0s\n",
      "[Parallel(n_jobs=1)]: Done  20 out of  20 | elapsed:   11.1s finished\n",
      "\n",
      "[2021-08-11 21:42:13] Features: 10/29 -- score: 0.8633286773488059[Parallel(n_jobs=1)]: Using backend SequentialBackend with 1 concurrent workers.\n",
      "[Parallel(n_jobs=1)]: Done   1 out of   1 | elapsed:    0.5s remaining:    0.0s\n",
      "[Parallel(n_jobs=1)]: Done  19 out of  19 | elapsed:   10.1s finished\n",
      "\n",
      "[2021-08-11 21:42:23] Features: 11/29 -- score: 0.8650399394039315[Parallel(n_jobs=1)]: Using backend SequentialBackend with 1 concurrent workers.\n",
      "[Parallel(n_jobs=1)]: Done   1 out of   1 | elapsed:    0.5s remaining:    0.0s\n",
      "[Parallel(n_jobs=1)]: Done  18 out of  18 | elapsed:    9.7s finished\n",
      "\n",
      "[2021-08-11 21:42:33] Features: 12/29 -- score: 0.8631775455929774[Parallel(n_jobs=1)]: Using backend SequentialBackend with 1 concurrent workers.\n",
      "[Parallel(n_jobs=1)]: Done   1 out of   1 | elapsed:    0.6s remaining:    0.0s\n",
      "[Parallel(n_jobs=1)]: Done  17 out of  17 | elapsed:   10.0s finished\n",
      "\n",
      "[2021-08-11 21:42:43] Features: 13/29 -- score: 0.8625654235802406[Parallel(n_jobs=1)]: Using backend SequentialBackend with 1 concurrent workers.\n",
      "[Parallel(n_jobs=1)]: Done   1 out of   1 | elapsed:    0.6s remaining:    0.0s\n",
      "[Parallel(n_jobs=1)]: Done  16 out of  16 | elapsed:    9.3s finished\n",
      "\n",
      "[2021-08-11 21:42:52] Features: 14/29 -- score: 0.8640391075392473[Parallel(n_jobs=1)]: Using backend SequentialBackend with 1 concurrent workers.\n",
      "[Parallel(n_jobs=1)]: Done   1 out of   1 | elapsed:    0.6s remaining:    0.0s\n",
      "[Parallel(n_jobs=1)]: Done  15 out of  15 | elapsed:    8.8s finished\n",
      "\n",
      "[2021-08-11 21:43:01] Features: 15/29 -- score: 0.8627086189988061[Parallel(n_jobs=1)]: Using backend SequentialBackend with 1 concurrent workers.\n",
      "[Parallel(n_jobs=1)]: Done   1 out of   1 | elapsed:    0.6s remaining:    0.0s\n",
      "[Parallel(n_jobs=1)]: Done  14 out of  14 | elapsed:    7.9s finished\n",
      "\n",
      "[2021-08-11 21:43:09] Features: 16/29 -- score: 0.8660610814650512[Parallel(n_jobs=1)]: Using backend SequentialBackend with 1 concurrent workers.\n",
      "[Parallel(n_jobs=1)]: Done   1 out of   1 | elapsed:    0.8s remaining:    0.0s\n",
      "[Parallel(n_jobs=1)]: Done  13 out of  13 | elapsed:    7.8s finished\n",
      "\n",
      "[2021-08-11 21:43:17] Features: 17/29 -- score: 0.8728855634782389[Parallel(n_jobs=1)]: Using backend SequentialBackend with 1 concurrent workers.\n",
      "[Parallel(n_jobs=1)]: Done   1 out of   1 | elapsed:    0.6s remaining:    0.0s\n",
      "[Parallel(n_jobs=1)]: Done  12 out of  12 | elapsed:    6.9s finished\n",
      "\n",
      "[2021-08-11 21:43:24] Features: 18/29 -- score: 0.8777925240044334[Parallel(n_jobs=1)]: Using backend SequentialBackend with 1 concurrent workers.\n",
      "[Parallel(n_jobs=1)]: Done   1 out of   1 | elapsed:    0.6s remaining:    0.0s\n",
      "[Parallel(n_jobs=1)]: Done  11 out of  11 | elapsed:    6.1s finished\n",
      "\n",
      "[2021-08-11 21:43:30] Features: 19/29 -- score: 0.8792206380269003[Parallel(n_jobs=1)]: Using backend SequentialBackend with 1 concurrent workers.\n",
      "[Parallel(n_jobs=1)]: Done   1 out of   1 | elapsed:    0.6s remaining:    0.0s\n",
      "[Parallel(n_jobs=1)]: Done  10 out of  10 | elapsed:    5.9s finished\n",
      "\n",
      "[2021-08-11 21:43:36] Features: 20/29 -- score: 0.8771559102842302[Parallel(n_jobs=1)]: Using backend SequentialBackend with 1 concurrent workers.\n",
      "[Parallel(n_jobs=1)]: Done   1 out of   1 | elapsed:    0.6s remaining:    0.0s\n",
      "[Parallel(n_jobs=1)]: Done   9 out of   9 | elapsed:    5.1s finished\n",
      "\n",
      "[2021-08-11 21:43:41] Features: 21/29 -- score: 0.8753983102599262[Parallel(n_jobs=1)]: Using backend SequentialBackend with 1 concurrent workers.\n",
      "[Parallel(n_jobs=1)]: Done   1 out of   1 | elapsed:    0.7s remaining:    0.0s\n",
      "[Parallel(n_jobs=1)]: Done   8 out of   8 | elapsed:    4.8s finished\n",
      "\n",
      "[2021-08-11 21:43:46] Features: 22/29 -- score: 0.8743277580990748[Parallel(n_jobs=1)]: Using backend SequentialBackend with 1 concurrent workers.\n",
      "[Parallel(n_jobs=1)]: Done   1 out of   1 | elapsed:    0.6s remaining:    0.0s\n",
      "[Parallel(n_jobs=1)]: Done   7 out of   7 | elapsed:    4.6s finished\n",
      "\n",
      "[2021-08-11 21:43:50] Features: 23/29 -- score: 0.8772677870385447[Parallel(n_jobs=1)]: Using backend SequentialBackend with 1 concurrent workers.\n",
      "[Parallel(n_jobs=1)]: Done   1 out of   1 | elapsed:    0.6s remaining:    0.0s\n",
      "[Parallel(n_jobs=1)]: Done   6 out of   6 | elapsed:    3.9s finished\n",
      "\n",
      "[2021-08-11 21:43:54] Features: 24/29 -- score: 0.873381456551711[Parallel(n_jobs=1)]: Using backend SequentialBackend with 1 concurrent workers.\n",
      "[Parallel(n_jobs=1)]: Done   1 out of   1 | elapsed:    0.6s remaining:    0.0s\n",
      "[Parallel(n_jobs=1)]: Done   5 out of   5 | elapsed:    3.1s finished\n",
      "\n",
      "[2021-08-11 21:43:57] Features: 25/29 -- score: 0.8726097544241239[Parallel(n_jobs=1)]: Using backend SequentialBackend with 1 concurrent workers.\n",
      "[Parallel(n_jobs=1)]: Done   1 out of   1 | elapsed:    0.6s remaining:    0.0s\n",
      "[Parallel(n_jobs=1)]: Done   4 out of   4 | elapsed:    2.5s finished\n",
      "\n",
      "[2021-08-11 21:44:00] Features: 26/29 -- score: 0.8722160950285076[Parallel(n_jobs=1)]: Using backend SequentialBackend with 1 concurrent workers.\n",
      "[Parallel(n_jobs=1)]: Done   1 out of   1 | elapsed:    0.6s remaining:    0.0s\n",
      "[Parallel(n_jobs=1)]: Done   3 out of   3 | elapsed:    1.8s finished\n",
      "\n",
      "[2021-08-11 21:44:01] Features: 27/29 -- score: 0.8679227925803269[Parallel(n_jobs=1)]: Using backend SequentialBackend with 1 concurrent workers.\n",
      "[Parallel(n_jobs=1)]: Done   1 out of   1 | elapsed:    0.6s remaining:    0.0s\n",
      "[Parallel(n_jobs=1)]: Done   2 out of   2 | elapsed:    1.2s finished\n",
      "\n",
      "[2021-08-11 21:44:03] Features: 28/29 -- score: 0.8623183730815823[Parallel(n_jobs=1)]: Using backend SequentialBackend with 1 concurrent workers.\n",
      "[Parallel(n_jobs=1)]: Done   1 out of   1 | elapsed:    0.6s remaining:    0.0s\n",
      "[Parallel(n_jobs=1)]: Done   1 out of   1 | elapsed:    0.6s finished\n",
      "\n",
      "[2021-08-11 21:44:03] Features: 29/29 -- score: 0.8672520440761984"
     ]
    }
   ],
   "source": [
    "model=RandomForestClassifier(random_state=0)\n",
    "fs.step_forward(X_train,y_train,model=model,kfeatures=29,info=False)"
   ]
  },
  {
   "cell_type": "code",
   "execution_count": 86,
   "metadata": {
    "execution": {
     "iopub.execute_input": "2021-08-11T21:44:04.072974Z",
     "iopub.status.busy": "2021-08-11T21:44:04.072060Z",
     "iopub.status.idle": "2021-08-11T21:47:32.896537Z",
     "shell.execute_reply": "2021-08-11T21:47:32.896022Z",
     "shell.execute_reply.started": "2021-08-11T20:24:53.104745Z"
    },
    "papermill": {
     "duration": 208.995551,
     "end_time": "2021-08-11T21:47:32.896678",
     "exception": false,
     "start_time": "2021-08-11T21:44:03.901127",
     "status": "completed"
    },
    "tags": []
   },
   "outputs": [
    {
     "name": "stderr",
     "output_type": "stream",
     "text": [
      "[Parallel(n_jobs=1)]: Using backend SequentialBackend with 1 concurrent workers.\n",
      "[Parallel(n_jobs=1)]: Done   1 out of   1 | elapsed:    0.5s remaining:    0.0s\n",
      "[Parallel(n_jobs=1)]: Done  29 out of  29 | elapsed:   15.0s finished\n",
      "\n",
      "[2021-08-11 21:44:19] Features: 1/19 -- score: 0.7841766843723791[Parallel(n_jobs=1)]: Using backend SequentialBackend with 1 concurrent workers.\n",
      "[Parallel(n_jobs=1)]: Done   1 out of   1 | elapsed:    0.5s remaining:    0.0s\n",
      "[Parallel(n_jobs=1)]: Done  28 out of  28 | elapsed:   14.3s finished\n",
      "\n",
      "[2021-08-11 21:44:33] Features: 2/19 -- score: 0.8419510862200267[Parallel(n_jobs=1)]: Using backend SequentialBackend with 1 concurrent workers.\n",
      "[Parallel(n_jobs=1)]: Done   1 out of   1 | elapsed:    0.5s remaining:    0.0s\n",
      "[Parallel(n_jobs=1)]: Done  27 out of  27 | elapsed:   13.6s finished\n",
      "\n",
      "[2021-08-11 21:44:47] Features: 3/19 -- score: 0.8588307368709941[Parallel(n_jobs=1)]: Using backend SequentialBackend with 1 concurrent workers.\n",
      "[Parallel(n_jobs=1)]: Done   1 out of   1 | elapsed:    0.5s remaining:    0.0s\n",
      "[Parallel(n_jobs=1)]: Done  26 out of  26 | elapsed:   14.7s finished\n",
      "\n",
      "[2021-08-11 21:45:01] Features: 4/19 -- score: 0.8710919512568939[Parallel(n_jobs=1)]: Using backend SequentialBackend with 1 concurrent workers.\n",
      "[Parallel(n_jobs=1)]: Done   1 out of   1 | elapsed:    0.6s remaining:    0.0s\n",
      "[Parallel(n_jobs=1)]: Done  25 out of  25 | elapsed:   14.0s finished\n",
      "\n",
      "[2021-08-11 21:45:15] Features: 5/19 -- score: 0.872633478098952[Parallel(n_jobs=1)]: Using backend SequentialBackend with 1 concurrent workers.\n",
      "[Parallel(n_jobs=1)]: Done   1 out of   1 | elapsed:    0.7s remaining:    0.0s\n",
      "[Parallel(n_jobs=1)]: Done  24 out of  24 | elapsed:   13.4s finished\n",
      "\n",
      "[2021-08-11 21:45:29] Features: 6/19 -- score: 0.8733885395193753[Parallel(n_jobs=1)]: Using backend SequentialBackend with 1 concurrent workers.\n",
      "[Parallel(n_jobs=1)]: Done   1 out of   1 | elapsed:    0.6s remaining:    0.0s\n",
      "[Parallel(n_jobs=1)]: Done  23 out of  23 | elapsed:   12.9s finished\n",
      "\n",
      "[2021-08-11 21:45:42] Features: 7/19 -- score: 0.871135643780318[Parallel(n_jobs=1)]: Using backend SequentialBackend with 1 concurrent workers.\n",
      "[Parallel(n_jobs=1)]: Done   1 out of   1 | elapsed:    0.6s remaining:    0.0s\n",
      "[Parallel(n_jobs=1)]: Done  22 out of  22 | elapsed:   12.1s finished\n",
      "\n",
      "[2021-08-11 21:45:54] Features: 8/19 -- score: 0.8675235862823226[Parallel(n_jobs=1)]: Using backend SequentialBackend with 1 concurrent workers.\n",
      "[Parallel(n_jobs=1)]: Done   1 out of   1 | elapsed:    0.6s remaining:    0.0s\n",
      "[Parallel(n_jobs=1)]: Done  21 out of  21 | elapsed:   11.6s finished\n",
      "\n",
      "[2021-08-11 21:46:05] Features: 9/19 -- score: 0.8680208447471517[Parallel(n_jobs=1)]: Using backend SequentialBackend with 1 concurrent workers.\n",
      "[Parallel(n_jobs=1)]: Done   1 out of   1 | elapsed:    0.8s remaining:    0.0s\n",
      "[Parallel(n_jobs=1)]: Done  20 out of  20 | elapsed:   10.6s finished\n",
      "\n",
      "[2021-08-11 21:46:16] Features: 10/19 -- score: 0.8633286773488059[Parallel(n_jobs=1)]: Using backend SequentialBackend with 1 concurrent workers.\n",
      "[Parallel(n_jobs=1)]: Done   1 out of   1 | elapsed:    0.6s remaining:    0.0s\n",
      "[Parallel(n_jobs=1)]: Done  19 out of  19 | elapsed:   10.2s finished\n",
      "\n",
      "[2021-08-11 21:46:26] Features: 11/19 -- score: 0.8650399394039315[Parallel(n_jobs=1)]: Using backend SequentialBackend with 1 concurrent workers.\n",
      "[Parallel(n_jobs=1)]: Done   1 out of   1 | elapsed:    0.6s remaining:    0.0s\n",
      "[Parallel(n_jobs=1)]: Done  18 out of  18 | elapsed:   10.6s finished\n",
      "\n",
      "[2021-08-11 21:46:37] Features: 12/19 -- score: 0.8631775455929774[Parallel(n_jobs=1)]: Using backend SequentialBackend with 1 concurrent workers.\n",
      "[Parallel(n_jobs=1)]: Done   1 out of   1 | elapsed:    0.6s remaining:    0.0s\n",
      "[Parallel(n_jobs=1)]: Done  17 out of  17 | elapsed:    9.9s finished\n",
      "\n",
      "[2021-08-11 21:46:47] Features: 13/19 -- score: 0.8625654235802406[Parallel(n_jobs=1)]: Using backend SequentialBackend with 1 concurrent workers.\n",
      "[Parallel(n_jobs=1)]: Done   1 out of   1 | elapsed:    0.6s remaining:    0.0s\n",
      "[Parallel(n_jobs=1)]: Done  16 out of  16 | elapsed:    9.3s finished\n",
      "\n",
      "[2021-08-11 21:46:56] Features: 14/19 -- score: 0.8640391075392473[Parallel(n_jobs=1)]: Using backend SequentialBackend with 1 concurrent workers.\n",
      "[Parallel(n_jobs=1)]: Done   1 out of   1 | elapsed:    0.5s remaining:    0.0s\n",
      "[Parallel(n_jobs=1)]: Done  15 out of  15 | elapsed:    8.3s finished\n",
      "\n",
      "[2021-08-11 21:47:04] Features: 15/19 -- score: 0.8627086189988061[Parallel(n_jobs=1)]: Using backend SequentialBackend with 1 concurrent workers.\n",
      "[Parallel(n_jobs=1)]: Done   1 out of   1 | elapsed:    0.6s remaining:    0.0s\n",
      "[Parallel(n_jobs=1)]: Done  14 out of  14 | elapsed:    8.2s finished\n",
      "\n",
      "[2021-08-11 21:47:12] Features: 16/19 -- score: 0.8660610814650512[Parallel(n_jobs=1)]: Using backend SequentialBackend with 1 concurrent workers.\n",
      "[Parallel(n_jobs=1)]: Done   1 out of   1 | elapsed:    0.6s remaining:    0.0s\n",
      "[Parallel(n_jobs=1)]: Done  13 out of  13 | elapsed:    7.1s finished\n",
      "\n",
      "[2021-08-11 21:47:19] Features: 17/19 -- score: 0.8728855634782389[Parallel(n_jobs=1)]: Using backend SequentialBackend with 1 concurrent workers.\n",
      "[Parallel(n_jobs=1)]: Done   1 out of   1 | elapsed:    0.6s remaining:    0.0s\n",
      "[Parallel(n_jobs=1)]: Done  12 out of  12 | elapsed:    6.9s finished\n",
      "\n",
      "[2021-08-11 21:47:26] Features: 18/19 -- score: 0.8777925240044334[Parallel(n_jobs=1)]: Using backend SequentialBackend with 1 concurrent workers.\n",
      "[Parallel(n_jobs=1)]: Done   1 out of   1 | elapsed:    0.6s remaining:    0.0s\n",
      "[Parallel(n_jobs=1)]: Done  11 out of  11 | elapsed:    6.1s finished\n",
      "\n",
      "[2021-08-11 21:47:32] Features: 19/19 -- score: 0.8792206380269003"
     ]
    },
    {
     "data": {
      "text/plain": [
       "['Pclass',\n",
       " 'SibSp',\n",
       " 'Fare',\n",
       " 'Age_na',\n",
       " 'AgeRange',\n",
       " 'FamilySize',\n",
       " 'IsAlone',\n",
       " 'Cabin_na',\n",
       " 'Name_Mr',\n",
       " 'Name_Rare',\n",
       " 'Cabin_B',\n",
       " 'Cabin_F',\n",
       " 'Cabin_E',\n",
       " 'Cabin_Rare',\n",
       " 'Embarked_S',\n",
       " 'Embarked_C',\n",
       " 'Embarked_Q',\n",
       " 'Sex_male',\n",
       " 'Sex_female']"
      ]
     },
     "execution_count": 86,
     "metadata": {},
     "output_type": "execute_result"
    }
   ],
   "source": [
    "model=RandomForestClassifier(random_state=0)\n",
    "fs.step_forward(X_train,y_train,model=model,kfeatures=19,info=True)"
   ]
  },
  {
   "cell_type": "code",
   "execution_count": 87,
   "metadata": {
    "execution": {
     "iopub.execute_input": "2021-08-11T21:47:33.266523Z",
     "iopub.status.busy": "2021-08-11T21:47:33.265730Z",
     "iopub.status.idle": "2021-08-11T21:47:33.268468Z",
     "shell.execute_reply": "2021-08-11T21:47:33.268013Z",
     "shell.execute_reply.started": "2021-08-11T20:32:38.572289Z"
    },
    "papermill": {
     "duration": 0.176018,
     "end_time": "2021-08-11T21:47:33.268597",
     "exception": false,
     "start_time": "2021-08-11T21:47:33.092579",
     "status": "completed"
    },
    "tags": []
   },
   "outputs": [],
   "source": [
    "features = ['Pclass','SibSp','Fare','Age_na','AgeRange','FamilySize','IsAlone','Cabin_na','Name_Mr','Name_Rare','Cabin_B','Cabin_F',\n",
    "            'Cabin_E','Cabin_Rare','Embarked_S','Embarked_C','Embarked_Q','Sex_male','Sex_female']\n",
    "X_test = X_test[features]\n",
    "X_train = X_train[features]\n",
    "X_valid = X_valid[features]"
   ]
  },
  {
   "cell_type": "code",
   "execution_count": 88,
   "metadata": {
    "execution": {
     "iopub.execute_input": "2021-08-11T21:47:33.612601Z",
     "iopub.status.busy": "2021-08-11T21:47:33.611671Z",
     "iopub.status.idle": "2021-08-11T21:47:33.615436Z",
     "shell.execute_reply": "2021-08-11T21:47:33.616233Z",
     "shell.execute_reply.started": "2021-08-11T20:32:42.345161Z"
    },
    "papermill": {
     "duration": 0.184394,
     "end_time": "2021-08-11T21:47:33.616438",
     "exception": false,
     "start_time": "2021-08-11T21:47:33.432044",
     "status": "completed"
    },
    "tags": []
   },
   "outputs": [
    {
     "name": "stdout",
     "output_type": "stream",
     "text": [
      "k-th primary component for 95% coverage is 11\n",
      "k-th primary component for 99% coverage is 14\n"
     ]
    }
   ],
   "source": [
    "COVERAGE95=0.95\n",
    "COVERAGE99=0.99\n",
    "from sklearn.decomposition import PCA\n",
    "pca = PCA()\n",
    "pca.fit(X_train)\n",
    "\n",
    "contributions = pca.explained_variance_ratio_\n",
    "coverages = pca.explained_variance_ratio_.cumsum()\n",
    "k95 = np.argmax(coverages >= COVERAGE95)\n",
    "k99 = np.argmax(coverages >= COVERAGE99)\n",
    "\n",
    "print(\"k-th primary component for 95% coverage is {}\".format(k95 + 1))\n",
    "print(\"k-th primary component for 99% coverage is {}\".format(k99 + 1))"
   ]
  },
  {
   "cell_type": "code",
   "execution_count": 89,
   "metadata": {
    "execution": {
     "iopub.execute_input": "2021-08-11T21:47:34.130656Z",
     "iopub.status.busy": "2021-08-11T21:47:34.129767Z",
     "iopub.status.idle": "2021-08-11T21:47:34.153028Z",
     "shell.execute_reply": "2021-08-11T21:47:34.153818Z",
     "shell.execute_reply.started": "2021-08-11T20:32:58.74075Z"
    },
    "papermill": {
     "duration": 0.300933,
     "end_time": "2021-08-11T21:47:34.154025",
     "exception": false,
     "start_time": "2021-08-11T21:47:33.853092",
     "status": "completed"
    },
    "tags": []
   },
   "outputs": [],
   "source": [
    "pca = PCA(n_components=14)\n",
    "pca.fit(X_train)\n",
    "#print(pca.explained_variance_ratio_)\n",
    "x=pca.transform(X_train)\n",
    "X_train = pd.DataFrame(x)"
   ]
  },
  {
   "cell_type": "markdown",
   "metadata": {
    "papermill": {
     "duration": 0.162824,
     "end_time": "2021-08-11T21:47:34.621942",
     "exception": false,
     "start_time": "2021-08-11T21:47:34.459118",
     "status": "completed"
    },
    "tags": []
   },
   "source": [
    "![](https://i.imgur.com/z3KMxLA.png)"
   ]
  },
  {
   "cell_type": "code",
   "execution_count": 90,
   "metadata": {
    "execution": {
     "iopub.execute_input": "2021-08-11T21:47:34.964844Z",
     "iopub.status.busy": "2021-08-11T21:47:34.964048Z",
     "iopub.status.idle": "2021-08-11T21:51:09.462060Z",
     "shell.execute_reply": "2021-08-11T21:51:09.462760Z",
     "shell.execute_reply.started": "2021-08-11T21:01:51.151183Z"
    },
    "papermill": {
     "duration": 214.677952,
     "end_time": "2021-08-11T21:51:09.462945",
     "exception": false,
     "start_time": "2021-08-11T21:47:34.784993",
     "status": "completed"
    },
    "tags": []
   },
   "outputs": [
    {
     "name": "stdout",
     "output_type": "stream",
     "text": [
      "0.830 (+/-0.044) for {'n_estimators': 100, 'min_samples_split': 20, 'min_samples_leaf': 1, 'max_features': 'auto', 'max_depth': 75, 'bootstrap': True}\n",
      "0.840 (+/-0.073) for {'n_estimators': 2000, 'min_samples_split': 2, 'min_samples_leaf': 6, 'max_features': 'sqrt', 'max_depth': 3, 'bootstrap': True}\n",
      "0.843 (+/-0.065) for {'n_estimators': 100, 'min_samples_split': 2, 'min_samples_leaf': 1, 'max_features': 'auto', 'max_depth': 5, 'bootstrap': False}\n",
      "0.836 (+/-0.074) for {'n_estimators': 1000, 'min_samples_split': 30, 'min_samples_leaf': 18, 'max_features': 'auto', 'max_depth': None, 'bootstrap': True}\n",
      "0.843 (+/-0.075) for {'n_estimators': 1500, 'min_samples_split': 25, 'min_samples_leaf': 10, 'max_features': 'auto', 'max_depth': 10, 'bootstrap': True}\n",
      "0.823 (+/-0.058) for {'n_estimators': 100, 'min_samples_split': 5, 'min_samples_leaf': 8, 'max_features': 'sqrt', 'max_depth': 10, 'bootstrap': False}\n",
      "0.840 (+/-0.079) for {'n_estimators': 1500, 'min_samples_split': 15, 'min_samples_leaf': 20, 'max_features': 'sqrt', 'max_depth': 100, 'bootstrap': False}\n",
      "0.837 (+/-0.063) for {'n_estimators': 2000, 'min_samples_split': 35, 'min_samples_leaf': 4, 'max_features': 'auto', 'max_depth': 20, 'bootstrap': False}\n",
      "0.843 (+/-0.081) for {'n_estimators': 100, 'min_samples_split': 2, 'min_samples_leaf': 16, 'max_features': 'auto', 'max_depth': 75, 'bootstrap': True}\n",
      "0.792 (+/-0.063) for {'n_estimators': 500, 'min_samples_split': 2, 'min_samples_leaf': 1, 'max_features': 'auto', 'max_depth': 50, 'bootstrap': False}\n",
      "====================================================================================================\n",
      "====================================================================================================\n",
      "best score: 0.872\n",
      "best params: {'n_estimators': 1500, 'min_samples_split': 25, 'min_samples_leaf': 10, 'max_features': 'auto', 'max_depth': 10, 'bootstrap': True}\n",
      "best val score:  0.843\n"
     ]
    }
   ],
   "source": [
    "from sklearn.model_selection import RandomizedSearchCV\n",
    "params =  {'n_estimators': [100,500,1000,1500,2000], \n",
    "                                  'bootstrap': [True,False],\n",
    "                                  'max_depth': [3,5,10,20,50,75,100,None],\n",
    "                                  'max_features': ['auto','sqrt'],\n",
    "                                  'min_samples_leaf': [1,2,4,6,8,10,12,14,16,18,20],\n",
    "                                  'min_samples_split': [2,5,10,15,20,25,30,35]}\n",
    "\n",
    "clf = RandomizedSearchCV(random_forest, params, cv=10, return_train_score=True)\n",
    "best_clf = clf.fit(X_train,y_train)\n",
    "best_clf\n",
    "\n",
    "means=clf.cv_results_[\"mean_test_score\"]\n",
    "stds=clf.cv_results_[\"std_test_score\"]\n",
    "params=clf.cv_results_[\"params\"]\n",
    "\n",
    "for m,s,p in zip(means,stds,params):\n",
    "    print(\"%0.3f (+/-%0.3f) for %r\"%(m,2*s,p))\n",
    "    \n",
    "print(\"=\"*100)\n",
    "print(\"=\"*100)\n",
    "\n",
    "print('best score: {:0.3f}'.format(clf.score(X_train, y_train)))\n",
    "print('best params: {}'.format(clf.best_params_))\n",
    "print('best val score:  {:0.3f}'.format(clf.best_score_))"
   ]
  },
  {
   "cell_type": "markdown",
   "metadata": {
    "papermill": {
     "duration": 0.163505,
     "end_time": "2021-08-11T21:51:09.790756",
     "exception": false,
     "start_time": "2021-08-11T21:51:09.627251",
     "status": "completed"
    },
    "tags": []
   },
   "source": [
    "# We take the best model for predicting"
   ]
  },
  {
   "cell_type": "code",
   "execution_count": 91,
   "metadata": {
    "execution": {
     "iopub.execute_input": "2021-08-11T21:51:10.128707Z",
     "iopub.status.busy": "2021-08-11T21:51:10.128041Z",
     "iopub.status.idle": "2021-08-11T21:51:10.131211Z",
     "shell.execute_reply": "2021-08-11T21:51:10.130619Z",
     "shell.execute_reply.started": "2021-08-11T21:06:22.533312Z"
    },
    "papermill": {
     "duration": 0.176556,
     "end_time": "2021-08-11T21:51:10.131336",
     "exception": false,
     "start_time": "2021-08-11T21:51:09.954780",
     "status": "completed"
    },
    "tags": []
   },
   "outputs": [],
   "source": [
    "pca = PCA(n_components=14)\n",
    "pca.fit(X_test)\n",
    "#print(pca.explained_variance_ratio_)\n",
    "x=pca.transform(X_test)\n",
    "X_test = pd.DataFrame(x)"
   ]
  },
  {
   "cell_type": "code",
   "execution_count": 92,
   "metadata": {
    "execution": {
     "iopub.execute_input": "2021-08-11T21:51:10.469278Z",
     "iopub.status.busy": "2021-08-11T21:51:10.468550Z",
     "iopub.status.idle": "2021-08-11T21:51:10.471349Z",
     "shell.execute_reply": "2021-08-11T21:51:10.470941Z",
     "shell.execute_reply.started": "2021-08-11T21:07:53.380853Z"
    },
    "papermill": {
     "duration": 0.172458,
     "end_time": "2021-08-11T21:51:10.471465",
     "exception": false,
     "start_time": "2021-08-11T21:51:10.299007",
     "status": "completed"
    },
    "tags": []
   },
   "outputs": [],
   "source": [
    "best_model=RandomForestClassifier(n_estimators=500,bootstrap=False,max_depth=None,max_features='sqrt',min_samples_leaf=20,min_samples_split=5)"
   ]
  },
  {
   "cell_type": "code",
   "execution_count": 93,
   "metadata": {
    "execution": {
     "iopub.execute_input": "2021-08-11T21:51:10.840536Z",
     "iopub.status.busy": "2021-08-11T21:51:10.839653Z",
     "iopub.status.idle": "2021-08-11T21:51:11.936710Z",
     "shell.execute_reply": "2021-08-11T21:51:11.936205Z",
     "shell.execute_reply.started": "2021-08-11T21:07:57.951064Z"
    },
    "papermill": {
     "duration": 1.297509,
     "end_time": "2021-08-11T21:51:11.936879",
     "exception": false,
     "start_time": "2021-08-11T21:51:10.639370",
     "status": "completed"
    },
    "tags": []
   },
   "outputs": [],
   "source": [
    "best_model.fit(X_train,y_train)\n",
    "preds=best_model.predict(X_test)"
   ]
  },
  {
   "cell_type": "code",
   "execution_count": 94,
   "metadata": {
    "execution": {
     "iopub.execute_input": "2021-08-11T21:51:12.274567Z",
     "iopub.status.busy": "2021-08-11T21:51:12.273723Z",
     "iopub.status.idle": "2021-08-11T21:51:12.277764Z",
     "shell.execute_reply": "2021-08-11T21:51:12.277346Z",
     "shell.execute_reply.started": "2021-08-11T21:08:08.368308Z"
    },
    "papermill": {
     "duration": 0.176017,
     "end_time": "2021-08-11T21:51:12.277880",
     "exception": false,
     "start_time": "2021-08-11T21:51:12.101863",
     "status": "completed"
    },
    "tags": []
   },
   "outputs": [
    {
     "data": {
      "text/html": [
       "<div>\n",
       "<style scoped>\n",
       "    .dataframe tbody tr th:only-of-type {\n",
       "        vertical-align: middle;\n",
       "    }\n",
       "\n",
       "    .dataframe tbody tr th {\n",
       "        vertical-align: top;\n",
       "    }\n",
       "\n",
       "    .dataframe thead th {\n",
       "        text-align: right;\n",
       "    }\n",
       "</style>\n",
       "<table border=\"1\" class=\"dataframe\">\n",
       "  <thead>\n",
       "    <tr style=\"text-align: right;\">\n",
       "      <th></th>\n",
       "      <th>0</th>\n",
       "    </tr>\n",
       "  </thead>\n",
       "  <tbody>\n",
       "    <tr>\n",
       "      <th>0</th>\n",
       "      <td>0</td>\n",
       "    </tr>\n",
       "    <tr>\n",
       "      <th>1</th>\n",
       "      <td>0</td>\n",
       "    </tr>\n",
       "    <tr>\n",
       "      <th>2</th>\n",
       "      <td>0</td>\n",
       "    </tr>\n",
       "    <tr>\n",
       "      <th>3</th>\n",
       "      <td>0</td>\n",
       "    </tr>\n",
       "    <tr>\n",
       "      <th>4</th>\n",
       "      <td>0</td>\n",
       "    </tr>\n",
       "    <tr>\n",
       "      <th>...</th>\n",
       "      <td>...</td>\n",
       "    </tr>\n",
       "    <tr>\n",
       "      <th>413</th>\n",
       "      <td>0</td>\n",
       "    </tr>\n",
       "    <tr>\n",
       "      <th>414</th>\n",
       "      <td>1</td>\n",
       "    </tr>\n",
       "    <tr>\n",
       "      <th>415</th>\n",
       "      <td>0</td>\n",
       "    </tr>\n",
       "    <tr>\n",
       "      <th>416</th>\n",
       "      <td>0</td>\n",
       "    </tr>\n",
       "    <tr>\n",
       "      <th>417</th>\n",
       "      <td>0</td>\n",
       "    </tr>\n",
       "  </tbody>\n",
       "</table>\n",
       "<p>418 rows × 1 columns</p>\n",
       "</div>"
      ],
      "text/plain": [
       "     0\n",
       "0    0\n",
       "1    0\n",
       "2    0\n",
       "3    0\n",
       "4    0\n",
       "..  ..\n",
       "413  0\n",
       "414  1\n",
       "415  0\n",
       "416  0\n",
       "417  0\n",
       "\n",
       "[418 rows x 1 columns]"
      ]
     },
     "execution_count": 94,
     "metadata": {},
     "output_type": "execute_result"
    }
   ],
   "source": [
    "pd.DataFrame(preds)"
   ]
  },
  {
   "cell_type": "markdown",
   "metadata": {
    "papermill": {
     "duration": 0.164605,
     "end_time": "2021-08-11T21:51:12.607117",
     "exception": false,
     "start_time": "2021-08-11T21:51:12.442512",
     "status": "completed"
    },
    "tags": []
   },
   "source": [
    "# Creating the Submission File"
   ]
  },
  {
   "cell_type": "code",
   "execution_count": 95,
   "metadata": {
    "execution": {
     "iopub.execute_input": "2021-08-11T21:51:12.943765Z",
     "iopub.status.busy": "2021-08-11T21:51:12.943212Z",
     "iopub.status.idle": "2021-08-11T21:51:13.069787Z",
     "shell.execute_reply": "2021-08-11T21:51:13.069285Z",
     "shell.execute_reply.started": "2021-08-11T21:08:16.298161Z"
    },
    "papermill": {
     "duration": 0.29827,
     "end_time": "2021-08-11T21:51:13.069910",
     "exception": false,
     "start_time": "2021-08-11T21:51:12.771640",
     "status": "completed"
    },
    "tags": []
   },
   "outputs": [],
   "source": [
    "output = pd.DataFrame({ \"PassengerId\" : ids, \"Survived\": preds })\n",
    "output.to_csv(\"submission.csv\", index=False)"
   ]
  },
  {
   "cell_type": "markdown",
   "metadata": {
    "papermill": {
     "duration": 0.16703,
     "end_time": "2021-08-11T21:51:13.402375",
     "exception": false,
     "start_time": "2021-08-11T21:51:13.235345",
     "status": "completed"
    },
    "tags": []
   },
   "source": [
    "# Hope you liked it! Upvote if you liked and comment if you have any tip!"
   ]
  }
 ],
 "metadata": {
  "kernelspec": {
   "display_name": "Python 3",
   "language": "python",
   "name": "python3"
  },
  "language_info": {
   "codemirror_mode": {
    "name": "ipython",
    "version": 3
   },
   "file_extension": ".py",
   "mimetype": "text/x-python",
   "name": "python",
   "nbconvert_exporter": "python",
   "pygments_lexer": "ipython3",
   "version": "3.7.3"
  },
  "papermill": {
   "default_parameters": {},
   "duration": 748.405945,
   "end_time": "2021-08-11T21:51:14.593802",
   "environment_variables": {},
   "exception": null,
   "input_path": "__notebook__.ipynb",
   "output_path": "__notebook__.ipynb",
   "parameters": {},
   "start_time": "2021-08-11T21:38:46.187857",
   "version": "2.2.2"
  }
 },
 "nbformat": 4,
 "nbformat_minor": 4
}
